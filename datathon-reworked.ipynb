{
 "cells": [
  {
   "cell_type": "code",
   "execution_count": 1,
   "metadata": {},
   "outputs": [
    {
     "name": "stdout",
     "output_type": "stream",
     "text": [
      "Python 3.12.4\n"
     ]
    }
   ],
   "source": [
    "!python --version"
   ]
  },
  {
   "cell_type": "code",
   "execution_count": 2,
   "metadata": {},
   "outputs": [],
   "source": [
    "import time\n",
    "import pandas as pd\n",
    "import numpy as np\n",
    "import matplotlib.pyplot as plt\n",
    "import seaborn as sns\n",
    "import re\n",
    "from dateutil import parser\n",
    "from datetime import datetime\n",
    "\n",
    "\n",
    "pd.set_option('display.max_columns', None)\n",
    "pd.set_option('display.max_rows', 500)\n",
    "\n",
    "import warnings\n",
    "warnings.filterwarnings(\"ignore\")\n",
    "\n",
    "from sklearn.cluster import Birch\n",
    "from sklearn.decomposition import PCA\n",
    "from sklearn.manifold import TSNE\n",
    "from sklearn.mixture import GaussianMixture\n",
    "from sklearn.cluster import SpectralClustering, AgglomerativeClustering, KMeans\n",
    "from kmodes.kprototypes import KPrototypes\n",
    "\n",
    "from sklearn.ensemble import RandomForestClassifier\n",
    "from lightgbm import LGBMClassifier\n",
    "from xgboost import XGBClassifier\n",
    "from catboost import CatBoostClassifier\n",
    "\n",
    "#from lazypredict.Supervised import LazyClassifier\n",
    "from sklearn.model_selection import cross_val_score ,StratifiedKFold, train_test_split\n",
    "from sklearn.metrics import accuracy_score\n",
    "from sklearn.preprocessing import LabelEncoder, RobustScaler, MinMaxScaler, StandardScaler\n",
    "\n",
    "le = LabelEncoder()\n",
    "skf10 = StratifiedKFold(n_splits=10, shuffle=True,random_state=24)\n",
    "skf5 = StratifiedKFold(n_splits=5, shuffle=True,random_state=24)\n",
    "\n",
    "from lofo import LOFOImportance, Dataset, plot_importance\n",
    "from sklearn.feature_selection import RFECV\n",
    "from mlxtend.feature_selection import SequentialFeatureSelector as SFS\n",
    "\n",
    "import optuna\n",
    "from scipy.stats import mode\n",
    "from itertools import combinations\n",
    "from tqdm.notebook import tqdm\n",
    "tqdm.pandas()\n",
    "\n",
    "import unicodedata\n"
   ]
  },
  {
   "cell_type": "markdown",
   "metadata": {},
   "source": [
    "# 1. Veriye İlk Bakış"
   ]
  },
  {
   "cell_type": "code",
   "execution_count": 3,
   "metadata": {},
   "outputs": [],
   "source": [
    "test       = pd.read_csv('data\\\\test_x.csv').drop(['id'],axis=1)\n",
    "train      = pd.read_csv('data\\\\train.csv').drop(['id'],axis=1)\n",
    "train_copy = pd.read_csv('data\\\\train.csv').drop(['id'],axis=1)\n",
    "\n",
    "target_col = 'Degerlendirme Puani'\n",
    "categoric_cols = [col for col in train.columns if train[col].dtype == 'O']\n",
    "numeric_cols = [col for col in train.columns if train[col].dtype != 'O']\n",
    "numeric_cols.remove(target_col)"
   ]
  },
  {
   "cell_type": "code",
   "execution_count": 4,
   "metadata": {},
   "outputs": [
    {
     "data": {
      "text/html": [
       "<div>\n",
       "<style scoped>\n",
       "    .dataframe tbody tr th:only-of-type {\n",
       "        vertical-align: middle;\n",
       "    }\n",
       "\n",
       "    .dataframe tbody tr th {\n",
       "        vertical-align: top;\n",
       "    }\n",
       "\n",
       "    .dataframe thead th {\n",
       "        text-align: right;\n",
       "    }\n",
       "</style>\n",
       "<table border=\"1\" class=\"dataframe\">\n",
       "  <thead>\n",
       "    <tr style=\"text-align: right;\">\n",
       "      <th></th>\n",
       "      <th>Basvuru Yili</th>\n",
       "      <th>Degerlendirme Puani</th>\n",
       "      <th>Cinsiyet</th>\n",
       "      <th>Dogum Tarihi</th>\n",
       "      <th>Dogum Yeri</th>\n",
       "      <th>Ikametgah Sehri</th>\n",
       "      <th>Universite Adi</th>\n",
       "      <th>Universite Turu</th>\n",
       "      <th>Burslu ise Burs Yuzdesi</th>\n",
       "      <th>Burs Aliyor mu?</th>\n",
       "      <th>Bölüm</th>\n",
       "      <th>Universite Kacinci Sinif</th>\n",
       "      <th>Universite Not Ortalamasi</th>\n",
       "      <th>Daha Once Baska Bir Universiteden Mezun Olmus</th>\n",
       "      <th>Lise Adi</th>\n",
       "      <th>Lise Adi Diger</th>\n",
       "      <th>Lise Sehir</th>\n",
       "      <th>Lise Turu</th>\n",
       "      <th>Lise Bolumu</th>\n",
       "      <th>Lise Bolum Diger</th>\n",
       "      <th>Lise Mezuniyet Notu</th>\n",
       "      <th>Baska Bir Kurumdan Burs Aliyor mu?</th>\n",
       "      <th>Burs Aldigi Baska Kurum</th>\n",
       "      <th>Baska Kurumdan Aldigi Burs Miktari</th>\n",
       "      <th>Anne Egitim Durumu</th>\n",
       "      <th>Anne Calisma Durumu</th>\n",
       "      <th>Anne Sektor</th>\n",
       "      <th>Baba Egitim Durumu</th>\n",
       "      <th>Baba Calisma Durumu</th>\n",
       "      <th>Baba Sektor</th>\n",
       "      <th>Kardes Sayisi</th>\n",
       "      <th>Girisimcilik Kulupleri Tarzi Bir Kulube Uye misiniz?</th>\n",
       "      <th>Uye Oldugunuz Kulubun Ismi</th>\n",
       "      <th>Profesyonel Bir Spor Daliyla Mesgul musunuz?</th>\n",
       "      <th>Spor Dalindaki Rolunuz Nedir?</th>\n",
       "      <th>Aktif olarak bir STK üyesi misiniz?</th>\n",
       "      <th>Hangi STK'nin Uyesisiniz?</th>\n",
       "      <th>Stk Projesine Katildiniz Mi?</th>\n",
       "      <th>Girisimcilikle Ilgili Deneyiminiz Var Mi?</th>\n",
       "      <th>Girisimcilikle Ilgili Deneyiminizi Aciklayabilir misiniz?</th>\n",
       "      <th>Ingilizce Biliyor musunuz?</th>\n",
       "      <th>Ingilizce Seviyeniz?</th>\n",
       "      <th>Daha Önceden Mezun Olunduysa, Mezun Olunan Üniversite</th>\n",
       "    </tr>\n",
       "  </thead>\n",
       "  <tbody>\n",
       "    <tr>\n",
       "      <th>0</th>\n",
       "      <td>2014</td>\n",
       "      <td>52.0</td>\n",
       "      <td>Erkek</td>\n",
       "      <td>4/6/1994</td>\n",
       "      <td>Altindag, Ankara</td>\n",
       "      <td>Ankara</td>\n",
       "      <td>İHSAN DOĞRAMACI BİLKENT</td>\n",
       "      <td>Özel</td>\n",
       "      <td>100.0</td>\n",
       "      <td>Evet</td>\n",
       "      <td>Bilgisayar Muhendisligi</td>\n",
       "      <td>3</td>\n",
       "      <td>3.50-3</td>\n",
       "      <td>Hayır</td>\n",
       "      <td>Ankara Ataturk Anadolu Lisesi</td>\n",
       "      <td>NaN</td>\n",
       "      <td>Ankara</td>\n",
       "      <td>Anadolu lisesi</td>\n",
       "      <td>MF</td>\n",
       "      <td>NaN</td>\n",
       "      <td>3.50-3</td>\n",
       "      <td>Hayır</td>\n",
       "      <td>NaN</td>\n",
       "      <td>NaN</td>\n",
       "      <td>Üniversite</td>\n",
       "      <td>Hayır</td>\n",
       "      <td>0</td>\n",
       "      <td>Üniversite</td>\n",
       "      <td>Emekli</td>\n",
       "      <td>0</td>\n",
       "      <td>1</td>\n",
       "      <td>Evet</td>\n",
       "      <td>Bilkent IEEE Bilgisayar Toplulugu 2013-2014 Ba...</td>\n",
       "      <td>Evet</td>\n",
       "      <td>Diğer</td>\n",
       "      <td>Hayır</td>\n",
       "      <td>NaN</td>\n",
       "      <td>Evet</td>\n",
       "      <td>Hayır</td>\n",
       "      <td>NaN</td>\n",
       "      <td>NaN</td>\n",
       "      <td>NaN</td>\n",
       "      <td>NaN</td>\n",
       "    </tr>\n",
       "    <tr>\n",
       "      <th>1</th>\n",
       "      <td>2014</td>\n",
       "      <td>30.0</td>\n",
       "      <td>Erkek</td>\n",
       "      <td>6/11/1993</td>\n",
       "      <td>Üsküdar</td>\n",
       "      <td>İstanbul</td>\n",
       "      <td>İHSAN DOĞRAMACI BİLKENT</td>\n",
       "      <td>Özel</td>\n",
       "      <td>100.0</td>\n",
       "      <td>Hayır</td>\n",
       "      <td>Elektrik Elektronik Mühendisliği</td>\n",
       "      <td>3</td>\n",
       "      <td>3.00-2.50</td>\n",
       "      <td>Hayır</td>\n",
       "      <td>Betül Can Anadolu Lisesi</td>\n",
       "      <td>NaN</td>\n",
       "      <td>Ankara</td>\n",
       "      <td>Anadolu lisesi</td>\n",
       "      <td>MF</td>\n",
       "      <td>NaN</td>\n",
       "      <td>3.00 - 4.00</td>\n",
       "      <td>Hayır</td>\n",
       "      <td>NaN</td>\n",
       "      <td>NaN</td>\n",
       "      <td>Üniversite</td>\n",
       "      <td>Evet</td>\n",
       "      <td>Kamu</td>\n",
       "      <td>Yüksek Lisans / Doktora</td>\n",
       "      <td>Emekli</td>\n",
       "      <td>0</td>\n",
       "      <td>1</td>\n",
       "      <td>Hayır</td>\n",
       "      <td>NaN</td>\n",
       "      <td>Hayır</td>\n",
       "      <td>0</td>\n",
       "      <td>Hayır</td>\n",
       "      <td>NaN</td>\n",
       "      <td>Evet</td>\n",
       "      <td>Evet</td>\n",
       "      <td>Bilkent Cyberparkta bir şirkette Türkiye nin i...</td>\n",
       "      <td>NaN</td>\n",
       "      <td>NaN</td>\n",
       "      <td>NaN</td>\n",
       "    </tr>\n",
       "    <tr>\n",
       "      <th>2</th>\n",
       "      <td>2014</td>\n",
       "      <td>18.0</td>\n",
       "      <td>Erkek</td>\n",
       "      <td>1/15/1986</td>\n",
       "      <td>Samsun</td>\n",
       "      <td>İstanbul</td>\n",
       "      <td>ULUSLARARASI KIBRIS ÜNİVERSİTESİ</td>\n",
       "      <td>Özel</td>\n",
       "      <td>100.0</td>\n",
       "      <td>Hayır</td>\n",
       "      <td>Finans Yönetimi ve Pazarlama</td>\n",
       "      <td>1</td>\n",
       "      <td>NaN</td>\n",
       "      <td>Hayır</td>\n",
       "      <td>Batem</td>\n",
       "      <td>NaN</td>\n",
       "      <td>Ankara</td>\n",
       "      <td>Meslek lisesi</td>\n",
       "      <td>Elektirk</td>\n",
       "      <td>NaN</td>\n",
       "      <td>3.50-3</td>\n",
       "      <td>Hayır</td>\n",
       "      <td>NaN</td>\n",
       "      <td>NaN</td>\n",
       "      <td>İlkokul Mezunu</td>\n",
       "      <td>Hayır</td>\n",
       "      <td>0</td>\n",
       "      <td>İlkokul Mezunu</td>\n",
       "      <td>Evet</td>\n",
       "      <td>Özel Sektör</td>\n",
       "      <td>6</td>\n",
       "      <td>Evet</td>\n",
       "      <td>Tema</td>\n",
       "      <td>Hayır</td>\n",
       "      <td>0</td>\n",
       "      <td>Hayır</td>\n",
       "      <td>NaN</td>\n",
       "      <td>Hayır</td>\n",
       "      <td>Hayır</td>\n",
       "      <td>NaN</td>\n",
       "      <td>NaN</td>\n",
       "      <td>NaN</td>\n",
       "      <td>NaN</td>\n",
       "    </tr>\n",
       "    <tr>\n",
       "      <th>3</th>\n",
       "      <td>2014</td>\n",
       "      <td>40.0</td>\n",
       "      <td>Erkek</td>\n",
       "      <td>6/4/1991</td>\n",
       "      <td>Diyarbakır</td>\n",
       "      <td>İstanbul</td>\n",
       "      <td>İSTANBUL ŞEHİR ÜNİVERSİTESİ</td>\n",
       "      <td>Özel</td>\n",
       "      <td>100.0</td>\n",
       "      <td>Evet</td>\n",
       "      <td>Bilgisayar Mühendisliği</td>\n",
       "      <td>3</td>\n",
       "      <td>3.00-2.50</td>\n",
       "      <td>Hayır</td>\n",
       "      <td>Cumhuriyet Fen Lisesi</td>\n",
       "      <td>NaN</td>\n",
       "      <td>Diyarbakır</td>\n",
       "      <td>Fen lisesi</td>\n",
       "      <td>Sayısal</td>\n",
       "      <td>NaN</td>\n",
       "      <td>3.50-3</td>\n",
       "      <td>Hayır</td>\n",
       "      <td>NaN</td>\n",
       "      <td>NaN</td>\n",
       "      <td>İlkokul Mezunu</td>\n",
       "      <td>Hayır</td>\n",
       "      <td>0</td>\n",
       "      <td>Üniversite</td>\n",
       "      <td>Emekli</td>\n",
       "      <td>0</td>\n",
       "      <td>10</td>\n",
       "      <td>Evet</td>\n",
       "      <td>Güzel Konuşma ve yazma kulübü</td>\n",
       "      <td>Hayır</td>\n",
       "      <td>0</td>\n",
       "      <td>Hayır</td>\n",
       "      <td>NaN</td>\n",
       "      <td>Evet</td>\n",
       "      <td>Hayır</td>\n",
       "      <td>NaN</td>\n",
       "      <td>NaN</td>\n",
       "      <td>NaN</td>\n",
       "      <td>NaN</td>\n",
       "    </tr>\n",
       "    <tr>\n",
       "      <th>4</th>\n",
       "      <td>2014</td>\n",
       "      <td>24.0</td>\n",
       "      <td>Erkek</td>\n",
       "      <td>2 Kasim 1992</td>\n",
       "      <td>Ankara/Altındağ</td>\n",
       "      <td>Ankara</td>\n",
       "      <td>TURGUT ÖZAL ÜNİVERSİTESİ</td>\n",
       "      <td>Özel</td>\n",
       "      <td>100.0</td>\n",
       "      <td>Evet</td>\n",
       "      <td>Siyaset Bilimi ve Uluslararası ilişkiler</td>\n",
       "      <td>NaN</td>\n",
       "      <td>3.00-2.50</td>\n",
       "      <td>Hayır</td>\n",
       "      <td>Samanyolu Lisesi</td>\n",
       "      <td>NaN</td>\n",
       "      <td>Ankara</td>\n",
       "      <td>Özel lisesi</td>\n",
       "      <td>TM</td>\n",
       "      <td>NaN</td>\n",
       "      <td>3.00 - 4.00</td>\n",
       "      <td>Hayır</td>\n",
       "      <td>NaN</td>\n",
       "      <td>NaN</td>\n",
       "      <td>İlkokul Mezunu</td>\n",
       "      <td>Hayır</td>\n",
       "      <td>0</td>\n",
       "      <td>Üniversite</td>\n",
       "      <td>Emekli</td>\n",
       "      <td>0</td>\n",
       "      <td>1</td>\n",
       "      <td>Hayır</td>\n",
       "      <td>NaN</td>\n",
       "      <td>Hayır</td>\n",
       "      <td>0</td>\n",
       "      <td>Hayır</td>\n",
       "      <td>NaN</td>\n",
       "      <td>Hayır</td>\n",
       "      <td>Hayır</td>\n",
       "      <td>NaN</td>\n",
       "      <td>NaN</td>\n",
       "      <td>NaN</td>\n",
       "      <td>NaN</td>\n",
       "    </tr>\n",
       "    <tr>\n",
       "      <th>...</th>\n",
       "      <td>...</td>\n",
       "      <td>...</td>\n",
       "      <td>...</td>\n",
       "      <td>...</td>\n",
       "      <td>...</td>\n",
       "      <td>...</td>\n",
       "      <td>...</td>\n",
       "      <td>...</td>\n",
       "      <td>...</td>\n",
       "      <td>...</td>\n",
       "      <td>...</td>\n",
       "      <td>...</td>\n",
       "      <td>...</td>\n",
       "      <td>...</td>\n",
       "      <td>...</td>\n",
       "      <td>...</td>\n",
       "      <td>...</td>\n",
       "      <td>...</td>\n",
       "      <td>...</td>\n",
       "      <td>...</td>\n",
       "      <td>...</td>\n",
       "      <td>...</td>\n",
       "      <td>...</td>\n",
       "      <td>...</td>\n",
       "      <td>...</td>\n",
       "      <td>...</td>\n",
       "      <td>...</td>\n",
       "      <td>...</td>\n",
       "      <td>...</td>\n",
       "      <td>...</td>\n",
       "      <td>...</td>\n",
       "      <td>...</td>\n",
       "      <td>...</td>\n",
       "      <td>...</td>\n",
       "      <td>...</td>\n",
       "      <td>...</td>\n",
       "      <td>...</td>\n",
       "      <td>...</td>\n",
       "      <td>...</td>\n",
       "      <td>...</td>\n",
       "      <td>...</td>\n",
       "      <td>...</td>\n",
       "      <td>...</td>\n",
       "    </tr>\n",
       "    <tr>\n",
       "      <th>65120</th>\n",
       "      <td>2022</td>\n",
       "      <td>0.0</td>\n",
       "      <td>Erkek</td>\n",
       "      <td>18.06.2003 00:00</td>\n",
       "      <td>İstanbul</td>\n",
       "      <td>İstanbul</td>\n",
       "      <td>İstanbul Aydın Üniversitesi</td>\n",
       "      <td>Özel</td>\n",
       "      <td>NaN</td>\n",
       "      <td>Evet</td>\n",
       "      <td>Muhasebe</td>\n",
       "      <td>2</td>\n",
       "      <td>0 - 1.79</td>\n",
       "      <td>NaN</td>\n",
       "      <td>BAĞCILAR EDİP İPLİK MESLEKİ VE TEKNİK ANADOLU ...</td>\n",
       "      <td>NaN</td>\n",
       "      <td>İstanbul</td>\n",
       "      <td>Devlet</td>\n",
       "      <td>Eşit Ağırlık</td>\n",
       "      <td>NaN</td>\n",
       "      <td>50 - 74</td>\n",
       "      <td>Hayır</td>\n",
       "      <td>-</td>\n",
       "      <td>-</td>\n",
       "      <td>İlkokul</td>\n",
       "      <td>Hayır</td>\n",
       "      <td>-</td>\n",
       "      <td>Ortaokul</td>\n",
       "      <td>Evet</td>\n",
       "      <td>Özel Sektör</td>\n",
       "      <td>4.0</td>\n",
       "      <td>Hayır</td>\n",
       "      <td>NaN</td>\n",
       "      <td>Hayır</td>\n",
       "      <td>-</td>\n",
       "      <td>Hayır</td>\n",
       "      <td>-</td>\n",
       "      <td>NaN</td>\n",
       "      <td>Hayır</td>\n",
       "      <td>-</td>\n",
       "      <td>Hayır</td>\n",
       "      <td>NaN</td>\n",
       "      <td>NaN</td>\n",
       "    </tr>\n",
       "    <tr>\n",
       "      <th>65121</th>\n",
       "      <td>2022</td>\n",
       "      <td>0.0</td>\n",
       "      <td>Erkek</td>\n",
       "      <td>18.04.2002 00:00</td>\n",
       "      <td>Hatay</td>\n",
       "      <td>Muğla</td>\n",
       "      <td>Muğla Sıtkı Koçman Üniversitesi</td>\n",
       "      <td>Devlet</td>\n",
       "      <td>NaN</td>\n",
       "      <td>Hayır</td>\n",
       "      <td>Turizm İşletmeciliği</td>\n",
       "      <td>1</td>\n",
       "      <td>Hazırlığım</td>\n",
       "      <td>NaN</td>\n",
       "      <td>Ahmet Vefik paşa Anadolu lisesi</td>\n",
       "      <td>NaN</td>\n",
       "      <td>Bursa</td>\n",
       "      <td>Devlet</td>\n",
       "      <td>Eşit Ağırlık</td>\n",
       "      <td>NaN</td>\n",
       "      <td>75 - 100</td>\n",
       "      <td>Hayır</td>\n",
       "      <td>-</td>\n",
       "      <td>-</td>\n",
       "      <td>Lise</td>\n",
       "      <td>Hayır</td>\n",
       "      <td>-</td>\n",
       "      <td>Lise</td>\n",
       "      <td>Evet</td>\n",
       "      <td>Özel Sektör</td>\n",
       "      <td>4.0</td>\n",
       "      <td>Hayır</td>\n",
       "      <td>NaN</td>\n",
       "      <td>Hayır</td>\n",
       "      <td>-</td>\n",
       "      <td>Hayır</td>\n",
       "      <td>-</td>\n",
       "      <td>NaN</td>\n",
       "      <td>Hayır</td>\n",
       "      <td>-</td>\n",
       "      <td>Hayır</td>\n",
       "      <td>NaN</td>\n",
       "      <td>NaN</td>\n",
       "    </tr>\n",
       "    <tr>\n",
       "      <th>65122</th>\n",
       "      <td>2022</td>\n",
       "      <td>0.0</td>\n",
       "      <td>Erkek</td>\n",
       "      <td>23.10.1999 00:00</td>\n",
       "      <td>Mersin</td>\n",
       "      <td>Mersin</td>\n",
       "      <td>Süleyman Demirel Üniversitesi</td>\n",
       "      <td>Devlet</td>\n",
       "      <td>NaN</td>\n",
       "      <td>Hayır</td>\n",
       "      <td>Otomotiv Mühendisliği</td>\n",
       "      <td>4</td>\n",
       "      <td>0 - 1.79</td>\n",
       "      <td>NaN</td>\n",
       "      <td>Açık lise</td>\n",
       "      <td>NaN</td>\n",
       "      <td>Mersin</td>\n",
       "      <td>Devlet</td>\n",
       "      <td>Sayısal</td>\n",
       "      <td>NaN</td>\n",
       "      <td>75 - 100</td>\n",
       "      <td>Evet</td>\n",
       "      <td>Kyk</td>\n",
       "      <td>500₺ - 999₺</td>\n",
       "      <td>Lise</td>\n",
       "      <td>Hayır</td>\n",
       "      <td>-</td>\n",
       "      <td>Lise</td>\n",
       "      <td>Hayır</td>\n",
       "      <td>-</td>\n",
       "      <td>3.0</td>\n",
       "      <td>Hayır</td>\n",
       "      <td>NaN</td>\n",
       "      <td>Hayır</td>\n",
       "      <td>-</td>\n",
       "      <td>Hayır</td>\n",
       "      <td>-</td>\n",
       "      <td>NaN</td>\n",
       "      <td>Hayır</td>\n",
       "      <td>-</td>\n",
       "      <td>Hayır</td>\n",
       "      <td>NaN</td>\n",
       "      <td>NaN</td>\n",
       "    </tr>\n",
       "    <tr>\n",
       "      <th>65123</th>\n",
       "      <td>2022</td>\n",
       "      <td>0.0</td>\n",
       "      <td>Erkek</td>\n",
       "      <td>17.11.2000 00:00</td>\n",
       "      <td>Samsun</td>\n",
       "      <td>Samsun</td>\n",
       "      <td>Karabük Üniversitesi</td>\n",
       "      <td>Devlet</td>\n",
       "      <td>NaN</td>\n",
       "      <td>Hayır</td>\n",
       "      <td>Sanat Tarihi</td>\n",
       "      <td>3</td>\n",
       "      <td>0 - 1.79</td>\n",
       "      <td>NaN</td>\n",
       "      <td>Samsun Terme Karadeniz mesleki teknik Anadolu ...</td>\n",
       "      <td>NaN</td>\n",
       "      <td>Samsun</td>\n",
       "      <td>Devlet</td>\n",
       "      <td>Sözel</td>\n",
       "      <td>NaN</td>\n",
       "      <td>50 - 74</td>\n",
       "      <td>Hayır</td>\n",
       "      <td>-</td>\n",
       "      <td>-</td>\n",
       "      <td>İlkokul</td>\n",
       "      <td>Evet</td>\n",
       "      <td>Özel Sektör</td>\n",
       "      <td>Lise</td>\n",
       "      <td>Evet</td>\n",
       "      <td>Kamu</td>\n",
       "      <td>2.0</td>\n",
       "      <td>Hayır</td>\n",
       "      <td>NaN</td>\n",
       "      <td>Hayır</td>\n",
       "      <td>-</td>\n",
       "      <td>Hayır</td>\n",
       "      <td>-</td>\n",
       "      <td>NaN</td>\n",
       "      <td>Hayır</td>\n",
       "      <td>-</td>\n",
       "      <td>Hayır</td>\n",
       "      <td>NaN</td>\n",
       "      <td>NaN</td>\n",
       "    </tr>\n",
       "    <tr>\n",
       "      <th>65124</th>\n",
       "      <td>2022</td>\n",
       "      <td>NaN</td>\n",
       "      <td>Kadın</td>\n",
       "      <td>27.04.2000 00:00</td>\n",
       "      <td>Hatay</td>\n",
       "      <td>Hatay</td>\n",
       "      <td>Gaziantep Üniversitesi</td>\n",
       "      <td>Devlet</td>\n",
       "      <td>NaN</td>\n",
       "      <td>Hayır</td>\n",
       "      <td>İngiliz Dili ve Edebiyatı</td>\n",
       "      <td>4</td>\n",
       "      <td>2.50 - 2.99</td>\n",
       "      <td>NaN</td>\n",
       "      <td>Antakya Anadolu Lisesi</td>\n",
       "      <td>NaN</td>\n",
       "      <td>Hatay</td>\n",
       "      <td>Devlet</td>\n",
       "      <td>Dil</td>\n",
       "      <td>NaN</td>\n",
       "      <td>75 - 100</td>\n",
       "      <td>Evet</td>\n",
       "      <td>Kredi Yurtlar Kurumu</td>\n",
       "      <td>500₺ - 999₺</td>\n",
       "      <td>İlkokul</td>\n",
       "      <td>Hayır</td>\n",
       "      <td>-</td>\n",
       "      <td>İlkokul</td>\n",
       "      <td>Evet</td>\n",
       "      <td>Diğer</td>\n",
       "      <td>2.0</td>\n",
       "      <td>Hayır</td>\n",
       "      <td>NaN</td>\n",
       "      <td>Evet</td>\n",
       "      <td>Takım Oyuncusu</td>\n",
       "      <td>Evet</td>\n",
       "      <td>Genç Kızılay Topluluğu'nda 3 yıldır gönüllüyüm...</td>\n",
       "      <td>NaN</td>\n",
       "      <td>Evet</td>\n",
       "      <td>Aile desteğiyle yemek sektöründe küçük bir işl...</td>\n",
       "      <td>Evet</td>\n",
       "      <td>NaN</td>\n",
       "      <td>NaN</td>\n",
       "    </tr>\n",
       "  </tbody>\n",
       "</table>\n",
       "<p>65125 rows × 43 columns</p>\n",
       "</div>"
      ],
      "text/plain": [
       "       Basvuru Yili  Degerlendirme Puani Cinsiyet      Dogum Tarihi  \\\n",
       "0              2014                 52.0    Erkek          4/6/1994   \n",
       "1              2014                 30.0    Erkek         6/11/1993   \n",
       "2              2014                 18.0    Erkek         1/15/1986   \n",
       "3              2014                 40.0    Erkek          6/4/1991   \n",
       "4              2014                 24.0    Erkek      2 Kasim 1992   \n",
       "...             ...                  ...      ...               ...   \n",
       "65120          2022                  0.0    Erkek  18.06.2003 00:00   \n",
       "65121          2022                  0.0    Erkek  18.04.2002 00:00   \n",
       "65122          2022                  0.0    Erkek  23.10.1999 00:00   \n",
       "65123          2022                  0.0    Erkek  17.11.2000 00:00   \n",
       "65124          2022                  NaN    Kadın  27.04.2000 00:00   \n",
       "\n",
       "             Dogum Yeri Ikametgah Sehri                    Universite Adi  \\\n",
       "0      Altindag, Ankara          Ankara           İHSAN DOĞRAMACI BİLKENT   \n",
       "1               Üsküdar        İstanbul           İHSAN DOĞRAMACI BİLKENT   \n",
       "2                Samsun        İstanbul  ULUSLARARASI KIBRIS ÜNİVERSİTESİ   \n",
       "3            Diyarbakır        İstanbul       İSTANBUL ŞEHİR ÜNİVERSİTESİ   \n",
       "4       Ankara/Altındağ          Ankara          TURGUT ÖZAL ÜNİVERSİTESİ   \n",
       "...                 ...             ...                               ...   \n",
       "65120          İstanbul        İstanbul       İstanbul Aydın Üniversitesi   \n",
       "65121             Hatay           Muğla   Muğla Sıtkı Koçman Üniversitesi   \n",
       "65122            Mersin          Mersin     Süleyman Demirel Üniversitesi   \n",
       "65123            Samsun          Samsun              Karabük Üniversitesi   \n",
       "65124             Hatay           Hatay            Gaziantep Üniversitesi   \n",
       "\n",
       "      Universite Turu  Burslu ise Burs Yuzdesi Burs Aliyor mu?  \\\n",
       "0                Özel                    100.0            Evet   \n",
       "1                Özel                    100.0           Hayır   \n",
       "2                Özel                    100.0           Hayır   \n",
       "3                Özel                    100.0            Evet   \n",
       "4                Özel                    100.0            Evet   \n",
       "...               ...                      ...             ...   \n",
       "65120            Özel                      NaN            Evet   \n",
       "65121          Devlet                      NaN           Hayır   \n",
       "65122          Devlet                      NaN           Hayır   \n",
       "65123          Devlet                      NaN           Hayır   \n",
       "65124          Devlet                      NaN           Hayır   \n",
       "\n",
       "                                          Bölüm Universite Kacinci Sinif  \\\n",
       "0                       Bilgisayar Muhendisligi                        3   \n",
       "1              Elektrik Elektronik Mühendisliği                        3   \n",
       "2                  Finans Yönetimi ve Pazarlama                        1   \n",
       "3                       Bilgisayar Mühendisliği                        3   \n",
       "4      Siyaset Bilimi ve Uluslararası ilişkiler                      NaN   \n",
       "...                                         ...                      ...   \n",
       "65120                                  Muhasebe                        2   \n",
       "65121                      Turizm İşletmeciliği                        1   \n",
       "65122                     Otomotiv Mühendisliği                        4   \n",
       "65123                              Sanat Tarihi                        3   \n",
       "65124                 İngiliz Dili ve Edebiyatı                        4   \n",
       "\n",
       "      Universite Not Ortalamasi Daha Once Baska Bir Universiteden Mezun Olmus  \\\n",
       "0                        3.50-3                                         Hayır   \n",
       "1                     3.00-2.50                                         Hayır   \n",
       "2                           NaN                                         Hayır   \n",
       "3                     3.00-2.50                                         Hayır   \n",
       "4                     3.00-2.50                                         Hayır   \n",
       "...                         ...                                           ...   \n",
       "65120                  0 - 1.79                                           NaN   \n",
       "65121                Hazırlığım                                           NaN   \n",
       "65122                  0 - 1.79                                           NaN   \n",
       "65123                  0 - 1.79                                           NaN   \n",
       "65124               2.50 - 2.99                                           NaN   \n",
       "\n",
       "                                                Lise Adi Lise Adi Diger  \\\n",
       "0                          Ankara Ataturk Anadolu Lisesi            NaN   \n",
       "1                               Betül Can Anadolu Lisesi            NaN   \n",
       "2                                                  Batem            NaN   \n",
       "3                                  Cumhuriyet Fen Lisesi            NaN   \n",
       "4                                       Samanyolu Lisesi            NaN   \n",
       "...                                                  ...            ...   \n",
       "65120  BAĞCILAR EDİP İPLİK MESLEKİ VE TEKNİK ANADOLU ...            NaN   \n",
       "65121                    Ahmet Vefik paşa Anadolu lisesi            NaN   \n",
       "65122                                          Açık lise            NaN   \n",
       "65123  Samsun Terme Karadeniz mesleki teknik Anadolu ...            NaN   \n",
       "65124                             Antakya Anadolu Lisesi            NaN   \n",
       "\n",
       "       Lise Sehir       Lise Turu   Lise Bolumu Lise Bolum Diger  \\\n",
       "0          Ankara  Anadolu lisesi            MF              NaN   \n",
       "1          Ankara  Anadolu lisesi            MF              NaN   \n",
       "2          Ankara   Meslek lisesi      Elektirk              NaN   \n",
       "3      Diyarbakır      Fen lisesi       Sayısal              NaN   \n",
       "4          Ankara     Özel lisesi            TM              NaN   \n",
       "...           ...             ...           ...              ...   \n",
       "65120    İstanbul          Devlet  Eşit Ağırlık              NaN   \n",
       "65121       Bursa          Devlet  Eşit Ağırlık              NaN   \n",
       "65122      Mersin          Devlet       Sayısal              NaN   \n",
       "65123      Samsun          Devlet         Sözel              NaN   \n",
       "65124       Hatay          Devlet           Dil              NaN   \n",
       "\n",
       "      Lise Mezuniyet Notu Baska Bir Kurumdan Burs Aliyor mu?  \\\n",
       "0                  3.50-3                              Hayır   \n",
       "1             3.00 - 4.00                              Hayır   \n",
       "2                  3.50-3                              Hayır   \n",
       "3                  3.50-3                              Hayır   \n",
       "4             3.00 - 4.00                              Hayır   \n",
       "...                   ...                                ...   \n",
       "65120             50 - 74                              Hayır   \n",
       "65121            75 - 100                              Hayır   \n",
       "65122            75 - 100                               Evet   \n",
       "65123             50 - 74                              Hayır   \n",
       "65124            75 - 100                               Evet   \n",
       "\n",
       "      Burs Aldigi Baska Kurum Baska Kurumdan Aldigi Burs Miktari  \\\n",
       "0                         NaN                                NaN   \n",
       "1                         NaN                                NaN   \n",
       "2                         NaN                                NaN   \n",
       "3                         NaN                                NaN   \n",
       "4                         NaN                                NaN   \n",
       "...                       ...                                ...   \n",
       "65120                       -                                  -   \n",
       "65121                       -                                  -   \n",
       "65122                     Kyk                        500₺ - 999₺   \n",
       "65123                       -                                  -   \n",
       "65124    Kredi Yurtlar Kurumu                        500₺ - 999₺   \n",
       "\n",
       "      Anne Egitim Durumu Anne Calisma Durumu  Anne Sektor  \\\n",
       "0             Üniversite               Hayır            0   \n",
       "1             Üniversite                Evet         Kamu   \n",
       "2         İlkokul Mezunu               Hayır            0   \n",
       "3         İlkokul Mezunu               Hayır            0   \n",
       "4         İlkokul Mezunu               Hayır            0   \n",
       "...                  ...                 ...          ...   \n",
       "65120            İlkokul               Hayır            -   \n",
       "65121               Lise               Hayır            -   \n",
       "65122               Lise               Hayır            -   \n",
       "65123            İlkokul                Evet  Özel Sektör   \n",
       "65124            İlkokul               Hayır            -   \n",
       "\n",
       "            Baba Egitim Durumu Baba Calisma Durumu  Baba Sektor Kardes Sayisi  \\\n",
       "0                   Üniversite              Emekli            0             1   \n",
       "1      Yüksek Lisans / Doktora              Emekli            0             1   \n",
       "2               İlkokul Mezunu                Evet  Özel Sektör             6   \n",
       "3                   Üniversite              Emekli            0            10   \n",
       "4                   Üniversite              Emekli            0             1   \n",
       "...                        ...                 ...          ...           ...   \n",
       "65120                 Ortaokul                Evet  Özel Sektör           4.0   \n",
       "65121                     Lise                Evet  Özel Sektör           4.0   \n",
       "65122                     Lise               Hayır            -           3.0   \n",
       "65123                     Lise                Evet         Kamu           2.0   \n",
       "65124                  İlkokul                Evet        Diğer           2.0   \n",
       "\n",
       "      Girisimcilik Kulupleri Tarzi Bir Kulube Uye misiniz?  \\\n",
       "0                                                   Evet     \n",
       "1                                                  Hayır     \n",
       "2                                                   Evet     \n",
       "3                                                   Evet     \n",
       "4                                                  Hayır     \n",
       "...                                                  ...     \n",
       "65120                                              Hayır     \n",
       "65121                                              Hayır     \n",
       "65122                                              Hayır     \n",
       "65123                                              Hayır     \n",
       "65124                                              Hayır     \n",
       "\n",
       "                              Uye Oldugunuz Kulubun Ismi  \\\n",
       "0      Bilkent IEEE Bilgisayar Toplulugu 2013-2014 Ba...   \n",
       "1                                                    NaN   \n",
       "2                                                   Tema   \n",
       "3                          Güzel Konuşma ve yazma kulübü   \n",
       "4                                                    NaN   \n",
       "...                                                  ...   \n",
       "65120                                                NaN   \n",
       "65121                                                NaN   \n",
       "65122                                                NaN   \n",
       "65123                                                NaN   \n",
       "65124                                                NaN   \n",
       "\n",
       "      Profesyonel Bir Spor Daliyla Mesgul musunuz?  \\\n",
       "0                                             Evet   \n",
       "1                                            Hayır   \n",
       "2                                            Hayır   \n",
       "3                                            Hayır   \n",
       "4                                            Hayır   \n",
       "...                                            ...   \n",
       "65120                                        Hayır   \n",
       "65121                                        Hayır   \n",
       "65122                                        Hayır   \n",
       "65123                                        Hayır   \n",
       "65124                                         Evet   \n",
       "\n",
       "      Spor Dalindaki Rolunuz Nedir? Aktif olarak bir STK üyesi misiniz?  \\\n",
       "0                             Diğer                               Hayır   \n",
       "1                                 0                               Hayır   \n",
       "2                                 0                               Hayır   \n",
       "3                                 0                               Hayır   \n",
       "4                                 0                               Hayır   \n",
       "...                             ...                                 ...   \n",
       "65120                             -                               Hayır   \n",
       "65121                             -                               Hayır   \n",
       "65122                             -                               Hayır   \n",
       "65123                             -                               Hayır   \n",
       "65124                Takım Oyuncusu                                Evet   \n",
       "\n",
       "                               Hangi STK'nin Uyesisiniz?  \\\n",
       "0                                                    NaN   \n",
       "1                                                    NaN   \n",
       "2                                                    NaN   \n",
       "3                                                    NaN   \n",
       "4                                                    NaN   \n",
       "...                                                  ...   \n",
       "65120                                                  -   \n",
       "65121                                                  -   \n",
       "65122                                                  -   \n",
       "65123                                                  -   \n",
       "65124  Genç Kızılay Topluluğu'nda 3 yıldır gönüllüyüm...   \n",
       "\n",
       "      Stk Projesine Katildiniz Mi? Girisimcilikle Ilgili Deneyiminiz Var Mi?  \\\n",
       "0                             Evet                                     Hayır   \n",
       "1                             Evet                                      Evet   \n",
       "2                            Hayır                                     Hayır   \n",
       "3                             Evet                                     Hayır   \n",
       "4                            Hayır                                     Hayır   \n",
       "...                            ...                                       ...   \n",
       "65120                          NaN                                     Hayır   \n",
       "65121                          NaN                                     Hayır   \n",
       "65122                          NaN                                     Hayır   \n",
       "65123                          NaN                                     Hayır   \n",
       "65124                          NaN                                      Evet   \n",
       "\n",
       "      Girisimcilikle Ilgili Deneyiminizi Aciklayabilir misiniz?  \\\n",
       "0                                                    NaN          \n",
       "1      Bilkent Cyberparkta bir şirkette Türkiye nin i...          \n",
       "2                                                    NaN          \n",
       "3                                                    NaN          \n",
       "4                                                    NaN          \n",
       "...                                                  ...          \n",
       "65120                                                  -          \n",
       "65121                                                  -          \n",
       "65122                                                  -          \n",
       "65123                                                  -          \n",
       "65124  Aile desteğiyle yemek sektöründe küçük bir işl...          \n",
       "\n",
       "      Ingilizce Biliyor musunuz? Ingilizce Seviyeniz?  \\\n",
       "0                            NaN                  NaN   \n",
       "1                            NaN                  NaN   \n",
       "2                            NaN                  NaN   \n",
       "3                            NaN                  NaN   \n",
       "4                            NaN                  NaN   \n",
       "...                          ...                  ...   \n",
       "65120                      Hayır                  NaN   \n",
       "65121                      Hayır                  NaN   \n",
       "65122                      Hayır                  NaN   \n",
       "65123                      Hayır                  NaN   \n",
       "65124                       Evet                  NaN   \n",
       "\n",
       "      Daha Önceden Mezun Olunduysa, Mezun Olunan Üniversite  \n",
       "0                                                    NaN     \n",
       "1                                                    NaN     \n",
       "2                                                    NaN     \n",
       "3                                                    NaN     \n",
       "4                                                    NaN     \n",
       "...                                                  ...     \n",
       "65120                                                NaN     \n",
       "65121                                                NaN     \n",
       "65122                                                NaN     \n",
       "65123                                                NaN     \n",
       "65124                                                NaN     \n",
       "\n",
       "[65125 rows x 43 columns]"
      ]
     },
     "execution_count": 4,
     "metadata": {},
     "output_type": "execute_result"
    }
   ],
   "source": [
    "train"
   ]
  },
  {
   "cell_type": "code",
   "execution_count": 5,
   "metadata": {},
   "outputs": [
    {
     "name": "stdout",
     "output_type": "stream",
     "text": [
      "<class 'pandas.core.frame.DataFrame'>\n",
      "RangeIndex: 65125 entries, 0 to 65124\n",
      "Data columns (total 43 columns):\n",
      " #   Column                                                     Non-Null Count  Dtype  \n",
      "---  ------                                                     --------------  -----  \n",
      " 0   Basvuru Yili                                               65125 non-null  int64  \n",
      " 1   Degerlendirme Puani                                        65124 non-null  float64\n",
      " 2   Cinsiyet                                                   64956 non-null  object \n",
      " 3   Dogum Tarihi                                               64948 non-null  object \n",
      " 4   Dogum Yeri                                                 64334 non-null  object \n",
      " 5   Ikametgah Sehri                                            63088 non-null  object \n",
      " 6   Universite Adi                                             64993 non-null  object \n",
      " 7   Universite Turu                                            64870 non-null  object \n",
      " 8   Burslu ise Burs Yuzdesi                                    22440 non-null  float64\n",
      " 9   Burs Aliyor mu?                                            65125 non-null  object \n",
      " 10  Bölüm                                                      64894 non-null  object \n",
      " 11  Universite Kacinci Sinif                                   64751 non-null  object \n",
      " 12  Universite Not Ortalamasi                                  62372 non-null  object \n",
      " 13  Daha Once Baska Bir Universiteden Mezun Olmus              27780 non-null  object \n",
      " 14  Lise Adi                                                   64741 non-null  object \n",
      " 15  Lise Adi Diger                                             4733 non-null   object \n",
      " 16  Lise Sehir                                                 64071 non-null  object \n",
      " 17  Lise Turu                                                  64278 non-null  object \n",
      " 18  Lise Bolumu                                                64116 non-null  object \n",
      " 19  Lise Bolum Diger                                           1526 non-null   object \n",
      " 20  Lise Mezuniyet Notu                                        59208 non-null  object \n",
      " 21  Baska Bir Kurumdan Burs Aliyor mu?                         64894 non-null  object \n",
      " 22  Burs Aldigi Baska Kurum                                    21148 non-null  object \n",
      " 23  Baska Kurumdan Aldigi Burs Miktari                         20963 non-null  object \n",
      " 24  Anne Egitim Durumu                                         64719 non-null  object \n",
      " 25  Anne Calisma Durumu                                        53229 non-null  object \n",
      " 26  Anne Sektor                                                30588 non-null  object \n",
      " 27  Baba Egitim Durumu                                         64118 non-null  object \n",
      " 28  Baba Calisma Durumu                                        52507 non-null  object \n",
      " 29  Baba Sektor                                                44747 non-null  object \n",
      " 30  Kardes Sayisi                                              63993 non-null  object \n",
      " 31  Girisimcilik Kulupleri Tarzi Bir Kulube Uye misiniz?       63296 non-null  object \n",
      " 32  Uye Oldugunuz Kulubun Ismi                                 16434 non-null  object \n",
      " 33  Profesyonel Bir Spor Daliyla Mesgul musunuz?               64010 non-null  object \n",
      " 34  Spor Dalindaki Rolunuz Nedir?                              32850 non-null  object \n",
      " 35  Aktif olarak bir STK üyesi misiniz?                        52283 non-null  object \n",
      " 36  Hangi STK'nin Uyesisiniz?                                  15607 non-null  object \n",
      " 37  Stk Projesine Katildiniz Mi?                               36817 non-null  object \n",
      " 38  Girisimcilikle Ilgili Deneyiminiz Var Mi?                  52285 non-null  object \n",
      " 39  Girisimcilikle Ilgili Deneyiminizi Aciklayabilir misiniz?  14599 non-null  object \n",
      " 40  Ingilizce Biliyor musunuz?                                 58671 non-null  object \n",
      " 41  Ingilizce Seviyeniz?                                       28592 non-null  object \n",
      " 42  Daha Önceden Mezun Olunduysa, Mezun Olunan Üniversite      419 non-null    object \n",
      "dtypes: float64(2), int64(1), object(40)\n",
      "memory usage: 21.4+ MB\n"
     ]
    }
   ],
   "source": [
    "train.info()"
   ]
  },
  {
   "cell_type": "code",
   "execution_count": 6,
   "metadata": {},
   "outputs": [
    {
     "data": {
      "text/plain": [
       "Daha Önceden Mezun Olunduysa, Mezun Olunan Üniversite        99.356622\n",
       "Lise Bolum Diger                                             97.656814\n",
       "Lise Adi Diger                                               92.732438\n",
       "Girisimcilikle Ilgili Deneyiminizi Aciklayabilir misiniz?    77.583109\n",
       "Hangi STK'nin Uyesisiniz?                                    76.035317\n",
       "Uye Oldugunuz Kulubun Ismi                                   74.765451\n",
       "Baska Kurumdan Aldigi Burs Miktari                           67.811132\n",
       "Burs Aldigi Baska Kurum                                      67.527063\n",
       "Burslu ise Burs Yuzdesi                                      65.543186\n",
       "Daha Once Baska Bir Universiteden Mezun Olmus                57.343570\n",
       "Ingilizce Seviyeniz?                                         56.096737\n",
       "Anne Sektor                                                  53.031862\n",
       "Spor Dalindaki Rolunuz Nedir?                                49.558541\n",
       "Stk Projesine Katildiniz Mi?                                 43.467179\n",
       "Baba Sektor                                                  31.290595\n",
       "Aktif olarak bir STK üyesi misiniz?                          19.719002\n",
       "Girisimcilikle Ilgili Deneyiminiz Var Mi?                    19.715931\n",
       "Baba Calisma Durumu                                          19.375048\n",
       "Anne Calisma Durumu                                          18.266411\n",
       "Ingilizce Biliyor musunuz?                                    9.910173\n",
       "Lise Mezuniyet Notu                                           9.085605\n",
       "Universite Not Ortalamasi                                     4.227255\n",
       "Ikametgah Sehri                                               3.127831\n",
       "Girisimcilik Kulupleri Tarzi Bir Kulube Uye misiniz?          2.808445\n",
       "Kardes Sayisi                                                 1.738196\n",
       "Profesyonel Bir Spor Daliyla Mesgul musunuz?                  1.712092\n",
       "Lise Sehir                                                    1.618426\n",
       "Lise Bolumu                                                   1.549328\n",
       "Baba Egitim Durumu                                            1.546257\n",
       "Lise Turu                                                     1.300576\n",
       "Dogum Yeri                                                    1.214587\n",
       "Anne Egitim Durumu                                            0.623417\n",
       "Lise Adi                                                      0.589635\n",
       "Universite Kacinci Sinif                                      0.574280\n",
       "Universite Turu                                               0.391555\n",
       "Baska Bir Kurumdan Burs Aliyor mu?                            0.354702\n",
       "Bölüm                                                         0.354702\n",
       "Dogum Tarihi                                                  0.271785\n",
       "Cinsiyet                                                      0.259501\n",
       "Universite Adi                                                0.202687\n",
       "Degerlendirme Puani                                           0.001536\n",
       "Burs Aliyor mu?                                               0.000000\n",
       "Basvuru Yili                                                  0.000000\n",
       "dtype: float64"
      ]
     },
     "execution_count": 6,
     "metadata": {},
     "output_type": "execute_result"
    }
   ],
   "source": [
    "train.isnull().mean().sort_values(ascending=False)*100"
   ]
  },
  {
   "cell_type": "code",
   "execution_count": 7,
   "metadata": {},
   "outputs": [
    {
     "data": {
      "text/plain": [
       "Daha Önceden Mezun Olunduysa, Mezun Olunan Üniversite        100.0\n",
       "Lise Adi Diger                                               100.0\n",
       "Ingilizce Seviyeniz?                                         100.0\n",
       "Stk Projesine Katildiniz Mi?                                 100.0\n",
       "Burslu ise Burs Yuzdesi                                      100.0\n",
       "Lise Bolum Diger                                             100.0\n",
       "Daha Once Baska Bir Universiteden Mezun Olmus                100.0\n",
       "Uye Oldugunuz Kulubun Ismi                                   100.0\n",
       "Anne Sektor                                                    0.0\n",
       "Baba Egitim Durumu                                             0.0\n",
       "Baba Calisma Durumu                                            0.0\n",
       "Baba Sektor                                                    0.0\n",
       "Kardes Sayisi                                                  0.0\n",
       "Girisimcilik Kulupleri Tarzi Bir Kulube Uye misiniz?           0.0\n",
       "Profesyonel Bir Spor Daliyla Mesgul musunuz?                   0.0\n",
       "Anne Egitim Durumu                                             0.0\n",
       "Spor Dalindaki Rolunuz Nedir?                                  0.0\n",
       "Aktif olarak bir STK üyesi misiniz?                            0.0\n",
       "Hangi STK'nin Uyesisiniz?                                      0.0\n",
       "Girisimcilikle Ilgili Deneyiminiz Var Mi?                      0.0\n",
       "Girisimcilikle Ilgili Deneyiminizi Aciklayabilir misiniz?      0.0\n",
       "Ingilizce Biliyor musunuz?                                     0.0\n",
       "Anne Calisma Durumu                                            0.0\n",
       "Basvuru Yili                                                   0.0\n",
       "Baska Kurumdan Aldigi Burs Miktari                             0.0\n",
       "Cinsiyet                                                       0.0\n",
       "Dogum Tarihi                                                   0.0\n",
       "Dogum Yeri                                                     0.0\n",
       "Ikametgah Sehri                                                0.0\n",
       "Universite Adi                                                 0.0\n",
       "Universite Turu                                                0.0\n",
       "Burs Aliyor mu?                                                0.0\n",
       "Bölüm                                                          0.0\n",
       "Universite Kacinci Sinif                                       0.0\n",
       "Universite Not Ortalamasi                                      0.0\n",
       "Lise Adi                                                       0.0\n",
       "Lise Sehir                                                     0.0\n",
       "Lise Turu                                                      0.0\n",
       "Lise Bolumu                                                    0.0\n",
       "Lise Mezuniyet Notu                                            0.0\n",
       "Baska Bir Kurumdan Burs Aliyor mu?                             0.0\n",
       "Burs Aldigi Baska Kurum                                        0.0\n",
       "dtype: float64"
      ]
     },
     "execution_count": 7,
     "metadata": {},
     "output_type": "execute_result"
    }
   ],
   "source": [
    "test.isnull().mean().sort_values(ascending=False)*100"
   ]
  },
  {
   "cell_type": "code",
   "execution_count": 8,
   "metadata": {},
   "outputs": [
    {
     "data": {
      "text/html": [
       "<div>\n",
       "<style scoped>\n",
       "    .dataframe tbody tr th:only-of-type {\n",
       "        vertical-align: middle;\n",
       "    }\n",
       "\n",
       "    .dataframe tbody tr th {\n",
       "        vertical-align: top;\n",
       "    }\n",
       "\n",
       "    .dataframe thead th {\n",
       "        text-align: right;\n",
       "    }\n",
       "</style>\n",
       "<table border=\"1\" class=\"dataframe\">\n",
       "  <thead>\n",
       "    <tr style=\"text-align: right;\">\n",
       "      <th></th>\n",
       "      <th>count</th>\n",
       "      <th>unique</th>\n",
       "      <th>top</th>\n",
       "      <th>freq</th>\n",
       "    </tr>\n",
       "  </thead>\n",
       "  <tbody>\n",
       "    <tr>\n",
       "      <th>Cinsiyet</th>\n",
       "      <td>64956</td>\n",
       "      <td>4</td>\n",
       "      <td>Kadın</td>\n",
       "      <td>32077</td>\n",
       "    </tr>\n",
       "    <tr>\n",
       "      <th>Dogum Tarihi</th>\n",
       "      <td>64948</td>\n",
       "      <td>13498</td>\n",
       "      <td>1/1/70 2:00</td>\n",
       "      <td>1655</td>\n",
       "    </tr>\n",
       "    <tr>\n",
       "      <th>Dogum Yeri</th>\n",
       "      <td>64334</td>\n",
       "      <td>2230</td>\n",
       "      <td>İstanbul</td>\n",
       "      <td>8682</td>\n",
       "    </tr>\n",
       "    <tr>\n",
       "      <th>Ikametgah Sehri</th>\n",
       "      <td>63088</td>\n",
       "      <td>319</td>\n",
       "      <td>İstanbul</td>\n",
       "      <td>16625</td>\n",
       "    </tr>\n",
       "    <tr>\n",
       "      <th>Universite Adi</th>\n",
       "      <td>64993</td>\n",
       "      <td>527</td>\n",
       "      <td>İSTANBUL ÜNİVERSİTESİ</td>\n",
       "      <td>2083</td>\n",
       "    </tr>\n",
       "    <tr>\n",
       "      <th>Universite Turu</th>\n",
       "      <td>64870</td>\n",
       "      <td>4</td>\n",
       "      <td>Devlet</td>\n",
       "      <td>37885</td>\n",
       "    </tr>\n",
       "    <tr>\n",
       "      <th>Burs Aliyor mu?</th>\n",
       "      <td>65125</td>\n",
       "      <td>5</td>\n",
       "      <td>Hayır</td>\n",
       "      <td>51978</td>\n",
       "    </tr>\n",
       "    <tr>\n",
       "      <th>Bölüm</th>\n",
       "      <td>64894</td>\n",
       "      <td>7748</td>\n",
       "      <td>Endüstri Mühendisliği</td>\n",
       "      <td>2434</td>\n",
       "    </tr>\n",
       "    <tr>\n",
       "      <th>Universite Kacinci Sinif</th>\n",
       "      <td>64751</td>\n",
       "      <td>12</td>\n",
       "      <td>2</td>\n",
       "      <td>21773</td>\n",
       "    </tr>\n",
       "    <tr>\n",
       "      <th>Universite Not Ortalamasi</th>\n",
       "      <td>62372</td>\n",
       "      <td>20</td>\n",
       "      <td>3.00-2.50</td>\n",
       "      <td>10758</td>\n",
       "    </tr>\n",
       "    <tr>\n",
       "      <th>Daha Once Baska Bir Universiteden Mezun Olmus</th>\n",
       "      <td>27780</td>\n",
       "      <td>2</td>\n",
       "      <td>Hayır</td>\n",
       "      <td>26624</td>\n",
       "    </tr>\n",
       "    <tr>\n",
       "      <th>Lise Adi</th>\n",
       "      <td>64741</td>\n",
       "      <td>31950</td>\n",
       "      <td>------</td>\n",
       "      <td>4251</td>\n",
       "    </tr>\n",
       "    <tr>\n",
       "      <th>Lise Adi Diger</th>\n",
       "      <td>4733</td>\n",
       "      <td>4010</td>\n",
       "      <td>Atatürk Anadolu Lisesi</td>\n",
       "      <td>8</td>\n",
       "    </tr>\n",
       "    <tr>\n",
       "      <th>Lise Sehir</th>\n",
       "      <td>64071</td>\n",
       "      <td>888</td>\n",
       "      <td>İstanbul</td>\n",
       "      <td>8868</td>\n",
       "    </tr>\n",
       "    <tr>\n",
       "      <th>Lise Turu</th>\n",
       "      <td>64278</td>\n",
       "      <td>16</td>\n",
       "      <td>Anadolu Lisesi</td>\n",
       "      <td>13367</td>\n",
       "    </tr>\n",
       "    <tr>\n",
       "      <th>Lise Bolumu</th>\n",
       "      <td>64116</td>\n",
       "      <td>887</td>\n",
       "      <td>Sayısal</td>\n",
       "      <td>28980</td>\n",
       "    </tr>\n",
       "    <tr>\n",
       "      <th>Lise Bolum Diger</th>\n",
       "      <td>1526</td>\n",
       "      <td>862</td>\n",
       "      <td>Bilişim Teknolojileri</td>\n",
       "      <td>84</td>\n",
       "    </tr>\n",
       "    <tr>\n",
       "      <th>Lise Mezuniyet Notu</th>\n",
       "      <td>59208</td>\n",
       "      <td>19</td>\n",
       "      <td>75 - 100</td>\n",
       "      <td>22433</td>\n",
       "    </tr>\n",
       "    <tr>\n",
       "      <th>Baska Bir Kurumdan Burs Aliyor mu?</th>\n",
       "      <td>64894</td>\n",
       "      <td>2</td>\n",
       "      <td>Hayır</td>\n",
       "      <td>48513</td>\n",
       "    </tr>\n",
       "    <tr>\n",
       "      <th>Burs Aldigi Baska Kurum</th>\n",
       "      <td>21148</td>\n",
       "      <td>3959</td>\n",
       "      <td>-</td>\n",
       "      <td>4711</td>\n",
       "    </tr>\n",
       "    <tr>\n",
       "      <th>Baska Kurumdan Aldigi Burs Miktari</th>\n",
       "      <td>20963</td>\n",
       "      <td>587</td>\n",
       "      <td>-</td>\n",
       "      <td>4724</td>\n",
       "    </tr>\n",
       "    <tr>\n",
       "      <th>Anne Egitim Durumu</th>\n",
       "      <td>64719</td>\n",
       "      <td>21</td>\n",
       "      <td>İlkokul</td>\n",
       "      <td>10351</td>\n",
       "    </tr>\n",
       "    <tr>\n",
       "      <th>Anne Calisma Durumu</th>\n",
       "      <td>53229</td>\n",
       "      <td>3</td>\n",
       "      <td>Hayır</td>\n",
       "      <td>39371</td>\n",
       "    </tr>\n",
       "    <tr>\n",
       "      <th>Anne Sektor</th>\n",
       "      <td>30588</td>\n",
       "      <td>8</td>\n",
       "      <td>0</td>\n",
       "      <td>11780</td>\n",
       "    </tr>\n",
       "    <tr>\n",
       "      <th>Baba Egitim Durumu</th>\n",
       "      <td>64118</td>\n",
       "      <td>22</td>\n",
       "      <td>Lise</td>\n",
       "      <td>10008</td>\n",
       "    </tr>\n",
       "    <tr>\n",
       "      <th>Baba Calisma Durumu</th>\n",
       "      <td>52507</td>\n",
       "      <td>3</td>\n",
       "      <td>Evet</td>\n",
       "      <td>28559</td>\n",
       "    </tr>\n",
       "    <tr>\n",
       "      <th>Baba Sektor</th>\n",
       "      <td>44747</td>\n",
       "      <td>8</td>\n",
       "      <td>Özel Sektör</td>\n",
       "      <td>11293</td>\n",
       "    </tr>\n",
       "    <tr>\n",
       "      <th>Kardes Sayisi</th>\n",
       "      <td>63993.0</td>\n",
       "      <td>28.0</td>\n",
       "      <td>1.0</td>\n",
       "      <td>16186.0</td>\n",
       "    </tr>\n",
       "    <tr>\n",
       "      <th>Girisimcilik Kulupleri Tarzi Bir Kulube Uye misiniz?</th>\n",
       "      <td>63296</td>\n",
       "      <td>2</td>\n",
       "      <td>Hayır</td>\n",
       "      <td>33710</td>\n",
       "    </tr>\n",
       "    <tr>\n",
       "      <th>Uye Oldugunuz Kulubun Ismi</th>\n",
       "      <td>16434</td>\n",
       "      <td>13423</td>\n",
       "      <td>IEEE</td>\n",
       "      <td>203</td>\n",
       "    </tr>\n",
       "    <tr>\n",
       "      <th>Profesyonel Bir Spor Daliyla Mesgul musunuz?</th>\n",
       "      <td>64010</td>\n",
       "      <td>2</td>\n",
       "      <td>Hayır</td>\n",
       "      <td>42243</td>\n",
       "    </tr>\n",
       "    <tr>\n",
       "      <th>Spor Dalindaki Rolunuz Nedir?</th>\n",
       "      <td>32850</td>\n",
       "      <td>9</td>\n",
       "      <td>0</td>\n",
       "      <td>11315</td>\n",
       "    </tr>\n",
       "    <tr>\n",
       "      <th>Aktif olarak bir STK üyesi misiniz?</th>\n",
       "      <td>52283</td>\n",
       "      <td>2</td>\n",
       "      <td>Hayır</td>\n",
       "      <td>37716</td>\n",
       "    </tr>\n",
       "    <tr>\n",
       "      <th>Hangi STK'nin Uyesisiniz?</th>\n",
       "      <td>15607</td>\n",
       "      <td>9490</td>\n",
       "      <td>-</td>\n",
       "      <td>2956</td>\n",
       "    </tr>\n",
       "    <tr>\n",
       "      <th>Stk Projesine Katildiniz Mi?</th>\n",
       "      <td>36817</td>\n",
       "      <td>2</td>\n",
       "      <td>Hayır</td>\n",
       "      <td>19661</td>\n",
       "    </tr>\n",
       "    <tr>\n",
       "      <th>Girisimcilikle Ilgili Deneyiminiz Var Mi?</th>\n",
       "      <td>52285</td>\n",
       "      <td>2</td>\n",
       "      <td>Hayır</td>\n",
       "      <td>33919</td>\n",
       "    </tr>\n",
       "    <tr>\n",
       "      <th>Girisimcilikle Ilgili Deneyiminizi Aciklayabilir misiniz?</th>\n",
       "      <td>14599</td>\n",
       "      <td>9286</td>\n",
       "      <td>-</td>\n",
       "      <td>5196</td>\n",
       "    </tr>\n",
       "    <tr>\n",
       "      <th>Ingilizce Biliyor musunuz?</th>\n",
       "      <td>58671</td>\n",
       "      <td>2</td>\n",
       "      <td>Evet</td>\n",
       "      <td>48872</td>\n",
       "    </tr>\n",
       "    <tr>\n",
       "      <th>Ingilizce Seviyeniz?</th>\n",
       "      <td>28592</td>\n",
       "      <td>4</td>\n",
       "      <td>Orta</td>\n",
       "      <td>13057</td>\n",
       "    </tr>\n",
       "    <tr>\n",
       "      <th>Daha Önceden Mezun Olunduysa, Mezun Olunan Üniversite</th>\n",
       "      <td>419</td>\n",
       "      <td>168</td>\n",
       "      <td>Anadolu Üniversitesi</td>\n",
       "      <td>26</td>\n",
       "    </tr>\n",
       "  </tbody>\n",
       "</table>\n",
       "</div>"
      ],
      "text/plain": [
       "                                                      count unique  \\\n",
       "Cinsiyet                                              64956      4   \n",
       "Dogum Tarihi                                          64948  13498   \n",
       "Dogum Yeri                                            64334   2230   \n",
       "Ikametgah Sehri                                       63088    319   \n",
       "Universite Adi                                        64993    527   \n",
       "Universite Turu                                       64870      4   \n",
       "Burs Aliyor mu?                                       65125      5   \n",
       "Bölüm                                                 64894   7748   \n",
       "Universite Kacinci Sinif                              64751     12   \n",
       "Universite Not Ortalamasi                             62372     20   \n",
       "Daha Once Baska Bir Universiteden Mezun Olmus         27780      2   \n",
       "Lise Adi                                              64741  31950   \n",
       "Lise Adi Diger                                         4733   4010   \n",
       "Lise Sehir                                            64071    888   \n",
       "Lise Turu                                             64278     16   \n",
       "Lise Bolumu                                           64116    887   \n",
       "Lise Bolum Diger                                       1526    862   \n",
       "Lise Mezuniyet Notu                                   59208     19   \n",
       "Baska Bir Kurumdan Burs Aliyor mu?                    64894      2   \n",
       "Burs Aldigi Baska Kurum                               21148   3959   \n",
       "Baska Kurumdan Aldigi Burs Miktari                    20963    587   \n",
       "Anne Egitim Durumu                                    64719     21   \n",
       "Anne Calisma Durumu                                   53229      3   \n",
       "Anne Sektor                                           30588      8   \n",
       "Baba Egitim Durumu                                    64118     22   \n",
       "Baba Calisma Durumu                                   52507      3   \n",
       "Baba Sektor                                           44747      8   \n",
       "Kardes Sayisi                                       63993.0   28.0   \n",
       "Girisimcilik Kulupleri Tarzi Bir Kulube Uye mis...    63296      2   \n",
       "Uye Oldugunuz Kulubun Ismi                            16434  13423   \n",
       "Profesyonel Bir Spor Daliyla Mesgul musunuz?          64010      2   \n",
       "Spor Dalindaki Rolunuz Nedir?                         32850      9   \n",
       "Aktif olarak bir STK üyesi misiniz?                   52283      2   \n",
       "Hangi STK'nin Uyesisiniz?                             15607   9490   \n",
       "Stk Projesine Katildiniz Mi?                          36817      2   \n",
       "Girisimcilikle Ilgili Deneyiminiz Var Mi?             52285      2   \n",
       "Girisimcilikle Ilgili Deneyiminizi Aciklayabili...    14599   9286   \n",
       "Ingilizce Biliyor musunuz?                            58671      2   \n",
       "Ingilizce Seviyeniz?                                  28592      4   \n",
       "Daha Önceden Mezun Olunduysa, Mezun Olunan Üniv...      419    168   \n",
       "\n",
       "                                                                       top  \\\n",
       "Cinsiyet                                                             Kadın   \n",
       "Dogum Tarihi                                                   1/1/70 2:00   \n",
       "Dogum Yeri                                                        İstanbul   \n",
       "Ikametgah Sehri                                                   İstanbul   \n",
       "Universite Adi                                       İSTANBUL ÜNİVERSİTESİ   \n",
       "Universite Turu                                                     Devlet   \n",
       "Burs Aliyor mu?                                                      Hayır   \n",
       "Bölüm                                                Endüstri Mühendisliği   \n",
       "Universite Kacinci Sinif                                                 2   \n",
       "Universite Not Ortalamasi                                        3.00-2.50   \n",
       "Daha Once Baska Bir Universiteden Mezun Olmus                        Hayır   \n",
       "Lise Adi                                                            ------   \n",
       "Lise Adi Diger                                      Atatürk Anadolu Lisesi   \n",
       "Lise Sehir                                                        İstanbul   \n",
       "Lise Turu                                                   Anadolu Lisesi   \n",
       "Lise Bolumu                                                        Sayısal   \n",
       "Lise Bolum Diger                                     Bilişim Teknolojileri   \n",
       "Lise Mezuniyet Notu                                               75 - 100   \n",
       "Baska Bir Kurumdan Burs Aliyor mu?                                   Hayır   \n",
       "Burs Aldigi Baska Kurum                                                  -   \n",
       "Baska Kurumdan Aldigi Burs Miktari                                       -   \n",
       "Anne Egitim Durumu                                                 İlkokul   \n",
       "Anne Calisma Durumu                                                  Hayır   \n",
       "Anne Sektor                                                              0   \n",
       "Baba Egitim Durumu                                                    Lise   \n",
       "Baba Calisma Durumu                                                   Evet   \n",
       "Baba Sektor                                                    Özel Sektör   \n",
       "Kardes Sayisi                                                          1.0   \n",
       "Girisimcilik Kulupleri Tarzi Bir Kulube Uye mis...                   Hayır   \n",
       "Uye Oldugunuz Kulubun Ismi                                            IEEE   \n",
       "Profesyonel Bir Spor Daliyla Mesgul musunuz?                         Hayır   \n",
       "Spor Dalindaki Rolunuz Nedir?                                            0   \n",
       "Aktif olarak bir STK üyesi misiniz?                                  Hayır   \n",
       "Hangi STK'nin Uyesisiniz?                                                -   \n",
       "Stk Projesine Katildiniz Mi?                                         Hayır   \n",
       "Girisimcilikle Ilgili Deneyiminiz Var Mi?                            Hayır   \n",
       "Girisimcilikle Ilgili Deneyiminizi Aciklayabili...                       -   \n",
       "Ingilizce Biliyor musunuz?                                            Evet   \n",
       "Ingilizce Seviyeniz?                                                  Orta   \n",
       "Daha Önceden Mezun Olunduysa, Mezun Olunan Üniv...    Anadolu Üniversitesi   \n",
       "\n",
       "                                                       freq  \n",
       "Cinsiyet                                              32077  \n",
       "Dogum Tarihi                                           1655  \n",
       "Dogum Yeri                                             8682  \n",
       "Ikametgah Sehri                                       16625  \n",
       "Universite Adi                                         2083  \n",
       "Universite Turu                                       37885  \n",
       "Burs Aliyor mu?                                       51978  \n",
       "Bölüm                                                  2434  \n",
       "Universite Kacinci Sinif                              21773  \n",
       "Universite Not Ortalamasi                             10758  \n",
       "Daha Once Baska Bir Universiteden Mezun Olmus         26624  \n",
       "Lise Adi                                               4251  \n",
       "Lise Adi Diger                                            8  \n",
       "Lise Sehir                                             8868  \n",
       "Lise Turu                                             13367  \n",
       "Lise Bolumu                                           28980  \n",
       "Lise Bolum Diger                                         84  \n",
       "Lise Mezuniyet Notu                                   22433  \n",
       "Baska Bir Kurumdan Burs Aliyor mu?                    48513  \n",
       "Burs Aldigi Baska Kurum                                4711  \n",
       "Baska Kurumdan Aldigi Burs Miktari                     4724  \n",
       "Anne Egitim Durumu                                    10351  \n",
       "Anne Calisma Durumu                                   39371  \n",
       "Anne Sektor                                           11780  \n",
       "Baba Egitim Durumu                                    10008  \n",
       "Baba Calisma Durumu                                   28559  \n",
       "Baba Sektor                                           11293  \n",
       "Kardes Sayisi                                       16186.0  \n",
       "Girisimcilik Kulupleri Tarzi Bir Kulube Uye mis...    33710  \n",
       "Uye Oldugunuz Kulubun Ismi                              203  \n",
       "Profesyonel Bir Spor Daliyla Mesgul musunuz?          42243  \n",
       "Spor Dalindaki Rolunuz Nedir?                         11315  \n",
       "Aktif olarak bir STK üyesi misiniz?                   37716  \n",
       "Hangi STK'nin Uyesisiniz?                              2956  \n",
       "Stk Projesine Katildiniz Mi?                          19661  \n",
       "Girisimcilikle Ilgili Deneyiminiz Var Mi?             33919  \n",
       "Girisimcilikle Ilgili Deneyiminizi Aciklayabili...     5196  \n",
       "Ingilizce Biliyor musunuz?                            48872  \n",
       "Ingilizce Seviyeniz?                                  13057  \n",
       "Daha Önceden Mezun Olunduysa, Mezun Olunan Üniv...       26  "
      ]
     },
     "execution_count": 8,
     "metadata": {},
     "output_type": "execute_result"
    }
   ],
   "source": [
    "train[categoric_cols].describe().T"
   ]
  },
  {
   "cell_type": "code",
   "execution_count": 9,
   "metadata": {},
   "outputs": [
    {
     "data": {
      "text/html": [
       "<div>\n",
       "<style scoped>\n",
       "    .dataframe tbody tr th:only-of-type {\n",
       "        vertical-align: middle;\n",
       "    }\n",
       "\n",
       "    .dataframe tbody tr th {\n",
       "        vertical-align: top;\n",
       "    }\n",
       "\n",
       "    .dataframe thead th {\n",
       "        text-align: right;\n",
       "    }\n",
       "</style>\n",
       "<table border=\"1\" class=\"dataframe\">\n",
       "  <thead>\n",
       "    <tr style=\"text-align: right;\">\n",
       "      <th></th>\n",
       "      <th>count</th>\n",
       "      <th>mean</th>\n",
       "      <th>std</th>\n",
       "      <th>min</th>\n",
       "      <th>25%</th>\n",
       "      <th>50%</th>\n",
       "      <th>75%</th>\n",
       "      <th>max</th>\n",
       "    </tr>\n",
       "  </thead>\n",
       "  <tbody>\n",
       "    <tr>\n",
       "      <th>Basvuru Yili</th>\n",
       "      <td>65125.0</td>\n",
       "      <td>2018.277298</td>\n",
       "      <td>2.669979</td>\n",
       "      <td>2014.0</td>\n",
       "      <td>2016.0</td>\n",
       "      <td>2019.0</td>\n",
       "      <td>2021.0</td>\n",
       "      <td>2022.0</td>\n",
       "    </tr>\n",
       "    <tr>\n",
       "      <th>Burslu ise Burs Yuzdesi</th>\n",
       "      <td>22440.0</td>\n",
       "      <td>34.226181</td>\n",
       "      <td>41.632412</td>\n",
       "      <td>0.0</td>\n",
       "      <td>0.0</td>\n",
       "      <td>0.0</td>\n",
       "      <td>75.0</td>\n",
       "      <td>100.0</td>\n",
       "    </tr>\n",
       "    <tr>\n",
       "      <th>Degerlendirme Puani</th>\n",
       "      <td>65124.0</td>\n",
       "      <td>32.086466</td>\n",
       "      <td>18.139239</td>\n",
       "      <td>0.0</td>\n",
       "      <td>18.0</td>\n",
       "      <td>29.0</td>\n",
       "      <td>44.0</td>\n",
       "      <td>102.0</td>\n",
       "    </tr>\n",
       "  </tbody>\n",
       "</table>\n",
       "</div>"
      ],
      "text/plain": [
       "                           count         mean        std     min     25%  \\\n",
       "Basvuru Yili             65125.0  2018.277298   2.669979  2014.0  2016.0   \n",
       "Burslu ise Burs Yuzdesi  22440.0    34.226181  41.632412     0.0     0.0   \n",
       "Degerlendirme Puani      65124.0    32.086466  18.139239     0.0    18.0   \n",
       "\n",
       "                            50%     75%     max  \n",
       "Basvuru Yili             2019.0  2021.0  2022.0  \n",
       "Burslu ise Burs Yuzdesi     0.0    75.0   100.0  \n",
       "Degerlendirme Puani        29.0    44.0   102.0  "
      ]
     },
     "execution_count": 9,
     "metadata": {},
     "output_type": "execute_result"
    }
   ],
   "source": [
    "train[numeric_cols+[target_col]].describe().T"
   ]
  },
  {
   "cell_type": "markdown",
   "metadata": {},
   "source": [
    "# 2. Veriyi Temizleme"
   ]
  },
  {
   "cell_type": "markdown",
   "metadata": {},
   "source": [
    "## 2.1 Basvuru Yili"
   ]
  },
  {
   "cell_type": "code",
   "execution_count": 10,
   "metadata": {},
   "outputs": [
    {
     "data": {
      "text/plain": [
       "Basvuru Yili    0\n",
       "dtype: int64"
      ]
     },
     "execution_count": 10,
     "metadata": {},
     "output_type": "execute_result"
    }
   ],
   "source": [
    "train[[\"Basvuru Yili\"]].isna().sum()"
   ]
  },
  {
   "cell_type": "code",
   "execution_count": 11,
   "metadata": {},
   "outputs": [
    {
     "data": {
      "text/plain": [
       "dtype('O')"
      ]
     },
     "execution_count": 11,
     "metadata": {},
     "output_type": "execute_result"
    }
   ],
   "source": [
    "train[[\"Basvuru Yili\"]] = train[[\"Basvuru Yili\"]].astype(str)\n",
    "\n",
    "train[\"Basvuru Yili\"].dtype\n",
    "\n",
    "#Label Encoder kullanırız sonra belki bence dataya girmemesi gerekiyor"
   ]
  },
  {
   "cell_type": "code",
   "execution_count": 12,
   "metadata": {},
   "outputs": [
    {
     "data": {
      "text/html": [
       "<div>\n",
       "<style scoped>\n",
       "    .dataframe tbody tr th:only-of-type {\n",
       "        vertical-align: middle;\n",
       "    }\n",
       "\n",
       "    .dataframe tbody tr th {\n",
       "        vertical-align: top;\n",
       "    }\n",
       "\n",
       "    .dataframe thead tr th {\n",
       "        text-align: left;\n",
       "    }\n",
       "\n",
       "    .dataframe thead tr:last-of-type th {\n",
       "        text-align: right;\n",
       "    }\n",
       "</style>\n",
       "<table border=\"1\" class=\"dataframe\">\n",
       "  <thead>\n",
       "    <tr>\n",
       "      <th></th>\n",
       "      <th colspan=\"2\" halign=\"left\">Degerlendirme Puani</th>\n",
       "    </tr>\n",
       "    <tr>\n",
       "      <th></th>\n",
       "      <th>mean</th>\n",
       "      <th>std</th>\n",
       "    </tr>\n",
       "    <tr>\n",
       "      <th>Basvuru Yili</th>\n",
       "      <th></th>\n",
       "      <th></th>\n",
       "    </tr>\n",
       "  </thead>\n",
       "  <tbody>\n",
       "    <tr>\n",
       "      <th>2014</th>\n",
       "      <td>30.765572</td>\n",
       "      <td>13.765161</td>\n",
       "    </tr>\n",
       "    <tr>\n",
       "      <th>2015</th>\n",
       "      <td>31.022040</td>\n",
       "      <td>14.639660</td>\n",
       "    </tr>\n",
       "    <tr>\n",
       "      <th>2016</th>\n",
       "      <td>67.241895</td>\n",
       "      <td>8.869178</td>\n",
       "    </tr>\n",
       "    <tr>\n",
       "      <th>2017</th>\n",
       "      <td>26.707700</td>\n",
       "      <td>15.875569</td>\n",
       "    </tr>\n",
       "    <tr>\n",
       "      <th>2018</th>\n",
       "      <td>29.233484</td>\n",
       "      <td>13.845805</td>\n",
       "    </tr>\n",
       "    <tr>\n",
       "      <th>2019</th>\n",
       "      <td>22.360513</td>\n",
       "      <td>13.131517</td>\n",
       "    </tr>\n",
       "    <tr>\n",
       "      <th>2020</th>\n",
       "      <td>34.567010</td>\n",
       "      <td>16.219183</td>\n",
       "    </tr>\n",
       "    <tr>\n",
       "      <th>2021</th>\n",
       "      <td>27.514059</td>\n",
       "      <td>15.114932</td>\n",
       "    </tr>\n",
       "    <tr>\n",
       "      <th>2022</th>\n",
       "      <td>31.628789</td>\n",
       "      <td>14.588138</td>\n",
       "    </tr>\n",
       "  </tbody>\n",
       "</table>\n",
       "</div>"
      ],
      "text/plain": [
       "             Degerlendirme Puani           \n",
       "                            mean        std\n",
       "Basvuru Yili                               \n",
       "2014                   30.765572  13.765161\n",
       "2015                   31.022040  14.639660\n",
       "2016                   67.241895   8.869178\n",
       "2017                   26.707700  15.875569\n",
       "2018                   29.233484  13.845805\n",
       "2019                   22.360513  13.131517\n",
       "2020                   34.567010  16.219183\n",
       "2021                   27.514059  15.114932\n",
       "2022                   31.628789  14.588138"
      ]
     },
     "execution_count": 12,
     "metadata": {},
     "output_type": "execute_result"
    }
   ],
   "source": [
    "train.groupby(\"Basvuru Yili\").agg({\"Degerlendirme Puani\": [\"mean\", \"std\"]})\n",
    "\n",
    "#2016 kicklenecek bence"
   ]
  },
  {
   "cell_type": "markdown",
   "metadata": {},
   "source": [
    "## 2.2 Cinsiyet"
   ]
  },
  {
   "cell_type": "code",
   "execution_count": 13,
   "metadata": {},
   "outputs": [
    {
     "data": {
      "text/plain": [
       "Cinsiyet    169\n",
       "dtype: int64"
      ]
     },
     "execution_count": 13,
     "metadata": {},
     "output_type": "execute_result"
    }
   ],
   "source": [
    "train[[\"Cinsiyet\"]].isna().sum()"
   ]
  },
  {
   "cell_type": "code",
   "execution_count": 14,
   "metadata": {},
   "outputs": [
    {
     "data": {
      "text/plain": [
       "Cinsiyet\n",
       "Kadın                    32077\n",
       "Erkek                    22752\n",
       "ERKEK                    10012\n",
       "Belirtmek istemiyorum      115\n",
       "Name: count, dtype: int64"
      ]
     },
     "execution_count": 14,
     "metadata": {},
     "output_type": "execute_result"
    }
   ],
   "source": [
    "train['Cinsiyet'].value_counts()"
   ]
  },
  {
   "cell_type": "code",
   "execution_count": 15,
   "metadata": {},
   "outputs": [
    {
     "data": {
      "text/plain": [
       "Cinsiyet\n",
       "Erkek                    32764\n",
       "Kadın                    32077\n",
       "Belirtmek istemiyorum      284\n",
       "Name: count, dtype: int64"
      ]
     },
     "execution_count": 15,
     "metadata": {},
     "output_type": "execute_result"
    }
   ],
   "source": [
    "train['Cinsiyet'] = train['Cinsiyet'].str.capitalize()\n",
    "train['Cinsiyet'].fillna('Belirtmek istemiyorum', inplace=True)\n",
    "train['Cinsiyet'].value_counts()\n"
   ]
  },
  {
   "cell_type": "code",
   "execution_count": 16,
   "metadata": {},
   "outputs": [],
   "source": [
    "# One-hot encoding\n",
    "#train = pd.get_dummies(train, columns=['Cinsiyet'], drop_first=True)\n",
    "#train\n",
    "\n",
    "#label encodin"
   ]
  },
  {
   "cell_type": "markdown",
   "metadata": {},
   "source": [
    "## 2.3 Dogum Tarihi - Dogum Yili "
   ]
  },
  {
   "cell_type": "code",
   "execution_count": 17,
   "metadata": {},
   "outputs": [
    {
     "data": {
      "text/plain": [
       "192"
      ]
     },
     "execution_count": 17,
     "metadata": {},
     "output_type": "execute_result"
    }
   ],
   "source": [
    "# Mapping of Turkish month names to English\n",
    "turkish_to_english_months = {\n",
    "    \"Ocak\": \"January\",\n",
    "    \"Şubat\": \"February\",\n",
    "    \"Subat\": \"February\",\n",
    "    \"Mart\": \"March\",\n",
    "    \"Nisan\": \"April\",\n",
    "    \"Mayıs\": \"May\",\n",
    "    \"Mayis\": \"May\",\n",
    "    \"Haziran\": \"June\",\n",
    "    \"Temmuz\": \"July\",\n",
    "    \"Ağustos\": \"August\",\n",
    "    \"Agustos\": \"August\",\n",
    "    \"Eylül\": \"September\",\n",
    "    \"Eylul\": \"September\",\n",
    "    \"Ekim\": \"October\",\n",
    "    \"Kasım\": \"November\",\n",
    "    \"Kasim\": \"November\",\n",
    "    \"Aralık\": \"December\",\n",
    "    \"Aralik\": \"December\"\n",
    "}\n",
    "\n",
    "def normalize_turkish_months(date_str):\n",
    "    for turkish_month, english_month in turkish_to_english_months.items():\n",
    "        date_str = re.sub(r'\\b' + turkish_month + r'\\b', english_month, date_str)\n",
    "    return date_str\n",
    "\n",
    "def extract_year(date_str):\n",
    "    if not isinstance(date_str, str):\n",
    "        return None  # Return None if the input is not a string\n",
    "    try:\n",
    "        # Normalize the date string for Turkish month names\n",
    "        date_str = normalize_turkish_months(date_str)\n",
    "        \n",
    "        # Parse the date string using dateutil.parser\n",
    "        parsed_date = parser.parse(date_str, fuzzy=True, dayfirst=False)\n",
    "        \n",
    "        # Extract the year from the parsed date\n",
    "        return parsed_date.year\n",
    "    except (ValueError, TypeError):\n",
    "        # If parsing fails, try extracting the year directly from the string\n",
    "        year_match = re.search(r'(\\d{4})$', date_str)\n",
    "        if year_match:\n",
    "            return int(year_match.group(1))\n",
    "        return None\n",
    "    \n",
    "\n",
    "\n",
    "train['Dogum Yili'] = train['Dogum Tarihi'].apply(extract_year)\n",
    "train['Dogum Yili'].isnull().sum()\n"
   ]
  },
  {
   "cell_type": "code",
   "execution_count": 18,
   "metadata": {},
   "outputs": [
    {
     "data": {
      "text/plain": [
       "Dogum Yili\n",
       "2000.0    7189\n",
       "1999.0    6690\n",
       "1998.0    6623\n",
       "1995.0    6301\n",
       "1996.0    6158\n",
       "1997.0    6122\n",
       "2001.0    5675\n",
       "1994.0    5398\n",
       "1993.0    4165\n",
       "2002.0    3212\n",
       "1992.0    2585\n",
       "2070.0    1661\n",
       "1991.0    1397\n",
       "2003.0     737\n",
       "1990.0     601\n",
       "1989.0      81\n",
       "1970.0      55\n",
       "1988.0      49\n",
       "1987.0      32\n",
       "2016.0      24\n",
       "2004.0      23\n",
       "1986.0      21\n",
       "2017.0      11\n",
       "2005.0       9\n",
       "2020.0       9\n",
       "199.0        8\n",
       "1984.0       7\n",
       "1985.0       6\n",
       "1197.0       6\n",
       "200.0        5\n",
       "1976.0       5\n",
       "1983.0       5\n",
       "1980.0       4\n",
       "1196.0       4\n",
       "1977.0       3\n",
       "197.0        3\n",
       "1979.0       2\n",
       "996.0        2\n",
       "9691.0       2\n",
       "9951.0       2\n",
       "998.0        2\n",
       "1199.0       2\n",
       "2011.0       2\n",
       "993.0        2\n",
       "1195.0       2\n",
       "2015.0       1\n",
       "7199.0       1\n",
       "328.0        1\n",
       "2006.0       1\n",
       "1204.0       1\n",
       "808.0        1\n",
       "2009.0       1\n",
       "198.0        1\n",
       "989.0        1\n",
       "9941.0       1\n",
       "6123.0       1\n",
       "1929.0       1\n",
       "1198.0       1\n",
       "9590.0       1\n",
       "1155.0       1\n",
       "5778.0       1\n",
       "1194.0       1\n",
       "2996.0       1\n",
       "1896.0       1\n",
       "9916.0       1\n",
       "1888.0       1\n",
       "1982.0       1\n",
       "2021.0       1\n",
       "196.0        1\n",
       "1944.0       1\n",
       "1895.0       1\n",
       "1972.0       1\n",
       "194.0        1\n",
       "1262.0       1\n",
       "1933.0       1\n",
       "1981.0       1\n",
       "Name: count, dtype: int64"
      ]
     },
     "execution_count": 18,
     "metadata": {},
     "output_type": "execute_result"
    }
   ],
   "source": [
    "train['Dogum Yili'].value_counts()"
   ]
  },
  {
   "cell_type": "code",
   "execution_count": 19,
   "metadata": {},
   "outputs": [
    {
     "data": {
      "text/plain": [
       "2240"
      ]
     },
     "execution_count": 19,
     "metadata": {},
     "output_type": "execute_result"
    }
   ],
   "source": [
    "train['Dogum Yili'] = train['Dogum Yili'].apply(lambda x: np.nan if (x > 2005) | (x < 1990) else x)\n",
    "train['Dogum Yili'].isnull().sum()"
   ]
  },
  {
   "cell_type": "code",
   "execution_count": 20,
   "metadata": {},
   "outputs": [
    {
     "data": {
      "text/plain": [
       "Dogum Yili\n",
       "2000.0    7189\n",
       "1999.0    6690\n",
       "1998.0    6623\n",
       "1995.0    6301\n",
       "1996.0    6158\n",
       "1997.0    6122\n",
       "2001.0    5675\n",
       "1994.0    5398\n",
       "1993.0    4165\n",
       "2002.0    3212\n",
       "1992.0    2585\n",
       "1991.0    1397\n",
       "2003.0     737\n",
       "1990.0     601\n",
       "2004.0      23\n",
       "2005.0       9\n",
       "Name: count, dtype: int64"
      ]
     },
     "execution_count": 20,
     "metadata": {},
     "output_type": "execute_result"
    }
   ],
   "source": [
    "train['Dogum Yili'].value_counts()"
   ]
  },
  {
   "cell_type": "markdown",
   "metadata": {},
   "source": [
    "## 2.4 Basvuru Yasi"
   ]
  },
  {
   "cell_type": "code",
   "execution_count": 21,
   "metadata": {},
   "outputs": [
    {
     "data": {
      "text/plain": [
       "Basvuru Yasi\n",
       "21.0    15764\n",
       "20.0    15046\n",
       "22.0    12487\n",
       "19.0     8085\n",
       "23.0     7134\n",
       "24.0     3073\n",
       "25.0      711\n",
       "18.0      394\n",
       "26.0       78\n",
       "17.0       58\n",
       "27.0       28\n",
       "28.0       10\n",
       "30.0        7\n",
       "29.0        4\n",
       "16.0        2\n",
       "31.0        2\n",
       "14.0        1\n",
       "11.0        1\n",
       "Name: count, dtype: int64"
      ]
     },
     "execution_count": 21,
     "metadata": {},
     "output_type": "execute_result"
    }
   ],
   "source": [
    "train['Basvuru Yasi'] = train['Basvuru Yili'].astype(float) - train['Dogum Yili']\n",
    "train['Basvuru Yasi'].value_counts()"
   ]
  },
  {
   "cell_type": "code",
   "execution_count": 22,
   "metadata": {},
   "outputs": [
    {
     "data": {
      "text/plain": [
       "2240"
      ]
     },
     "execution_count": 22,
     "metadata": {},
     "output_type": "execute_result"
    }
   ],
   "source": [
    "train['Basvuru Yasi'].isnull().sum()"
   ]
  },
  {
   "cell_type": "code",
   "execution_count": 23,
   "metadata": {},
   "outputs": [
    {
     "data": {
      "text/html": [
       "<div>\n",
       "<style scoped>\n",
       "    .dataframe tbody tr th:only-of-type {\n",
       "        vertical-align: middle;\n",
       "    }\n",
       "\n",
       "    .dataframe tbody tr th {\n",
       "        vertical-align: top;\n",
       "    }\n",
       "\n",
       "    .dataframe thead tr th {\n",
       "        text-align: left;\n",
       "    }\n",
       "\n",
       "    .dataframe thead tr:last-of-type th {\n",
       "        text-align: right;\n",
       "    }\n",
       "</style>\n",
       "<table border=\"1\" class=\"dataframe\">\n",
       "  <thead>\n",
       "    <tr>\n",
       "      <th></th>\n",
       "      <th colspan=\"3\" halign=\"left\">Degerlendirme Puani</th>\n",
       "    </tr>\n",
       "    <tr>\n",
       "      <th></th>\n",
       "      <th>mean</th>\n",
       "      <th>std</th>\n",
       "      <th>count</th>\n",
       "    </tr>\n",
       "    <tr>\n",
       "      <th>Basvuru Yasi</th>\n",
       "      <th></th>\n",
       "      <th></th>\n",
       "      <th></th>\n",
       "    </tr>\n",
       "  </thead>\n",
       "  <tbody>\n",
       "    <tr>\n",
       "      <th>17.0</th>\n",
       "      <td>29.224138</td>\n",
       "      <td>19.110063</td>\n",
       "      <td>58</td>\n",
       "    </tr>\n",
       "    <tr>\n",
       "      <th>18.0</th>\n",
       "      <td>26.187817</td>\n",
       "      <td>16.933646</td>\n",
       "      <td>394</td>\n",
       "    </tr>\n",
       "    <tr>\n",
       "      <th>19.0</th>\n",
       "      <td>28.399011</td>\n",
       "      <td>17.277664</td>\n",
       "      <td>8085</td>\n",
       "    </tr>\n",
       "    <tr>\n",
       "      <th>20.0</th>\n",
       "      <td>30.621361</td>\n",
       "      <td>17.934173</td>\n",
       "      <td>15046</td>\n",
       "    </tr>\n",
       "    <tr>\n",
       "      <th>21.0</th>\n",
       "      <td>32.749556</td>\n",
       "      <td>18.126875</td>\n",
       "      <td>15764</td>\n",
       "    </tr>\n",
       "    <tr>\n",
       "      <th>22.0</th>\n",
       "      <td>34.306423</td>\n",
       "      <td>18.355811</td>\n",
       "      <td>12486</td>\n",
       "    </tr>\n",
       "    <tr>\n",
       "      <th>23.0</th>\n",
       "      <td>34.687973</td>\n",
       "      <td>18.371196</td>\n",
       "      <td>7134</td>\n",
       "    </tr>\n",
       "    <tr>\n",
       "      <th>24.0</th>\n",
       "      <td>33.500163</td>\n",
       "      <td>18.782682</td>\n",
       "      <td>3073</td>\n",
       "    </tr>\n",
       "    <tr>\n",
       "      <th>25.0</th>\n",
       "      <td>35.954993</td>\n",
       "      <td>21.073131</td>\n",
       "      <td>711</td>\n",
       "    </tr>\n",
       "    <tr>\n",
       "      <th>26.0</th>\n",
       "      <td>28.820513</td>\n",
       "      <td>15.414400</td>\n",
       "      <td>78</td>\n",
       "    </tr>\n",
       "    <tr>\n",
       "      <th>27.0</th>\n",
       "      <td>23.285714</td>\n",
       "      <td>15.267630</td>\n",
       "      <td>28</td>\n",
       "    </tr>\n",
       "    <tr>\n",
       "      <th>28.0</th>\n",
       "      <td>31.900000</td>\n",
       "      <td>16.366972</td>\n",
       "      <td>10</td>\n",
       "    </tr>\n",
       "    <tr>\n",
       "      <th>29.0</th>\n",
       "      <td>12.000000</td>\n",
       "      <td>7.483315</td>\n",
       "      <td>4</td>\n",
       "    </tr>\n",
       "    <tr>\n",
       "      <th>30.0</th>\n",
       "      <td>32.857143</td>\n",
       "      <td>14.229413</td>\n",
       "      <td>7</td>\n",
       "    </tr>\n",
       "    <tr>\n",
       "      <th>31.0</th>\n",
       "      <td>26.000000</td>\n",
       "      <td>12.727922</td>\n",
       "      <td>2</td>\n",
       "    </tr>\n",
       "  </tbody>\n",
       "</table>\n",
       "</div>"
      ],
      "text/plain": [
       "             Degerlendirme Puani                  \n",
       "                            mean        std  count\n",
       "Basvuru Yasi                                      \n",
       "17.0                   29.224138  19.110063     58\n",
       "18.0                   26.187817  16.933646    394\n",
       "19.0                   28.399011  17.277664   8085\n",
       "20.0                   30.621361  17.934173  15046\n",
       "21.0                   32.749556  18.126875  15764\n",
       "22.0                   34.306423  18.355811  12486\n",
       "23.0                   34.687973  18.371196   7134\n",
       "24.0                   33.500163  18.782682   3073\n",
       "25.0                   35.954993  21.073131    711\n",
       "26.0                   28.820513  15.414400     78\n",
       "27.0                   23.285714  15.267630     28\n",
       "28.0                   31.900000  16.366972     10\n",
       "29.0                   12.000000   7.483315      4\n",
       "30.0                   32.857143  14.229413      7\n",
       "31.0                   26.000000  12.727922      2"
      ]
     },
     "execution_count": 23,
     "metadata": {},
     "output_type": "execute_result"
    }
   ],
   "source": [
    "train['Basvuru Yasi'] = train['Basvuru Yasi'].apply(lambda x: np.nan if (x < 17) else x)\n",
    "train.groupby(\"Basvuru Yasi\").agg({\"Degerlendirme Puani\": [\"mean\", \"std\",\"count\"]})\n"
   ]
  },
  {
   "cell_type": "markdown",
   "metadata": {},
   "source": [
    "## 2.5 Dogum Yeri, Ikametgah Sehri, Lise Sehir"
   ]
  },
  {
   "cell_type": "code",
   "execution_count": 24,
   "metadata": {},
   "outputs": [
    {
     "name": "stdout",
     "output_type": "stream",
     "text": [
      "Dogum Yeri none veri sayisi : 791\n"
     ]
    }
   ],
   "source": [
    "print(f\"Dogum Yeri none veri sayisi : {train[\"Dogum Yeri\"].isna().sum()}\")"
   ]
  },
  {
   "cell_type": "code",
   "execution_count": 25,
   "metadata": {},
   "outputs": [
    {
     "data": {
      "text/plain": [
       "Dogum Yeri\n",
       "İstanbul             8682\n",
       "Ankara               4045\n",
       "İzmir                2170\n",
       "Istanbul             1894\n",
       "Adana                1810\n",
       "                     ... \n",
       "körfez/kocaeli          1\n",
       "GEDIZ                   1\n",
       "İstanbul Bakırköy       1\n",
       "İstanbul-Şişli          1\n",
       "Ankara keçiören         1\n",
       "Name: count, Length: 2230, dtype: int64"
      ]
     },
     "execution_count": 25,
     "metadata": {},
     "output_type": "execute_result"
    }
   ],
   "source": [
    "train[\"Dogum Yeri\"].value_counts()"
   ]
  },
  {
   "cell_type": "code",
   "execution_count": 26,
   "metadata": {},
   "outputs": [
    {
     "name": "stdout",
     "output_type": "stream",
     "text": [
      "Dogum Yeri none veri sayisi önceki : 791\n",
      "Dogum Yeri none veri sayisi : 3267\n",
      "Dogum Yeri\n",
      "Istanbul    11072\n",
      "Ankara       4275\n",
      "Izmir        2894\n",
      "Bursa        1931\n",
      "Adana        1914\n",
      "Name: count, dtype: int64\n",
      "Ikametgah Sehri none veri sayisi önceki : 2037\n",
      "Ikametgah Sehri none veri sayisi : 2423\n",
      "Ikametgah Sehri\n",
      "Istanbul    20228\n",
      "Ankara       6602\n",
      "Izmir        3893\n",
      "Bursa        1794\n",
      "Kocaeli      1472\n",
      "Name: count, dtype: int64\n",
      "Lise Sehir none veri sayisi önceki : 1054\n",
      "Lise Sehir none veri sayisi : 1845\n",
      "Lise Sehir\n",
      "Istanbul    13342\n",
      "Ankara       5165\n",
      "Izmir        3470\n",
      "Bursa        2360\n",
      "Adana        1917\n",
      "Name: count, dtype: int64\n"
     ]
    }
   ],
   "source": [
    "def normalize_turkish_with_unicode(text):\n",
    "\n",
    "    if text ==\"nan\" or text=='np.nan' or text == 'none':\n",
    "        return np.nan  # Keep np.nan as it is\n",
    "    # Normalize the text to decompose combined characters (NFKD form)\n",
    "    normalized_text = unicodedata.normalize('NFKD', text)\n",
    "    \n",
    "    # Remove diacritical marks (characters with combining marks)\n",
    "    ascii_text = ''.join(c for c in normalized_text if not unicodedata.combining(c))\n",
    "    \n",
    "    # Additional replacements for Turkish-specific characters\n",
    "    turkish_to_ascii = {\n",
    "        'ç': 'c', 'Ç': 'C',\n",
    "        'ğ': 'g', 'Ğ': 'G',\n",
    "        'ı': 'i', 'İ': 'i',\n",
    "        'ö': 'o', 'Ö': 'O',\n",
    "        'ş': 's', 'Ş': 'S',\n",
    "        'ü': 'u', 'Ü': 'U'\n",
    "    }\n",
    "    \n",
    "    # Replace Turkish characters with ASCII equivalents\n",
    "    ascii_text = ''.join(turkish_to_ascii.get(c, c) for c in ascii_text)\n",
    "    \n",
    "    return ascii_text.lower()\n",
    "\n",
    "def temizle_sehir(sehir):\n",
    "    if pd.isna(sehir):\n",
    "        return None\n",
    "    if isinstance(sehir, str):\n",
    "        sehir = sehir.lower()\n",
    "        sehir = sehir.strip()\n",
    "\n",
    "        for il in sehirler:\n",
    "            if il.lower() in sehir:\n",
    "                return il.capitalize()\n",
    "    return None\n",
    "\n",
    "sehirler = [\n",
    "    \"Adana\", \"Adıyaman\", \"Afyonkarahisar\", \"Ağrı\", \"Aksaray\", \"Amasya\", \"Ankara\", \"Antalya\",\n",
    "    \"Ardahan\", \"Artvin\", \"Aydın\", \"Balıkesir\", \"Bartın\", \"Batman\", \"Bayburt\", \"Bilecik\", \"Bingöl\",\n",
    "    \"Bitlis\", \"Bolu\", \"Burdur\", \"Bursa\", \"Çanakkale\", \"Çankırı\", \"Çorum\", \"Denizli\", \"Diyarbakır\",\n",
    "    \"Düzce\", \"Edirne\", \"Elazığ\", \"Erzincan\", \"Erzurum\", \"Eskişehir\", \"Gaziantep\", \"Giresun\", \"Gümüşhane\",\n",
    "    \"Hakkari\", \"Hatay\", \"Iğdır\", \"Isparta\", \"İstanbul\", \"İzmir\", \"Kahramanmaraş\", \"Karabük\", \"Karaman\",\n",
    "    \"Kars\", \"Kastamonu\", \"Kayseri\", \"Kilis\", \"Kırıkkale\", \"Kırklareli\", \"Kırşehir\", \"Kocaeli\", \"Konya\",\n",
    "    \"Kütahya\", \"Malatya\", \"Manisa\", \"Mardin\", \"Mersin\", \"Muğla\", \"Muş\", \"Nevşehir\", \"Niğde\", \"Ordu\",\n",
    "    \"Osmaniye\", \"Rize\", \"Sakarya\", \"Samsun\", \"Siirt\", \"Sinop\", \"Sivas\", \"Şanlıurfa\", \"Şırnak\", \"Tekirdağ\",\n",
    "    \"Tokat\", \"Trabzon\", \"Tunceli\", \"Uşak\", \"Van\", \"Yalova\", \"Yozgat\", \"Zonguldak\"\n",
    "]\n",
    "\n",
    "sehirler = list(map(normalize_turkish_with_unicode,sehirler))\n",
    "\n",
    "sehir_col_list = [\"Dogum Yeri\", \"Ikametgah Sehri\", \"Lise Sehir\"]\n",
    "\n",
    "for col in sehir_col_list:\n",
    "\n",
    "    print(f\"{col} none veri sayisi önceki : {train[col].isna().sum()}\")\n",
    "    train[col] = train[col].astype(str).apply(normalize_turkish_with_unicode)\n",
    "\n",
    "    train[col] = train[col].apply(temizle_sehir)\n",
    "\n",
    "    print(f\"{col} none veri sayisi : {train[col].isna().sum()}\")\n",
    "\n",
    "    print(train[col].value_counts().head())"
   ]
  },
  {
   "cell_type": "markdown",
   "metadata": {},
   "source": [
    "## 2.7 Universite Adi"
   ]
  },
  {
   "cell_type": "code",
   "execution_count": 27,
   "metadata": {},
   "outputs": [
    {
     "name": "stdout",
     "output_type": "stream",
     "text": [
      "Universite Adi none veri sayisi : 132\n"
     ]
    }
   ],
   "source": [
    "print(f\"Universite Adi none veri sayisi : {train[\"Universite Adi\"].isna().sum()}\")"
   ]
  },
  {
   "cell_type": "code",
   "execution_count": 28,
   "metadata": {},
   "outputs": [
    {
     "name": "stdout",
     "output_type": "stream",
     "text": [
      "Universite Adi none veri sayisi : 132\n",
      "Universite Adi nunique veri sayisi : 291\n",
      "Universite Adi\n",
      "istanbul universitesi            2572\n",
      "marmara universitesi             2084\n",
      "istanbul teknik universitesi     1954\n",
      "yildiz teknik universitesi       1916\n",
      "orta dogu teknik universitesi    1658\n",
      "Name: count, dtype: int64\n"
     ]
    }
   ],
   "source": [
    "train['Universite Adi'] = train['Universite Adi'].astype(str).apply(normalize_turkish_with_unicode)\n",
    "\n",
    "\n",
    "print(f\"Universite Adi none veri sayisi : {train[\"Universite Adi\"].isna().sum()}\")\n",
    "\n",
    "print(f\"Universite Adi nunique veri sayisi : {train['Universite Adi'].value_counts().shape[0]}\")\n",
    "\n",
    "print(train[\"Universite Adi\"].value_counts().head())"
   ]
  },
  {
   "cell_type": "markdown",
   "metadata": {},
   "source": [
    "## 2.8 Universite Turu\n",
    "\n",
    "Baktım uni türü nan olanların cogunun unisinin adı var ama data az çok önemli değil"
   ]
  },
  {
   "cell_type": "code",
   "execution_count": 29,
   "metadata": {},
   "outputs": [
    {
     "name": "stdout",
     "output_type": "stream",
     "text": [
      "Universite Turu none veri sayisi : 255\n"
     ]
    },
    {
     "data": {
      "text/plain": [
       "Universite Turu\n",
       "Devlet    37885\n",
       "DEVLET    15377\n",
       "Özel       8336\n",
       "ÖZEL       3272\n",
       "Name: count, dtype: int64"
      ]
     },
     "execution_count": 29,
     "metadata": {},
     "output_type": "execute_result"
    }
   ],
   "source": [
    "print(f\"Universite Turu none veri sayisi : {train[\"Universite Turu\"].isna().sum()}\")\n",
    "train['Universite Turu'].value_counts()"
   ]
  },
  {
   "cell_type": "code",
   "execution_count": 30,
   "metadata": {},
   "outputs": [
    {
     "name": "stdout",
     "output_type": "stream",
     "text": [
      "Universite Turu none veri sayisi : 0\n"
     ]
    },
    {
     "data": {
      "text/plain": [
       "Universite Turu\n",
       "Devlet    53517\n",
       "Özel      11608\n",
       "Name: count, dtype: int64"
      ]
     },
     "execution_count": 30,
     "metadata": {},
     "output_type": "execute_result"
    }
   ],
   "source": [
    "train['Universite Turu'].fillna(\"Devlet\", inplace=True)\n",
    "\n",
    "train['Universite Turu'] = train['Universite Turu'].str.capitalize()\n",
    "\n",
    "print(f\"Universite Turu none veri sayisi : {train[\"Universite Turu\"].isna().sum()}\")\n",
    "train['Universite Turu'].value_counts() "
   ]
  },
  {
   "cell_type": "markdown",
   "metadata": {},
   "source": [
    "## 2.9 Burs Aliyor mu? , Burslu ise Burs Yuzdesi, Baska Bir Kurumdan Burs Aliyor mu?,Burs Aldigi Baska Kurum,\tBaska Kurumdan Aldigi Burs Miktari\n",
    "\n",
    "Burslu ise Burs Yuzdesi çok random çok nan var bu direk drop."
   ]
  },
  {
   "cell_type": "code",
   "execution_count": 31,
   "metadata": {},
   "outputs": [
    {
     "name": "stdout",
     "output_type": "stream",
     "text": [
      "Burs Aliyor mu?\t none veri sayisi : 0\n"
     ]
    },
    {
     "data": {
      "text/plain": [
       "Burs Aliyor mu?\n",
       "hayir    52250\n",
       "evet     12875\n",
       "Name: count, dtype: int64"
      ]
     },
     "execution_count": 31,
     "metadata": {},
     "output_type": "execute_result"
    }
   ],
   "source": [
    "train['Burs Aliyor mu?'] = train['Burs Aliyor mu?'].astype(str).apply(normalize_turkish_with_unicode)\n",
    "print(f\"Burs Aliyor mu?\t none veri sayisi : {train['Burs Aliyor mu?'].isna().sum()}\")\n",
    "train['Burs Aliyor mu?'].value_counts().head(10)"
   ]
  },
  {
   "cell_type": "code",
   "execution_count": 32,
   "metadata": {},
   "outputs": [
    {
     "data": {
      "text/html": [
       "<div>\n",
       "<style scoped>\n",
       "    .dataframe tbody tr th:only-of-type {\n",
       "        vertical-align: middle;\n",
       "    }\n",
       "\n",
       "    .dataframe tbody tr th {\n",
       "        vertical-align: top;\n",
       "    }\n",
       "\n",
       "    .dataframe thead tr th {\n",
       "        text-align: left;\n",
       "    }\n",
       "\n",
       "    .dataframe thead tr:last-of-type th {\n",
       "        text-align: right;\n",
       "    }\n",
       "</style>\n",
       "<table border=\"1\" class=\"dataframe\">\n",
       "  <thead>\n",
       "    <tr>\n",
       "      <th></th>\n",
       "      <th colspan=\"3\" halign=\"left\">Degerlendirme Puani</th>\n",
       "    </tr>\n",
       "    <tr>\n",
       "      <th></th>\n",
       "      <th>mean</th>\n",
       "      <th>std</th>\n",
       "      <th>count</th>\n",
       "    </tr>\n",
       "    <tr>\n",
       "      <th>Burs Aliyor mu?</th>\n",
       "      <th></th>\n",
       "      <th></th>\n",
       "      <th></th>\n",
       "    </tr>\n",
       "  </thead>\n",
       "  <tbody>\n",
       "    <tr>\n",
       "      <th>evet</th>\n",
       "      <td>35.594330</td>\n",
       "      <td>18.549331</td>\n",
       "      <td>12875</td>\n",
       "    </tr>\n",
       "    <tr>\n",
       "      <th>hayir</th>\n",
       "      <td>31.222071</td>\n",
       "      <td>17.931859</td>\n",
       "      <td>52249</td>\n",
       "    </tr>\n",
       "  </tbody>\n",
       "</table>\n",
       "</div>"
      ],
      "text/plain": [
       "                Degerlendirme Puani                  \n",
       "                               mean        std  count\n",
       "Burs Aliyor mu?                                      \n",
       "evet                      35.594330  18.549331  12875\n",
       "hayir                     31.222071  17.931859  52249"
      ]
     },
     "execution_count": 32,
     "metadata": {},
     "output_type": "execute_result"
    }
   ],
   "source": [
    "train.groupby('Burs Aliyor mu?').agg({\"Degerlendirme Puani\": [\"mean\", \"std\",\"count\"]})"
   ]
  },
  {
   "cell_type": "code",
   "execution_count": 33,
   "metadata": {},
   "outputs": [
    {
     "name": "stdout",
     "output_type": "stream",
     "text": [
      "Test Datasi : Burs Aliyor mu?\t none veri sayisi : 0\n"
     ]
    },
    {
     "data": {
      "text/plain": [
       "Burs Aliyor mu?\n",
       "hayir    9400\n",
       "evet     1649\n",
       "Name: count, dtype: int64"
      ]
     },
     "execution_count": 33,
     "metadata": {},
     "output_type": "execute_result"
    }
   ],
   "source": [
    "test['Burs Aliyor mu?'] = test['Burs Aliyor mu?'].astype(str).apply(normalize_turkish_with_unicode)\n",
    "print(f\"Test Datasi : Burs Aliyor mu?\t none veri sayisi : {test['Burs Aliyor mu?'].isna().sum()}\")\n",
    "test['Burs Aliyor mu?'].value_counts().head(10)"
   ]
  },
  {
   "cell_type": "code",
   "execution_count": 34,
   "metadata": {},
   "outputs": [
    {
     "name": "stdout",
     "output_type": "stream",
     "text": [
      "Baska Bir Kurumdan Burs Aliyor mu? : 0\n",
      "Baska Bir Kurumdan Burs Aliyor mu?\n",
      "hayir    6658\n",
      "evet     4391\n",
      "Name: count, dtype: int64\n"
     ]
    }
   ],
   "source": [
    "test['Baska Bir Kurumdan Burs Aliyor mu?'] = test['Baska Bir Kurumdan Burs Aliyor mu?'].astype(str).apply(normalize_turkish_with_unicode)\n",
    "print(f\"Baska Bir Kurumdan Burs Aliyor mu? : {test[\"Baska Bir Kurumdan Burs Aliyor mu?\"].isna().sum()}\")\n",
    "print(test['Baska Bir Kurumdan Burs Aliyor mu?'].value_counts().head(10))"
   ]
  },
  {
   "cell_type": "code",
   "execution_count": 35,
   "metadata": {},
   "outputs": [
    {
     "name": "stdout",
     "output_type": "stream",
     "text": [
      "Baska Bir Kurumdan Burs Aliyor mu? : 231\n"
     ]
    },
    {
     "data": {
      "text/plain": [
       "Baska Bir Kurumdan Burs Aliyor mu?\n",
       "hayir    48513\n",
       "evet     16381\n",
       "Name: count, dtype: int64"
      ]
     },
     "execution_count": 35,
     "metadata": {},
     "output_type": "execute_result"
    }
   ],
   "source": [
    "train['Baska Bir Kurumdan Burs Aliyor mu?'] = train['Baska Bir Kurumdan Burs Aliyor mu?'].astype(str).apply(normalize_turkish_with_unicode)\n",
    "print(f\"Baska Bir Kurumdan Burs Aliyor mu? : {train[\"Baska Bir Kurumdan Burs Aliyor mu?\"].isna().sum()}\")\n",
    "train['Baska Bir Kurumdan Burs Aliyor mu?'].value_counts().head(10)"
   ]
  },
  {
   "cell_type": "code",
   "execution_count": 36,
   "metadata": {},
   "outputs": [
    {
     "data": {
      "text/html": [
       "<div>\n",
       "<style scoped>\n",
       "    .dataframe tbody tr th:only-of-type {\n",
       "        vertical-align: middle;\n",
       "    }\n",
       "\n",
       "    .dataframe tbody tr th {\n",
       "        vertical-align: top;\n",
       "    }\n",
       "\n",
       "    .dataframe thead tr th {\n",
       "        text-align: left;\n",
       "    }\n",
       "\n",
       "    .dataframe thead tr:last-of-type th {\n",
       "        text-align: right;\n",
       "    }\n",
       "</style>\n",
       "<table border=\"1\" class=\"dataframe\">\n",
       "  <thead>\n",
       "    <tr>\n",
       "      <th></th>\n",
       "      <th colspan=\"3\" halign=\"left\">Degerlendirme Puani</th>\n",
       "    </tr>\n",
       "    <tr>\n",
       "      <th></th>\n",
       "      <th>mean</th>\n",
       "      <th>std</th>\n",
       "      <th>count</th>\n",
       "    </tr>\n",
       "    <tr>\n",
       "      <th>Baska Bir Kurumdan Burs Aliyor mu?</th>\n",
       "      <th></th>\n",
       "      <th></th>\n",
       "      <th></th>\n",
       "    </tr>\n",
       "  </thead>\n",
       "  <tbody>\n",
       "    <tr>\n",
       "      <th>evet</th>\n",
       "      <td>31.599695</td>\n",
       "      <td>17.857544</td>\n",
       "      <td>16380</td>\n",
       "    </tr>\n",
       "    <tr>\n",
       "      <th>hayir</th>\n",
       "      <td>32.347701</td>\n",
       "      <td>18.207816</td>\n",
       "      <td>48513</td>\n",
       "    </tr>\n",
       "  </tbody>\n",
       "</table>\n",
       "</div>"
      ],
      "text/plain": [
       "                                   Degerlendirme Puani                  \n",
       "                                                  mean        std  count\n",
       "Baska Bir Kurumdan Burs Aliyor mu?                                      \n",
       "evet                                         31.599695  17.857544  16380\n",
       "hayir                                        32.347701  18.207816  48513"
      ]
     },
     "execution_count": 36,
     "metadata": {},
     "output_type": "execute_result"
    }
   ],
   "source": [
    "train.groupby('Baska Bir Kurumdan Burs Aliyor mu?').agg({\"Degerlendirme Puani\": [\"mean\", \"std\",\"count\"]})"
   ]
  },
  {
   "cell_type": "code",
   "execution_count": 37,
   "metadata": {},
   "outputs": [
    {
     "name": "stdout",
     "output_type": "stream",
     "text": [
      "Burs Aldigi Baska Kurum : 0\n"
     ]
    },
    {
     "data": {
      "text/plain": [
       "Burs Aldigi Baska Kurum\n",
       "-                                   6524\n",
       "KYK                                  832\n",
       "Kyk                                  767\n",
       "kyk                                  187\n",
       "Devlet                               144\n",
       "Kredi ve Yurtlar Kurumu              139\n",
       "Kredi Yurtlar Kurumu                 125\n",
       "Kyk bursu                            112\n",
       "KYK bursu                            100\n",
       "Devlet bursu                          52\n",
       "Kredi yurtlar kurumu                  49\n",
       "Kredi ve yurtlar kurumu               46\n",
       "KYK Bursu                             35\n",
       "Gençlik ve Spor Bakanlığı             33\n",
       "Kredi ve Yurtlar Genel Müdürlüğü      24\n",
       "KYK burs                              23\n",
       "KYK BURSU                             20\n",
       "Mehmet Zorlu Vakfı                    20\n",
       "Türk Eğitim Vakfı                     18\n",
       "TEV                                   18\n",
       "Kyk devlet bursu                      17\n",
       "GSB                                   17\n",
       "Kyk bursu alıyorum                    17\n",
       "KYK bursu alıyorum.                   16\n",
       "Kyk Bursu                             16\n",
       "Name: count, dtype: int64"
      ]
     },
     "execution_count": 37,
     "metadata": {},
     "output_type": "execute_result"
    }
   ],
   "source": [
    "print(f\"Burs Aldigi Baska Kurum : {test[\"Burs Aldigi Baska Kurum\"].isna().sum()}\")\n",
    "test['Burs Aldigi Baska Kurum'].value_counts().head(25)"
   ]
  },
  {
   "cell_type": "code",
   "execution_count": 38,
   "metadata": {},
   "outputs": [
    {
     "name": "stdout",
     "output_type": "stream",
     "text": [
      "Burs Aldigi Baska Kurum : 43977\n"
     ]
    },
    {
     "data": {
      "text/plain": [
       "Burs Aldigi Baska Kurum\n",
       "kyk                                       6666\n",
       "-                                         4711\n",
       "kredi ve yurtlar kurumu                    960\n",
       "kredi yurtlar kurumu                       815\n",
       "kyk bursu                                  526\n",
       "devlet                                     374\n",
       "devlet bursu                               145\n",
       "cagdas yasami destekleme dernegi           127\n",
       "tev                                        108\n",
       "k                                          103\n",
       "kyk devlet bursu                           101\n",
       "kyk kredi                                   92\n",
       "turk egitim vakfi                           90\n",
       "ky                                          88\n",
       "genclik ve spor bakanligi                   85\n",
       "kyk bursu aliyorum                          82\n",
       "tubitak                                     81\n",
       "basbakanlik                                 69\n",
       "kredi ve yurtlar genel mudurlugu            69\n",
       "basbakanlik bursu                           68\n",
       "kyk burs                                    62\n",
       "yuksek ogrenim kredi ve yurtlar kurumu      50\n",
       "koc universitesi                            49\n",
       "mehmet zorlu vakfi                          49\n",
       "vakiflar genel mudurlugu                    47\n",
       "Name: count, dtype: int64"
      ]
     },
     "execution_count": 38,
     "metadata": {},
     "output_type": "execute_result"
    }
   ],
   "source": [
    "train['Burs Aldigi Baska Kurum'] = train['Burs Aldigi Baska Kurum'].astype(str).apply(normalize_turkish_with_unicode)\n",
    "print(f\"Burs Aldigi Baska Kurum : {train[\"Burs Aldigi Baska Kurum\"].isna().sum()}\")\n",
    "train['Burs Aldigi Baska Kurum'].value_counts().head(25)"
   ]
  },
  {
   "cell_type": "code",
   "execution_count": 39,
   "metadata": {},
   "outputs": [
    {
     "name": "stdout",
     "output_type": "stream",
     "text": [
      "Burs Aldigi Baska Kurum : 0\n"
     ]
    },
    {
     "data": {
      "text/plain": [
       "Burs Aldigi Baska Kurum\n",
       "almiyor    43977\n",
       "kyk        12077\n",
       "diger       9071\n",
       "Name: count, dtype: int64"
      ]
     },
     "execution_count": 39,
     "metadata": {},
     "output_type": "execute_result"
    }
   ],
   "source": [
    "def temizle_baska_kurum(kurum):\n",
    "    if pd.isna(kurum):\n",
    "        return \"almiyor\"\n",
    "    if isinstance(kurum, str):\n",
    "        kurum = kurum.lower()\n",
    "        kurum = kurum.strip()\n",
    "            \n",
    "        if \"kredi\" in kurum:\n",
    "            return \"kyk\"\n",
    "        \n",
    "        elif \"devlet\" in kurum:\n",
    "            return \"kyk\"\n",
    "        \n",
    "        elif \"k\" == kurum:\n",
    "            return \"kyk\"\n",
    "        \n",
    "        elif \"ky\" in kurum:\n",
    "            return \"kyk\"\n",
    "        \n",
    "        else:\n",
    "            return \"diger\"\n",
    "\n",
    "    return kurum\n",
    "\n",
    "train['Burs Aldigi Baska Kurum'] = train['Burs Aldigi Baska Kurum'].str.replace('-', ' ').str.strip()\n",
    "train[\"Burs Aldigi Baska Kurum\"] = train[\"Burs Aldigi Baska Kurum\"].apply(temizle_baska_kurum)\n",
    "print(f\"Burs Aldigi Baska Kurum : {train[\"Burs Aldigi Baska Kurum\"].isna().sum()}\")\n",
    "train['Burs Aldigi Baska Kurum'].value_counts().head(25)"
   ]
  },
  {
   "cell_type": "code",
   "execution_count": 40,
   "metadata": {},
   "outputs": [
    {
     "name": "stdout",
     "output_type": "stream",
     "text": [
      "Burs Aldigi Baska Kurum : 0\n"
     ]
    },
    {
     "data": {
      "text/plain": [
       "Burs Aldigi Baska Kurum\n",
       "almiyor    43977\n",
       "kyk        12077\n",
       "diger       9071\n",
       "Name: count, dtype: int64"
      ]
     },
     "execution_count": 40,
     "metadata": {},
     "output_type": "execute_result"
    }
   ],
   "source": [
    "train['Burs Aldigi Baska Kurum'] = train['Burs Aldigi Baska Kurum'].astype(str).apply(normalize_turkish_with_unicode)\n",
    "print(f\"Burs Aldigi Baska Kurum : {train[\"Burs Aldigi Baska Kurum\"].isna().sum()}\")\n",
    "train['Burs Aldigi Baska Kurum'].value_counts().head(25)"
   ]
  },
  {
   "cell_type": "code",
   "execution_count": 41,
   "metadata": {},
   "outputs": [
    {
     "name": "stdout",
     "output_type": "stream",
     "text": [
      "Baska Kurumdan Aldigi Burs Miktari : 0\n"
     ]
    },
    {
     "data": {
      "text/plain": [
       "Baska Kurumdan Aldigi Burs Miktari\n",
       "-                6546\n",
       "1000₺ ve üstü    4110\n",
       "500₺ - 999₺       248\n",
       "0 - 499 ₺         145\n",
       "Name: count, dtype: int64"
      ]
     },
     "execution_count": 41,
     "metadata": {},
     "output_type": "execute_result"
    }
   ],
   "source": [
    "print(f\"Baska Kurumdan Aldigi Burs Miktari : {test[\"Baska Kurumdan Aldigi Burs Miktari\"].isna().sum()}\")\n",
    "test['Baska Kurumdan Aldigi Burs Miktari'].value_counts().head(25)"
   ]
  },
  {
   "cell_type": "code",
   "execution_count": 42,
   "metadata": {},
   "outputs": [
    {
     "name": "stdout",
     "output_type": "stream",
     "text": [
      "Baska Kurumdan Aldigi Burs Miktari : 44162\n"
     ]
    },
    {
     "data": {
      "text/plain": [
       "Baska Kurumdan Aldigi Burs Miktari\n",
       "-                4724\n",
       "500 ve üzeri     4513\n",
       "500₺ - 999₺      2448\n",
       "500              1966\n",
       "425              1344\n",
       "400               931\n",
       "300-500           920\n",
       "300               395\n",
       "Diğer             275\n",
       "200               240\n",
       "1000₺ ve üstü     238\n",
       "0 - 499₺          216\n",
       "150               149\n",
       "250               145\n",
       "300 TL            131\n",
       "425 TL            115\n",
       "330                90\n",
       "450                77\n",
       "600                76\n",
       "100                68\n",
       "420                61\n",
       "425 tl             55\n",
       "300 tl             53\n",
       "220                50\n",
       "400 TL             50\n",
       "Name: count, dtype: int64"
      ]
     },
     "execution_count": 42,
     "metadata": {},
     "output_type": "execute_result"
    }
   ],
   "source": [
    "print(f\"Baska Kurumdan Aldigi Burs Miktari : {train[\"Baska Kurumdan Aldigi Burs Miktari\"].isna().sum()}\")\n",
    "train['Baska Kurumdan Aldigi Burs Miktari'].value_counts().head(25)"
   ]
  },
  {
   "cell_type": "code",
   "execution_count": 43,
   "metadata": {},
   "outputs": [
    {
     "name": "stdout",
     "output_type": "stream",
     "text": [
      "Baska Kurumdan Aldigi Burs Miktari : 44162\n"
     ]
    },
    {
     "data": {
      "text/plain": [
       "Baska Kurumdan Aldigi Burs Miktari\n",
       "-                4724\n",
       "500 ve üzeri     4513\n",
       "500₺ - 999₺      2448\n",
       "500              1966\n",
       "425              1344\n",
       "400               931\n",
       "300-500           920\n",
       "300               395\n",
       "Diğer             275\n",
       "200               240\n",
       "1000₺ ve üstü     238\n",
       "0 - 499₺          216\n",
       "150               149\n",
       "250               145\n",
       "300 TL            131\n",
       "425 TL            115\n",
       "330                90\n",
       "450                77\n",
       "600                76\n",
       "100                68\n",
       "420                61\n",
       "425 tl             55\n",
       "300 tl             53\n",
       "220                50\n",
       "400 TL             50\n",
       "Name: count, dtype: int64"
      ]
     },
     "execution_count": 43,
     "metadata": {},
     "output_type": "execute_result"
    }
   ],
   "source": [
    "print(f\"Baska Kurumdan Aldigi Burs Miktari : {train[\"Baska Kurumdan Aldigi Burs Miktari\"].isna().sum()}\")\n",
    "train['Baska Kurumdan Aldigi Burs Miktari'].value_counts().head(25)"
   ]
  },
  {
   "cell_type": "markdown",
   "metadata": {},
   "source": [
    "## 2.10 Bölüm"
   ]
  },
  {
   "cell_type": "code",
   "execution_count": 44,
   "metadata": {},
   "outputs": [
    {
     "name": "stdout",
     "output_type": "stream",
     "text": [
      "Bölüm none veri sayisi : 231\n"
     ]
    }
   ],
   "source": [
    "print(f\"Bölüm none veri sayisi : {train[\"Bölüm\"].isna().sum()}\")"
   ]
  },
  {
   "cell_type": "code",
   "execution_count": 45,
   "metadata": {},
   "outputs": [
    {
     "name": "stdout",
     "output_type": "stream",
     "text": [
      "Bölüm none veri sayisi : 231\n",
      "Bölüm nunique veri sayisi : 5244\n",
      "Bölüm\n",
      "isletme                                     2913\n",
      "endustri muhendisligi                       2835\n",
      "bilgisayar muhendisligi                     2245\n",
      "hukuk                                       2007\n",
      "makine muhendisligi                         1552\n",
      "iktisat                                     1529\n",
      "tip                                         1334\n",
      "insaat muhendisligi                         1206\n",
      "uluslararasi iliskiler                       974\n",
      "elektrik-elektronik muhendisligi             957\n",
      "diger                                        957\n",
      "elektrik elektronik muhendisligi             830\n",
      "mimarlik                                     826\n",
      "hemsirelik                                   804\n",
      "psikoloji                                    758\n",
      "siyaset bilimi ve kamu yonetimi              715\n",
      "ilahiyat                                     601\n",
      "maliye                                       596\n",
      "sosyoloji                                    586\n",
      "eczacilik                                    567\n",
      "dis hekimligi                                561\n",
      "yonetim bilisim sistemleri                   471\n",
      "rehberlik ve psikolojik danismanlik          469\n",
      "matematik                                    460\n",
      "siyaset bilimi ve uluslararasi iliskiler     458\n",
      "Name: count, dtype: int64\n"
     ]
    }
   ],
   "source": [
    "train['Bölüm'] = train['Bölüm'].astype(str).apply(normalize_turkish_with_unicode)\n",
    "\n",
    "\n",
    "print(f\"Bölüm none veri sayisi : {train[\"Bölüm\"].isna().sum()}\")\n",
    "\n",
    "print(f\"Bölüm nunique veri sayisi : {train['Bölüm'].value_counts().shape[0]}\")\n",
    "\n",
    "print(train[\"Bölüm\"].value_counts().head(25))"
   ]
  },
  {
   "cell_type": "code",
   "execution_count": 46,
   "metadata": {},
   "outputs": [
    {
     "name": "stdout",
     "output_type": "stream",
     "text": [
      "Bölüm\n",
      "endustri                           4368\n",
      "elektronik                         3164\n",
      "isletme                            2913\n",
      "bilgisayar muhendisligi            2773\n",
      "makine                             2165\n",
      "hukuk                              2007\n",
      "insaat                             1605\n",
      "iktisat                            1529\n",
      "tip                                1334\n",
      "uluslararasi iliskiler              974\n",
      "diger                               957\n",
      "mimarlik                            826\n",
      "hemsirelik                          804\n",
      "psikoloji                           758\n",
      "siyaset bilimi ve kamu yonetimi     715\n",
      "ilahiyat                            601\n",
      "maliye                              596\n",
      "sosyoloji                           586\n",
      "mekatronik                          578\n",
      "eczacilik                           567\n",
      "dis hekimligi                       561\n",
      "gida                                503\n",
      "cevre                               490\n",
      "metalurji                           472\n",
      "yonetim bilisim sistemleri          471\n",
      "Name: count, dtype: int64\n"
     ]
    }
   ],
   "source": [
    "def temizle_bolum(bolum):\n",
    "    if pd.isna(bolum):\n",
    "        return None\n",
    "    if isinstance(bolum, str):\n",
    "        bolum = bolum.lower()\n",
    "        bolum = bolum.strip()\n",
    "\n",
    "        for bolum_i in bolumler:\n",
    "            if bolum_i.lower() in bolum:\n",
    "                return bolum_i.lower()\n",
    "    return bolum\n",
    "\n",
    "bolumler = [\n",
    "    \"makine\", \"endustri\", \"elektronik\",\"insaat\",\"mekatronik\",\"metalurji\",\"cevre\",\"petrol\",\"maden\",\"gida\",\"ucak\",\n",
    "    \"Uzay\",\"robotik\",\"otomotiv\",\"tekstil\",\"bilgisayar muhendisligi\",\"yazilim\"\n",
    "    ]\n",
    "\n",
    "train['Bölüm'] = train['Bölüm'].str.replace('-', '').str.strip()\n",
    "train[\"Bölüm\"] = train[\"Bölüm\"].apply(temizle_bolum)\n",
    "print(train[\"Bölüm\"].value_counts().head(25).tail(25))"
   ]
  },
  {
   "cell_type": "markdown",
   "metadata": {},
   "source": [
    "## 2.11 Universite Kacinci Sinif"
   ]
  },
  {
   "cell_type": "code",
   "execution_count": 47,
   "metadata": {},
   "outputs": [
    {
     "name": "stdout",
     "output_type": "stream",
     "text": [
      "Universite Kacinci Sinif none veri sayisi : 374\n"
     ]
    }
   ],
   "source": [
    "print(f\"Universite Kacinci Sinif none veri sayisi : {train[\"Universite Kacinci Sinif\"].isna().sum()}\")"
   ]
  },
  {
   "cell_type": "code",
   "execution_count": 48,
   "metadata": {},
   "outputs": [
    {
     "data": {
      "text/plain": [
       "Universite Kacinci Sinif\n",
       "2                21773\n",
       "3                16956\n",
       "4                13113\n",
       "1                10260\n",
       "hazirlik          1308\n",
       "5                  961\n",
       "mezun              178\n",
       "6                  177\n",
       "yuksek lisans       15\n",
       "tez                  7\n",
       "0                    3\n",
       "Name: count, dtype: int64"
      ]
     },
     "execution_count": 48,
     "metadata": {},
     "output_type": "execute_result"
    }
   ],
   "source": [
    "train[\"Universite Kacinci Sinif\"] = train[\"Universite Kacinci Sinif\"].astype(str).apply(normalize_turkish_with_unicode)\n",
    "\n",
    "train[\"Universite Kacinci Sinif\"].value_counts()"
   ]
  },
  {
   "cell_type": "code",
   "execution_count": 49,
   "metadata": {},
   "outputs": [],
   "source": [
    "uni_sinif_mapping = {'1': 1, '2': 2, '3': 3,'4': 4, '5': 5,'6':5,'yuksek lisans':7,'tez':7,'mezun':6,\"hazirlik\":0, \"0\":0}"
   ]
  },
  {
   "cell_type": "code",
   "execution_count": 50,
   "metadata": {},
   "outputs": [],
   "source": [
    "train['Universite Kacinci Sinif'] = train['Universite Kacinci Sinif'].map(uni_sinif_mapping)"
   ]
  },
  {
   "cell_type": "code",
   "execution_count": 51,
   "metadata": {},
   "outputs": [
    {
     "data": {
      "text/plain": [
       "Universite Kacinci Sinif\n",
       "2.0    21773\n",
       "3.0    16956\n",
       "4.0    13113\n",
       "1.0    10260\n",
       "0.0     1311\n",
       "5.0     1138\n",
       "6.0      178\n",
       "7.0       22\n",
       "Name: count, dtype: int64"
      ]
     },
     "execution_count": 51,
     "metadata": {},
     "output_type": "execute_result"
    }
   ],
   "source": [
    "train['Universite Kacinci Sinif'].value_counts()"
   ]
  },
  {
   "cell_type": "markdown",
   "metadata": {},
   "source": [
    "## 2.12 Universite Not Ortalamasi"
   ]
  },
  {
   "cell_type": "code",
   "execution_count": 52,
   "metadata": {},
   "outputs": [
    {
     "name": "stdout",
     "output_type": "stream",
     "text": [
      "Universite Not Ortalamasi none veri sayisi : 2753\n"
     ]
    },
    {
     "data": {
      "text/plain": [
       "Universite Not Ortalamasi\n",
       "3.00-2.50              10758\n",
       "2.50 ve altı           10554\n",
       "3.00 - 3.50             7913\n",
       "3.50-3                  6179\n",
       "2.50 - 3.00             5782\n",
       "3.50 - 4.00             4462\n",
       "2.00 - 2.50             2519\n",
       "2.50 - 2.99             2452\n",
       "ORTALAMA BULUNMUYOR     2399\n",
       "3.00 - 3.49             2382\n",
       "2.50 -3.00              1734\n",
       "3.00 - 4.00             1411\n",
       "1.80 - 2.49             1166\n",
       "Hazırlığım               668\n",
       "Not ortalaması yok       586\n",
       "4-3.5                    481\n",
       "Ortalama bulunmuyor      413\n",
       "1.00 - 2.50              327\n",
       "0 - 1.79                 185\n",
       "4.0-3.5                    1\n",
       "Name: count, dtype: int64"
      ]
     },
     "execution_count": 52,
     "metadata": {},
     "output_type": "execute_result"
    }
   ],
   "source": [
    "print(f\"Universite Not Ortalamasi none veri sayisi : {train[\"Universite Not Ortalamasi\"].isna().sum()}\")\n",
    "\n",
    "train[\"Universite Not Ortalamasi\"].value_counts()"
   ]
  },
  {
   "cell_type": "code",
   "execution_count": 53,
   "metadata": {},
   "outputs": [],
   "source": [
    "uni_not_mapping = {'ORTALAMA BULUNMUYOR': np.nan, 'Not ortalaması yok': np.nan, 'Hazırlığım': np.nan,'Ortalama bulunmuyor': np.nan,\n",
    "                      \"0 - 1.79\": 1,\n",
    "                      \"1.00 - 2.50\":2,\"1.80 - 2.49\":2,\"2.50 ve altı\":2,\"2.00 - 2.50\":2,\n",
    "                      \"3.00-2.50\":3,\"2.50 -3.00\":3,\"2.50 - 2.99\":3,\"2.50 - 3.00\":3,\n",
    "                      \"3.00 - 3.50\":4,\"3.00 - 4.00\":4,\"3.00 - 3.49\":4,\"3.50-3\":4,\n",
    "                      \"4-3.5\":5,\"4-3.5\":5,\"3.50 - 4.00\":5,\"4.0-3.5\":5}\n",
    "\n",
    "train['Universite Not Ortalamasi'] = train['Universite Not Ortalamasi'].map(uni_not_mapping)"
   ]
  },
  {
   "cell_type": "code",
   "execution_count": 54,
   "metadata": {},
   "outputs": [
    {
     "name": "stdout",
     "output_type": "stream",
     "text": [
      "Universite Not Ortalamasi none veri sayisi : 6819\n"
     ]
    },
    {
     "data": {
      "text/plain": [
       "Universite Not Ortalamasi\n",
       "3.0    20726\n",
       "4.0    17885\n",
       "2.0    14566\n",
       "5.0     4944\n",
       "1.0      185\n",
       "Name: count, dtype: int64"
      ]
     },
     "execution_count": 54,
     "metadata": {},
     "output_type": "execute_result"
    }
   ],
   "source": [
    "print(f\"Universite Not Ortalamasi none veri sayisi : {train[\"Universite Not Ortalamasi\"].isna().sum()}\")\n",
    "train[\"Universite Not Ortalamasi\"].value_counts()"
   ]
  },
  {
   "cell_type": "code",
   "execution_count": 55,
   "metadata": {},
   "outputs": [
    {
     "data": {
      "text/html": [
       "<div>\n",
       "<style scoped>\n",
       "    .dataframe tbody tr th:only-of-type {\n",
       "        vertical-align: middle;\n",
       "    }\n",
       "\n",
       "    .dataframe tbody tr th {\n",
       "        vertical-align: top;\n",
       "    }\n",
       "\n",
       "    .dataframe thead tr th {\n",
       "        text-align: left;\n",
       "    }\n",
       "\n",
       "    .dataframe thead tr:last-of-type th {\n",
       "        text-align: right;\n",
       "    }\n",
       "</style>\n",
       "<table border=\"1\" class=\"dataframe\">\n",
       "  <thead>\n",
       "    <tr>\n",
       "      <th></th>\n",
       "      <th colspan=\"3\" halign=\"left\">Degerlendirme Puani</th>\n",
       "    </tr>\n",
       "    <tr>\n",
       "      <th></th>\n",
       "      <th>mean</th>\n",
       "      <th>std</th>\n",
       "      <th>count</th>\n",
       "    </tr>\n",
       "    <tr>\n",
       "      <th>Universite Not Ortalamasi</th>\n",
       "      <th></th>\n",
       "      <th></th>\n",
       "      <th></th>\n",
       "    </tr>\n",
       "  </thead>\n",
       "  <tbody>\n",
       "    <tr>\n",
       "      <th>1.0</th>\n",
       "      <td>23.000000</td>\n",
       "      <td>13.690682</td>\n",
       "      <td>185</td>\n",
       "    </tr>\n",
       "    <tr>\n",
       "      <th>2.0</th>\n",
       "      <td>30.999313</td>\n",
       "      <td>18.543046</td>\n",
       "      <td>14566</td>\n",
       "    </tr>\n",
       "    <tr>\n",
       "      <th>3.0</th>\n",
       "      <td>32.445887</td>\n",
       "      <td>17.958605</td>\n",
       "      <td>20725</td>\n",
       "    </tr>\n",
       "    <tr>\n",
       "      <th>4.0</th>\n",
       "      <td>33.979256</td>\n",
       "      <td>17.659297</td>\n",
       "      <td>17885</td>\n",
       "    </tr>\n",
       "    <tr>\n",
       "      <th>5.0</th>\n",
       "      <td>37.197613</td>\n",
       "      <td>18.074172</td>\n",
       "      <td>4944</td>\n",
       "    </tr>\n",
       "  </tbody>\n",
       "</table>\n",
       "</div>"
      ],
      "text/plain": [
       "                          Degerlendirme Puani                  \n",
       "                                         mean        std  count\n",
       "Universite Not Ortalamasi                                      \n",
       "1.0                                 23.000000  13.690682    185\n",
       "2.0                                 30.999313  18.543046  14566\n",
       "3.0                                 32.445887  17.958605  20725\n",
       "4.0                                 33.979256  17.659297  17885\n",
       "5.0                                 37.197613  18.074172   4944"
      ]
     },
     "execution_count": 55,
     "metadata": {},
     "output_type": "execute_result"
    }
   ],
   "source": [
    "train.groupby(\"Universite Not Ortalamasi\").agg({\"Degerlendirme Puani\": [\"mean\", \"std\",\"count\"]})"
   ]
  },
  {
   "cell_type": "markdown",
   "metadata": {},
   "source": [
    "## 2.13 Daha Once Baska Bir Universiteden Mezun Olmus"
   ]
  },
  {
   "cell_type": "code",
   "execution_count": 56,
   "metadata": {},
   "outputs": [
    {
     "name": "stdout",
     "output_type": "stream",
     "text": [
      "Daha Once Baska Bir Universiteden Mezun Olmus none veri sayisi : 37345\n"
     ]
    },
    {
     "data": {
      "text/plain": [
       "Daha Once Baska Bir Universiteden Mezun Olmus\n",
       "Hayır    26624\n",
       "Evet      1156\n",
       "Name: count, dtype: int64"
      ]
     },
     "execution_count": 56,
     "metadata": {},
     "output_type": "execute_result"
    }
   ],
   "source": [
    "print(f\"Daha Once Baska Bir Universiteden Mezun Olmus none veri sayisi : {train[\"Daha Once Baska Bir Universiteden Mezun Olmus\"].isna().sum()}\")\n",
    "train[\"Daha Once Baska Bir Universiteden Mezun Olmus\"].value_counts()"
   ]
  },
  {
   "cell_type": "code",
   "execution_count": 57,
   "metadata": {},
   "outputs": [
    {
     "data": {
      "text/plain": [
       "Daha Once Baska Bir Universiteden Mezun Olmus\n",
       "Hayır    63969\n",
       "Evet      1156\n",
       "Name: count, dtype: int64"
      ]
     },
     "execution_count": 57,
     "metadata": {},
     "output_type": "execute_result"
    }
   ],
   "source": [
    "train[\"Daha Once Baska Bir Universiteden Mezun Olmus\"].fillna('Hayır', inplace=True)\n",
    "train[\"Daha Once Baska Bir Universiteden Mezun Olmus\"].value_counts()"
   ]
  },
  {
   "cell_type": "markdown",
   "metadata": {},
   "source": [
    "## 2.14 Lise Adi Diger, Lise Turu"
   ]
  },
  {
   "cell_type": "code",
   "execution_count": 58,
   "metadata": {},
   "outputs": [
    {
     "name": "stdout",
     "output_type": "stream",
     "text": [
      "Lise Adi none veri sayisi : 384\n"
     ]
    },
    {
     "data": {
      "text/plain": [
       "Lise Adi\n",
       "------                                                                             4251\n",
       "Atatürk Lisesi                                                                      199\n",
       "Açık öğretim lisesi                                                                 161\n",
       "Açık Öğretim Lisesi                                                                 151\n",
       "Cumhuriyet Anadolu Lisesi                                                           146\n",
       "                                                                                   ... \n",
       "Nişantaşı Işık Lisesi                                                                 1\n",
       "Tarsus atatürk lisesi                                                                 1\n",
       "Hüsniye Özdilek Ticaret ve İletişim Anadolu Lisesi (Radyo ve Televizyon Bölümü)       1\n",
       "Ses okulları                                                                          1\n",
       "Samsun Terme Karadeniz mesleki teknik Anadolu lisesi                                  1\n",
       "Name: count, Length: 31950, dtype: int64"
      ]
     },
     "execution_count": 58,
     "metadata": {},
     "output_type": "execute_result"
    }
   ],
   "source": [
    "print(f\"Lise Adi none veri sayisi : {train[\"Lise Adi\"].isna().sum()}\")\n",
    "train[\"Lise Adi\"].value_counts()"
   ]
  },
  {
   "cell_type": "code",
   "execution_count": 59,
   "metadata": {},
   "outputs": [
    {
     "name": "stdout",
     "output_type": "stream",
     "text": [
      "Lise Adi Diger none veri sayisi : 60392\n"
     ]
    },
    {
     "data": {
      "text/plain": [
       "Lise Adi Diger\n",
       "Atatürk Anadolu Lisesi         8\n",
       "Beşiktaş Anadolu Lisesi        7\n",
       "Açıköğretim lisesi             6\n",
       "Uşak Fen Lisesi                6\n",
       "Kocaeli Anadolu Lisesi         6\n",
       "                              ..\n",
       "Seyyid Burhaneddin ATL         1\n",
       "Süleyman Çelebi                1\n",
       "Bitls Ticaret meslek lisesi    1\n",
       "Van Fen Lisesi                 1\n",
       "büyük çiğli anadolu lisesi     1\n",
       "Name: count, Length: 4010, dtype: int64"
      ]
     },
     "execution_count": 59,
     "metadata": {},
     "output_type": "execute_result"
    }
   ],
   "source": [
    "print(f\"Lise Adi Diger none veri sayisi : {train[\"Lise Adi Diger\"].isna().sum()}\")\n",
    "train[\"Lise Adi Diger\"].value_counts()"
   ]
  },
  {
   "cell_type": "code",
   "execution_count": 60,
   "metadata": {},
   "outputs": [
    {
     "name": "stdout",
     "output_type": "stream",
     "text": [
      "603                   İstanbul Alman Lisesi\n",
      "605           Mugla Anadolu öğretmen Lisesi\n",
      "607                     imkb anadalo lisesi\n",
      "609    Orta Doğu Teknik Üniversitesi Koleji\n",
      "616                   Diltaş Anadolu Lisesi\n",
      "Name: Lise Adi Diger, dtype: object\n",
      "Lise Adi Diger none veri sayisi : 275\n"
     ]
    }
   ],
   "source": [
    "print(train[train[\"Lise Adi\"] == \"------\"][\"Lise Adi Diger\"].head())\n",
    "print(f\"Lise Adi Diger none veri sayisi : {train[train[\"Lise Adi\"] == \"------\"][\"Lise Adi Diger\"].isna().sum()}\")"
   ]
  },
  {
   "cell_type": "code",
   "execution_count": 61,
   "metadata": {},
   "outputs": [
    {
     "name": "stdout",
     "output_type": "stream",
     "text": [
      "Lise Adi none veri sayisi : 659\n"
     ]
    },
    {
     "data": {
      "text/plain": [
       "Lise Adi\n",
       "Atatürk Lisesi                                               199\n",
       "Açık öğretim lisesi                                          163\n",
       "Açık Öğretim Lisesi                                          157\n",
       "Cumhuriyet Anadolu Lisesi                                    147\n",
       "Atatürk Anadolu Lisesi                                       143\n",
       "                                                            ... \n",
       "özel İstanbul Beylikdüzü temel lisesi                          1\n",
       "GemlikTİcaret Meslek Lisesi                                    1\n",
       "Beşir Balcıoğlu Anadolu Lisesi-KRK Szilady Aron Gimnazium      1\n",
       "Istanbulluoğlu Anadolu Öğretmen lisesi                         1\n",
       "Samsun Terme Karadeniz mesleki teknik Anadolu lisesi           1\n",
       "Name: count, Length: 33881, dtype: int64"
      ]
     },
     "execution_count": 61,
     "metadata": {},
     "output_type": "execute_result"
    }
   ],
   "source": [
    "train.loc[train[\"Lise Adi\"] == '------',\"Lise Adi\"] = train[\"Lise Adi Diger\"]\n",
    "print(f\"Lise Adi none veri sayisi : {train[\"Lise Adi\"].isna().sum()}\")\n",
    "train[\"Lise Adi\"].value_counts()"
   ]
  },
  {
   "cell_type": "code",
   "execution_count": 62,
   "metadata": {},
   "outputs": [],
   "source": [
    "train.loc[(train[\"Lise Adi\"] == '------') | (train[\"Lise Adi\"].isna()), \"Lise Adi\"] = train[\"Lise Adi Diger\"]"
   ]
  },
  {
   "cell_type": "code",
   "execution_count": 63,
   "metadata": {},
   "outputs": [
    {
     "name": "stdout",
     "output_type": "stream",
     "text": [
      "Lise Adi none veri sayisi : 659\n"
     ]
    },
    {
     "data": {
      "text/plain": [
       "Lise Adi\n",
       "Atatürk Lisesi                                               199\n",
       "Açık öğretim lisesi                                          163\n",
       "Açık Öğretim Lisesi                                          157\n",
       "Cumhuriyet Anadolu Lisesi                                    147\n",
       "Atatürk Anadolu Lisesi                                       143\n",
       "                                                            ... \n",
       "özel İstanbul Beylikdüzü temel lisesi                          1\n",
       "GemlikTİcaret Meslek Lisesi                                    1\n",
       "Beşir Balcıoğlu Anadolu Lisesi-KRK Szilady Aron Gimnazium      1\n",
       "Istanbulluoğlu Anadolu Öğretmen lisesi                         1\n",
       "Samsun Terme Karadeniz mesleki teknik Anadolu lisesi           1\n",
       "Name: count, Length: 33881, dtype: int64"
      ]
     },
     "execution_count": 63,
     "metadata": {},
     "output_type": "execute_result"
    }
   ],
   "source": [
    "print(f\"Lise Adi none veri sayisi : {train[\"Lise Adi\"].isna().sum()}\")\n",
    "train[\"Lise Adi\"].value_counts()"
   ]
  },
  {
   "cell_type": "code",
   "execution_count": 64,
   "metadata": {},
   "outputs": [
    {
     "name": "stdout",
     "output_type": "stream",
     "text": [
      "Lise Turu none veri sayisi : 847\n"
     ]
    },
    {
     "data": {
      "text/plain": [
       "Lise Turu\n",
       "anadolu lisesi       20369\n",
       "diger                13184\n",
       "duz lise              6968\n",
       "devlet                6204\n",
       "ozel                  4746\n",
       "meslek lisesi         4081\n",
       "fen lisesi            2819\n",
       "meslek                2454\n",
       "ozel lisesi           1963\n",
       "imam hatip lisesi     1158\n",
       "ozel lise              332\n",
       "Name: count, dtype: int64"
      ]
     },
     "execution_count": 64,
     "metadata": {},
     "output_type": "execute_result"
    }
   ],
   "source": [
    "train[\"Lise Turu\"] = train[\"Lise Turu\"].astype(str).apply(normalize_turkish_with_unicode)\n",
    "print(f\"Lise Turu none veri sayisi : {train[\"Lise Turu\"].isna().sum()}\")\n",
    "train[\"Lise Turu\"].value_counts()"
   ]
  },
  {
   "cell_type": "code",
   "execution_count": 65,
   "metadata": {},
   "outputs": [
    {
     "name": "stdout",
     "output_type": "stream",
     "text": [
      "Lise Turu none veri sayisi : 847\n"
     ]
    },
    {
     "data": {
      "text/plain": [
       "Lise Turu\n",
       "anadolu lisesi       20369\n",
       "diger                13184\n",
       "ozel                  7041\n",
       "duz lise              6968\n",
       "meslek                6535\n",
       "devlet                6204\n",
       "fen lisesi            2819\n",
       "imam hatip lisesi     1158\n",
       "Name: count, dtype: int64"
      ]
     },
     "execution_count": 65,
     "metadata": {},
     "output_type": "execute_result"
    }
   ],
   "source": [
    "def temizle_lise_turu(lise_turu):\n",
    "    if pd.isna(lise_turu):\n",
    "        return None\n",
    "    if isinstance(lise_turu, str):\n",
    "        lise_turu = lise_turu.lower()\n",
    "        lise_turu = lise_turu.strip()\n",
    "            \n",
    "        if \"ozel\" in lise_turu:\n",
    "            return \"ozel\"\n",
    "        \n",
    "        if \"meslek\" in lise_turu:\n",
    "            return \"meslek\"\n",
    "\n",
    "    return lise_turu\n",
    "\n",
    "train['Lise Turu'] = train['Lise Turu'].str.replace('-', '').str.strip()\n",
    "train[\"Lise Turu\"] = train[\"Lise Turu\"].apply(temizle_lise_turu)\n",
    "print(f\"Lise Turu none veri sayisi : {train[\"Lise Turu\"].isna().sum()}\")\n",
    "train[\"Lise Turu\"].value_counts()"
   ]
  },
  {
   "cell_type": "code",
   "execution_count": 66,
   "metadata": {},
   "outputs": [
    {
     "data": {
      "text/html": [
       "<div>\n",
       "<style scoped>\n",
       "    .dataframe tbody tr th:only-of-type {\n",
       "        vertical-align: middle;\n",
       "    }\n",
       "\n",
       "    .dataframe tbody tr th {\n",
       "        vertical-align: top;\n",
       "    }\n",
       "\n",
       "    .dataframe thead tr th {\n",
       "        text-align: left;\n",
       "    }\n",
       "\n",
       "    .dataframe thead tr:last-of-type th {\n",
       "        text-align: right;\n",
       "    }\n",
       "</style>\n",
       "<table border=\"1\" class=\"dataframe\">\n",
       "  <thead>\n",
       "    <tr>\n",
       "      <th></th>\n",
       "      <th colspan=\"3\" halign=\"left\">Degerlendirme Puani</th>\n",
       "    </tr>\n",
       "    <tr>\n",
       "      <th></th>\n",
       "      <th>mean</th>\n",
       "      <th>std</th>\n",
       "      <th>count</th>\n",
       "    </tr>\n",
       "    <tr>\n",
       "      <th>Lise Turu</th>\n",
       "      <th></th>\n",
       "      <th></th>\n",
       "      <th></th>\n",
       "    </tr>\n",
       "  </thead>\n",
       "  <tbody>\n",
       "    <tr>\n",
       "      <th>anadolu lisesi</th>\n",
       "      <td>35.162993</td>\n",
       "      <td>19.940461</td>\n",
       "      <td>20369</td>\n",
       "    </tr>\n",
       "    <tr>\n",
       "      <th>devlet</th>\n",
       "      <td>30.817346</td>\n",
       "      <td>14.515079</td>\n",
       "      <td>6203</td>\n",
       "    </tr>\n",
       "    <tr>\n",
       "      <th>diger</th>\n",
       "      <td>30.683783</td>\n",
       "      <td>15.904170</td>\n",
       "      <td>13184</td>\n",
       "    </tr>\n",
       "    <tr>\n",
       "      <th>duz lise</th>\n",
       "      <td>29.842566</td>\n",
       "      <td>17.880150</td>\n",
       "      <td>6968</td>\n",
       "    </tr>\n",
       "    <tr>\n",
       "      <th>fen lisesi</th>\n",
       "      <td>39.023058</td>\n",
       "      <td>19.916999</td>\n",
       "      <td>2819</td>\n",
       "    </tr>\n",
       "    <tr>\n",
       "      <th>imam hatip lisesi</th>\n",
       "      <td>22.531088</td>\n",
       "      <td>15.915843</td>\n",
       "      <td>1158</td>\n",
       "    </tr>\n",
       "    <tr>\n",
       "      <th>meslek</th>\n",
       "      <td>26.336190</td>\n",
       "      <td>16.601232</td>\n",
       "      <td>6535</td>\n",
       "    </tr>\n",
       "    <tr>\n",
       "      <th>ozel</th>\n",
       "      <td>35.073285</td>\n",
       "      <td>17.476357</td>\n",
       "      <td>7041</td>\n",
       "    </tr>\n",
       "  </tbody>\n",
       "</table>\n",
       "</div>"
      ],
      "text/plain": [
       "                  Degerlendirme Puani                  \n",
       "                                 mean        std  count\n",
       "Lise Turu                                              \n",
       "anadolu lisesi              35.162993  19.940461  20369\n",
       "devlet                      30.817346  14.515079   6203\n",
       "diger                       30.683783  15.904170  13184\n",
       "duz lise                    29.842566  17.880150   6968\n",
       "fen lisesi                  39.023058  19.916999   2819\n",
       "imam hatip lisesi           22.531088  15.915843   1158\n",
       "meslek                      26.336190  16.601232   6535\n",
       "ozel                        35.073285  17.476357   7041"
      ]
     },
     "execution_count": 66,
     "metadata": {},
     "output_type": "execute_result"
    }
   ],
   "source": [
    "train.groupby(\"Lise Turu\").agg({\"Degerlendirme Puani\": [\"mean\", \"std\",\"count\"]})"
   ]
  },
  {
   "cell_type": "markdown",
   "metadata": {},
   "source": [
    "## 2.15 Lise Bolumu"
   ]
  },
  {
   "cell_type": "code",
   "execution_count": 67,
   "metadata": {},
   "outputs": [
    {
     "data": {
      "text/plain": [
       "1009"
      ]
     },
     "execution_count": 67,
     "metadata": {},
     "output_type": "execute_result"
    }
   ],
   "source": [
    "train[\"Lise Bolumu\"].isnull().sum()"
   ]
  },
  {
   "cell_type": "code",
   "execution_count": 68,
   "metadata": {},
   "outputs": [
    {
     "name": "stdout",
     "output_type": "stream",
     "text": [
      "Lise Bolumu none veri sayisi : 1009\n"
     ]
    },
    {
     "data": {
      "text/plain": [
       "Lise Bolumu\n",
       "Sayısal                                28980\n",
       "Eşit Ağırlık                           16936\n",
       "FEN SAYISAL BİLİMLERİ ALANI             3995\n",
       "Sözel                                   3630\n",
       "EŞİT AĞIRLIK TÜRKÇE-MATEMATİK ALANI     2786\n",
       "                                       ...  \n",
       "Arkeoloji                                  1\n",
       "ELEKTİRİK VE ELEKTRONİK BÖLÜMÜ             1\n",
       "sosyal Bilgiler                            1\n",
       "Doğalgaz be tesisat teknolojileri          1\n",
       "Giyim Üretim Teknolojisi                   1\n",
       "Name: count, Length: 887, dtype: int64"
      ]
     },
     "execution_count": 68,
     "metadata": {},
     "output_type": "execute_result"
    }
   ],
   "source": [
    "print(f\"Lise Bolumu none veri sayisi : {train[\"Lise Bolumu\"].isna().sum()}\")\n",
    "train[\"Lise Bolumu\"].value_counts()"
   ]
  },
  {
   "cell_type": "code",
   "execution_count": 69,
   "metadata": {},
   "outputs": [
    {
     "name": "stdout",
     "output_type": "stream",
     "text": [
      "Lise Bolumu none veri sayisi : 1009\n"
     ]
    },
    {
     "data": {
      "text/plain": [
       "Lise Bolumu\n",
       "sayisal                                29639\n",
       "esit agirlik                           17420\n",
       "fen sayisal bilimleri alani             3995\n",
       "sozel                                   3697\n",
       "esit agirlik turkce-matematik alani     2786\n",
       "dil                                      785\n",
       "diger                                    743\n",
       "tm                                       717\n",
       "yabanci dil                              532\n",
       "fen bilimleri                            487\n",
       "sosyal alani                             411\n",
       "turkce-matematik                         314\n",
       "mf                                       287\n",
       "fen                                      272\n",
       "dil alani                                178\n",
       "turkce matematik                         175\n",
       "bilisim teknolojileri                    111\n",
       "matematik-fen                            108\n",
       "sosyal bilimler                           62\n",
       "fen-matematik                             41\n",
       "Name: count, dtype: int64"
      ]
     },
     "execution_count": 69,
     "metadata": {},
     "output_type": "execute_result"
    }
   ],
   "source": [
    "train[\"Lise Bolumu\"] = train[\"Lise Bolumu\"].astype(str).apply(normalize_turkish_with_unicode)\n",
    "print(f\"Lise Bolumu none veri sayisi : {train[\"Lise Bolumu\"].isna().sum()}\")\n",
    "train[\"Lise Bolumu\"].value_counts().head(20)"
   ]
  },
  {
   "cell_type": "code",
   "execution_count": 70,
   "metadata": {},
   "outputs": [
    {
     "name": "stdout",
     "output_type": "stream",
     "text": [
      "Lise Bolumu none veri sayisi : 1009\n"
     ]
    },
    {
     "data": {
      "text/plain": [
       "Lise Bolumu\n",
       "sayisal         35064\n",
       "esit agirlik    21636\n",
       "sozel            4210\n",
       "diger            1693\n",
       "dil              1513\n",
       "Name: count, dtype: int64"
      ]
     },
     "execution_count": 70,
     "metadata": {},
     "output_type": "execute_result"
    }
   ],
   "source": [
    "def temizle_lise_bolum(lise_bolum):\n",
    "    if pd.isna(lise_bolum):\n",
    "        return None\n",
    "    if isinstance(lise_bolum, str):\n",
    "        lise_bolum = lise_bolum.lower()\n",
    "        lise_bolum = lise_bolum.strip()\n",
    "            \n",
    "        if \"fen\" in lise_bolum:\n",
    "            return \"sayisal\"\n",
    "        \n",
    "        if \"sayisal\" in lise_bolum:\n",
    "            return \"sayisal\"\n",
    "        \n",
    "        elif \"esit\" in lise_bolum:\n",
    "            return \"esit agirlik\"\n",
    "        \n",
    "        elif \"turkce\" in lise_bolum:\n",
    "            return \"esit agirlik\"\n",
    "        \n",
    "        elif \"sozel\" in lise_bolum:\n",
    "            return \"sozel\"\n",
    "        \n",
    "        elif \"dil\" in lise_bolum:\n",
    "            return \"dil\"\n",
    "        \n",
    "        elif \"mf\" in lise_bolum:\n",
    "            return \"sayisal\"\n",
    "        \n",
    "        elif \"tm\" in lise_bolum:\n",
    "            return \"esit agirlik\"\n",
    "        \n",
    "        elif \"dil\" in lise_bolum:\n",
    "            return \"dil\"\n",
    "        \n",
    "        elif \"sosyal\" in lise_bolum:\n",
    "            return \"sozel\"\n",
    "        \n",
    "        else:\n",
    "            return \"diger\"\n",
    "\n",
    "    return lise_bolum\n",
    "\n",
    "train['Lise Bolumu'] = train['Lise Bolumu'].str.replace('-', '').str.strip()\n",
    "train[\"Lise Bolumu\"] = train[\"Lise Bolumu\"].apply(temizle_lise_bolum)\n",
    "print(f\"Lise Bolumu none veri sayisi : {train[\"Lise Bolumu\"].isna().sum()}\")\n",
    "train[\"Lise Bolumu\"].value_counts()"
   ]
  },
  {
   "cell_type": "code",
   "execution_count": 71,
   "metadata": {},
   "outputs": [
    {
     "data": {
      "text/html": [
       "<div>\n",
       "<style scoped>\n",
       "    .dataframe tbody tr th:only-of-type {\n",
       "        vertical-align: middle;\n",
       "    }\n",
       "\n",
       "    .dataframe tbody tr th {\n",
       "        vertical-align: top;\n",
       "    }\n",
       "\n",
       "    .dataframe thead tr th {\n",
       "        text-align: left;\n",
       "    }\n",
       "\n",
       "    .dataframe thead tr:last-of-type th {\n",
       "        text-align: right;\n",
       "    }\n",
       "</style>\n",
       "<table border=\"1\" class=\"dataframe\">\n",
       "  <thead>\n",
       "    <tr>\n",
       "      <th></th>\n",
       "      <th colspan=\"3\" halign=\"left\">Degerlendirme Puani</th>\n",
       "    </tr>\n",
       "    <tr>\n",
       "      <th></th>\n",
       "      <th>mean</th>\n",
       "      <th>std</th>\n",
       "      <th>count</th>\n",
       "    </tr>\n",
       "    <tr>\n",
       "      <th>Lise Bolumu</th>\n",
       "      <th></th>\n",
       "      <th></th>\n",
       "      <th></th>\n",
       "    </tr>\n",
       "  </thead>\n",
       "  <tbody>\n",
       "    <tr>\n",
       "      <th>diger</th>\n",
       "      <td>24.438275</td>\n",
       "      <td>13.675373</td>\n",
       "      <td>1693</td>\n",
       "    </tr>\n",
       "    <tr>\n",
       "      <th>dil</th>\n",
       "      <td>30.703042</td>\n",
       "      <td>16.702672</td>\n",
       "      <td>1512</td>\n",
       "    </tr>\n",
       "    <tr>\n",
       "      <th>esit agirlik</th>\n",
       "      <td>31.723239</td>\n",
       "      <td>17.902262</td>\n",
       "      <td>21636</td>\n",
       "    </tr>\n",
       "    <tr>\n",
       "      <th>sayisal</th>\n",
       "      <td>33.468914</td>\n",
       "      <td>18.466021</td>\n",
       "      <td>35064</td>\n",
       "    </tr>\n",
       "    <tr>\n",
       "      <th>sozel</th>\n",
       "      <td>26.530404</td>\n",
       "      <td>15.824280</td>\n",
       "      <td>4210</td>\n",
       "    </tr>\n",
       "  </tbody>\n",
       "</table>\n",
       "</div>"
      ],
      "text/plain": [
       "             Degerlendirme Puani                  \n",
       "                            mean        std  count\n",
       "Lise Bolumu                                       \n",
       "diger                  24.438275  13.675373   1693\n",
       "dil                    30.703042  16.702672   1512\n",
       "esit agirlik           31.723239  17.902262  21636\n",
       "sayisal                33.468914  18.466021  35064\n",
       "sozel                  26.530404  15.824280   4210"
      ]
     },
     "execution_count": 71,
     "metadata": {},
     "output_type": "execute_result"
    }
   ],
   "source": [
    "train.groupby(\"Lise Bolumu\").agg({\"Degerlendirme Puani\": [\"mean\", \"std\",\"count\"]})"
   ]
  },
  {
   "cell_type": "code",
   "execution_count": 72,
   "metadata": {},
   "outputs": [
    {
     "data": {
      "text/plain": [
       "Lise Bolum Diger\n",
       "Bilişim Teknolojileri                                                                                                  41\n",
       "BİLİŞİM TEKNOLOJİLERİ                                                                                                   9\n",
       "bilişim teknolojileri                                                                                                   9\n",
       "Bilgisayar                                                                                                              8\n",
       "Dış Ticaret                                                                                                             7\n",
       "Bilgisayar Programcılığı                                                                                                7\n",
       "çocuk gelişimi                                                                                                          7\n",
       "Muhasebe                                                                                                                7\n",
       "Bilgisayarlı Muhasebe                                                                                                   7\n",
       "Bilişim teknolojileri                                                                                                   7\n",
       "elektrik elektronik                                                                                                     6\n",
       "Muhasebe ve Finansman                                                                                                   6\n",
       "Elektrik-Elektronik                                                                                                     5\n",
       "bilgisayarlı muhasebe                                                                                                   5\n",
       "muhasebe                                                                                                                5\n",
       "Veri Tabanı Programcılığı                                                                                               4\n",
       "MUHASEBE                                                                                                                4\n",
       "sözel                                                                                                                   4\n",
       "Web Programcılığı                                                                                                       4\n",
       "ALAN YOK                                                                                                                3\n",
       "Motorlu Araçlar Teknolojisi                                                                                             3\n",
       "BİLGİSAYAR                                                                                                              3\n",
       "Elektrik Elektronik                                                                                                     3\n",
       "Elektronik                                                                                                              3\n",
       "MUHASEBE VE FİNANSMAN                                                                                                   3\n",
       "Hemşirelik                                                                                                              3\n",
       "Elektrik - Elektronik                                                                                                   2\n",
       "Gıda Teknolojisi                                                                                                        2\n",
       "Çocuk gelişimi ve eğitimi                                                                                               2\n",
       "alan yok                                                                                                                2\n",
       "müzik                                                                                                                   2\n",
       "makina teknolojisi                                                                                                      2\n",
       "bölüm yok                                                                                                               2\n",
       "Bilişim Teknolojileri Alanı                                                                                             2\n",
       "Spor                                                                                                                    2\n",
       "Mutfak                                                                                                                  2\n",
       "Bilişim Teknolojileri Bölümü                                                                                            2\n",
       "Elektrik-elektronik                                                                                                     2\n",
       "elektrik-elektronik                                                                                                     2\n",
       "Resim                                                                                                                   2\n",
       "GIDA TEKNOLOJİSİ                                                                                                        2\n",
       "elektronik                                                                                                              2\n",
       "Elektrik-Elektronik Teknolojisi                                                                                         2\n",
       "DIŞ TİCARET                                                                                                             2\n",
       "Web Tasarım                                                                                                             2\n",
       "makine                                                                                                                  2\n",
       "Web Tasarım ve Programlama                                                                                              2\n",
       "Genel                                                                                                                   2\n",
       "Grafik ve Fotoğraf                                                                                                      2\n",
       "BİLİŞİM TEKNOLOJİLERİ ALANI                                                                                             2\n",
       "ELEKTRONİK                                                                                                              2\n",
       "Meslek                                                                                                                  2\n",
       "yiyecek içecek hizmetleri                                                                                               2\n",
       "ÇOCUK GELİŞİMİ                                                                                                          2\n",
       "Muhasebe Ve Finansman                                                                                                   2\n",
       "hemşirelik                                                                                                              2\n",
       "web tasarım                                                                                                             2\n",
       "Muhasebe ve finansman                                                                                                   2\n",
       "bilişim teknolojisi                                                                                                     2\n",
       "dini ve sosyal                                                                                                          2\n",
       "Pazarlama                                                                                                               2\n",
       "Muhasebe ve Finans                                                                                                      2\n",
       "Makine                                                                                                                  2\n",
       "Çocuk Gelişimi                                                                                                          2\n",
       "Gazetecilik                                                                                                             2\n",
       "resim                                                                                                                   2\n",
       "bilişim                                                                                                                 2\n",
       "Bilişim Teknolojileri / Veri Tabanı Programcılığı                                                                       2\n",
       "Bilgisayar Programlama                                                                                                  1\n",
       "Hayvan Sağlığı                                                                                                          1\n",
       "bilişim teknolojileri bölümü                                                                                            1\n",
       "metal teknoluji                                                                                                         1\n",
       "Meslek lisesi                                                                                                           1\n",
       "ELEKTRİK VE ELEKTRONİK TEKNOLOJİSİ                                                                                      1\n",
       "BİLİŞİM TEKNOLOJİLERİ VERİTABANI DALI                                                                                   1\n",
       "ELEKTRONİK HABERLEŞME TEKNOLOJİSİ                                                                                       1\n",
       "MOTOR                                                                                                                   1\n",
       "Elektrik/Elektronik                                                                                                     1\n",
       "endusturu meslek lisesi                                                                                                 1\n",
       "meslek                                                                                                                  1\n",
       "tm                                                                                                                      1\n",
       "Meslek Lisesi                                                                                                           1\n",
       "nuhasebe                                                                                                                1\n",
       "resim öğretmenliği                                                                                                      1\n",
       "Bilişim Teknolojileri Bolumu                                                                                            1\n",
       "imam hatip                                                                                                              1\n",
       "Bilişim teknolojileri alanı                                                                                             1\n",
       "Elektronik Haberleşme Tekn.                                                                                             1\n",
       "Grafik Ve Fotoğraf                                                                                                      1\n",
       "BİLİŞİM TEKNOLOJİLERİ / WEB PROGRAMCILIĞI                                                                               1\n",
       "FEN                                                                                                                     1\n",
       "Sayısal Matematik-Fen                                                                                                   1\n",
       "Büro Yönetimi ve Yönetici Asistanlıgı                                                                                   1\n",
       "ELEKTRİK                                                                                                                1\n",
       "soğutma ve iklimlendirme                                                                                                1\n",
       "Web tasarım ve Programlama                                                                                              1\n",
       "elektirik elektronik                                                                                                    1\n",
       "web tasarım ve programlama                                                                                              1\n",
       "Müzik Bölümü                                                                                                            1\n",
       "elektrik-elektronik teknolojisi                                                                                         1\n",
       "ELEKTRIK ELEKTRONIK TEKNOLOJILERI                                                                                       1\n",
       "Elektronik Teknolojisi                                                                                                  1\n",
       "Makine Bölümü                                                                                                           1\n",
       "MAKİNE                                                                                                                  1\n",
       "sayısal matematik                                                                                                       1\n",
       "Sözel /sosyal                                                                                                           1\n",
       "ahşap tekmolojisi                                                                                                       1\n",
       "pazarlama perakende                                                                                                     1\n",
       "bize ders vermediler sadece boş bi kağıt parayı düşünen insanlar böyle olur                                             1\n",
       "makina ressamlığı                                                                                                       1\n",
       "Elektrik Elektronik Teknolojileri                                                                                       1\n",
       "Elektronik Haberleşme Teknolojisi                                                                                       1\n",
       "otomotiv                                                                                                                1\n",
       "bilgisayar bölümü                                                                                                       1\n",
       "ELEKTRİK ELEKTRONİK TEKNOLOJİSİ                                                                                         1\n",
       "Muhasebe ve Vergi Uygulamaları                                                                                          1\n",
       "Bİlişim sistemleri                                                                                                      1\n",
       "Denizcilik                                                                                                              1\n",
       "Elektirik                                                                                                               1\n",
       "elektrik-elektronik teknolojiler                                                                                        1\n",
       "anadolu teknik                                                                                                          1\n",
       "büro yönetimi                                                                                                           1\n",
       "elektrik elektronik teknolojisi                                                                                         1\n",
       "BİLİŞİM TEKNOLOJİLERİ/Wep Programcılığı                                                                                 1\n",
       "Metal teknolojisi                                                                                                       1\n",
       "Matbaa Teknolojisi Alanı                                                                                                1\n",
       "Bölüm yoktu                                                                                                             1\n",
       "Elektrik elektronik bölümü                                                                                              1\n",
       "Kimya                                                                                                                   1\n",
       "Mekanik                                                                                                                 1\n",
       "ÇOÇUK GELİŞİMİ                                                                                                          1\n",
       "Elektrik- Elektronik                                                                                                    1\n",
       "elektrik-elektornik                                                                                                     1\n",
       "İlk üç yıl sayısal ve son yıl eşit ağırlık öğrencisi idim.                                                              1\n",
       "Konservatuvar                                                                                                           1\n",
       "mobilya dekorasyon                                                                                                      1\n",
       "AŞÇILIK                                                                                                                 1\n",
       "IT                                                                                                                      1\n",
       "Lisede IB(international Bachalorate) programindan mezun oldum ayrica sayisal bolumu derslerini de basari ile verdim     1\n",
       "Bilisim teknolojileri                                                                                                   1\n",
       "Grafik tasarim ve fotografcilik                                                                                         1\n",
       "Grafik tasarım ve fotoğrafçılık                                                                                         1\n",
       "Askeri Lise Olduğu İçin Bölüm Seçimi Yoktu                                                                              1\n",
       "web tasarım programcılığı                                                                                               1\n",
       "Dış ticaret                                                                                                             1\n",
       "Makina Teknolojisi                                                                                                      1\n",
       "teknik lise                                                                                                             1\n",
       "Sayısal                                                                                                                 1\n",
       "Alan yok                                                                                                                1\n",
       "Uçak gövde motor                                                                                                        1\n",
       "grafik                                                                                                                  1\n",
       "Bilişim teknolojileri                                                                                                   1\n",
       "3 sene sayısal son sene eşit ağırlık okudum                                                                             1\n",
       "ELEKTRİK ELEKTRONİK/ ENDÜSTRİYEL BAKIM VE ONARIM                                                                        1\n",
       "Güverte                                                                                                                 1\n",
       "Elektrik ve Elektronik                                                                                                  1\n",
       "Peyzaj Planlama ve Tasarımı                                                                                             1\n",
       "Veri tabanı Programcılığı                                                                                               1\n",
       "Endüstriyel Otomasyon Teknolojileri                                                                                     1\n",
       "Meslek bilişim teknolojileri                                                                                            1\n",
       "muhasebe ve finansman                                                                                                   1\n",
       "Elektro mekanik taşıyıcılar                                                                                             1\n",
       "Alan dersleri C# Java                                                                                                   1\n",
       "Muhasebe finansman                                                                                                      1\n",
       "Büro Yönetimi ve Sekreterlik                                                                                            1\n",
       "Kontrol ve Otomasyon Teknolojileri                                                                                      1\n",
       "Hapisinden vardı                                                                                                        1\n",
       "Muhasebe/Finansman                                                                                                      1\n",
       "askeri lise                                                                                                             1\n",
       "HEMŞİRELİK                                                                                                              1\n",
       "tesisat teknolojisi ve iklimlendirme                                                                                    1\n",
       "Muhasebe ve finans                                                                                                      1\n",
       "İnsaat Teknolojisi                                                                                                      1\n",
       "Eşit Ağırlık Sözel - TMS (SBL'lere özel)                                                                                1\n",
       "Lojistik - Ulaştırma                                                                                                    1\n",
       "Elektrik, elektronik ve Telekomünikasyon                                                                                1\n",
       "Yabancı dil + sayısal                                                                                                   1\n",
       "Web tasarım bölümü                                                                                                      1\n",
       "adalet                                                                                                                  1\n",
       "bölüm yoktu karışık eğitim aldım                                                                                        1\n",
       "lojistik                                                                                                                1\n",
       "Pazarlama ve perakende                                                                                                  1\n",
       "Okul Öcesi Eğitimi                                                                                                      1\n",
       "Askeri                                                                                                                  1\n",
       "Lisede bölüm farklılığı yoktu.                                                                                          1\n",
       "genel kültür                                                                                                            1\n",
       "İNŞAAT                                                                                                                  1\n",
       "Bilisim Teknolojileri                                                                                                   1\n",
       "Bilgisayarlı Muhasebe - Eşit Ağırlık                                                                                    1\n",
       "bilgisayar/ veri tabanı programcılığı                                                                                   1\n",
       "Bigisayar Programlama                                                                                                   1\n",
       "Bölüm yok                                                                                                               1\n",
       "IB International Baccalaureate                                                                                          1\n",
       "Mobilya iç mekan tasarımj                                                                                               1\n",
       "Meslek Lisesi(Sayısal Bölüm)                                                                                            1\n",
       "Askeri Lise                                                                                                             1\n",
       "Sağlık Meslek'de bölüm olmuyor                                                                                          1\n",
       "Bilişim Teknolojileri                                                                                                   1\n",
       "Elektrik- Elektronik                                                                                                    1\n",
       "Her sene birini okudum                                                                                                  1\n",
       "bilgisayar                                                                                                              1\n",
       "metal kaynak celik kontruksiyon                                                                                         1\n",
       "Cocuk gelişimi                                                                                                          1\n",
       "Gemi inşaatı                                                                                                            1\n",
       "Hepsi                                                                                                                   1\n",
       "Bilgisayar  bölümü                                                                                                      1\n",
       "Turizm                                                                                                                  1\n",
       "Muhasebe                                                                                                                1\n",
       "Elektrik elektronik                                                                                                     1\n",
       "grafik tasarım                                                                                                          1\n",
       "Veri Tabanı Programcılığı Bölümü                                                                                        1\n",
       "BilişimTeknolojileri alanı                                                                                              1\n",
       "Ulaştırma Hizmetleri/Lojistik                                                                                           1\n",
       "Türkçe sosyal Sözel                                                                                                     1\n",
       "Giyim üretim teknolojileri                                                                                              1\n",
       "Bilgisayar bölümü                                                                                                       1\n",
       "Front Office                                                                                                            1\n",
       "Otomasyon sistemleri                                                                                                    1\n",
       "İngilizce ağırlıklı sayısal                                                                                             1\n",
       "yok                                                                                                                     1\n",
       "Meslek bölümü                                                                                                           1\n",
       "Saglik bilimleri bioloji kimya                                                                                          1\n",
       "Bilgisayar Teknolojileri                                                                                                1\n",
       "BİLİŞİM SİSTEMLERİ                                                                                                      1\n",
       "84                                                                                                                      1\n",
       "Radyo Televizyon Programcılığı                                                                                          1\n",
       "Spor                                                                                                                    1\n",
       "Bilişim Teknelojileri                                                                                                   1\n",
       "ELEKTRİK-ELEKTRONİK TEKNOLOJİLERİ                                                                                       1\n",
       "Polis Koleji müfredatı eşit ağırlık ağrılıklı                                                                           1\n",
       "Halkla ilişkiler ve Organizasyon                                                                                        1\n",
       "kimya                                                                                                                   1\n",
       "WEB TASARIM VE PROGRAMLAMA                                                                                              1\n",
       "Çocuk ve Gelişimi                                                                                                       1\n",
       "GEMİ YÖNETİMİ GÜVERTE                                                                                                   1\n",
       "MİMARLIK BÖLÜMÜ                                                                                                         1\n",
       "Makine Ressamlığı                                                                                                       1\n",
       "Aşçılık                                                                                                                 1\n",
       "Web tasarımı                                                                                                            1\n",
       "gemi yapım alanı                                                                                                        1\n",
       "GAZETECİLİK/ SAYFA sEKRETERLİĞİ                                                                                         1\n",
       "Muhasebe-Finansman                                                                                                      1\n",
       "Bilgisayarlı muhasebe ve fansman                                                                                        1\n",
       "Bilişim Teknolojileri/Veri tabanı programcılığı                                                                         1\n",
       "Sosyal Bilimler Lisesi                                                                                                  1\n",
       "moda Tasarım                                                                                                            1\n",
       "BÜRO YÖNETİMİ VE SEKRETERLİK BÖLÜMÜ TIP SEKRETERLİĞİ ALANI                                                              1\n",
       "Bolum yok                                                                                                               1\n",
       "Giyim Üretim Teknolojisi                                                                                                1\n",
       "3 yıl sayısal son yıl TM okudum.                                                                                        1\n",
       "Çocuk gelisimi                                                                                                          1\n",
       "Lojistik                                                                                                                1\n",
       "Alan dışı                                                                                                               1\n",
       "Muzik                                                                                                                   1\n",
       "Özel Fen lisesine okuduğum için dolaylı olarak bölümüm sayısaldı ancak resmiyette alanımız yoktu.                       1\n",
       "IB Programı                                                                                                             1\n",
       "Bilgisayar bölümü                                                                                                       1\n",
       "3sene sayısal , son sene eşit ağırlık                                                                                   1\n",
       "İlk üç sene sayısal (1 yıl International Baccalaureate), son yıl regular programda eşit ağırlık                         1\n",
       "Uluslararası Bakalorya Diploma Programı                                                                                 1\n",
       "görüntü ve ses                                                                                                          1\n",
       "Grafik Tasarım ve Fotoğrafçılık                                                                                         1\n",
       "İnşaat Teknolojisi                                                                                                      1\n",
       "turizm ve otelcilik                                                                                                     1\n",
       "Güverte Yönetimi                                                                                                        1\n",
       "sayisal ve sozel                                                                                                        1\n",
       "Fen Lisesi                                                                                                              1\n",
       "3 yıl sayısal 1 yıl eşit ağırlık                                                                                        1\n",
       "Bilişim                                                                                                                 1\n",
       "Eloktronik                                                                                                              1\n",
       "TMS                                                                                                                     1\n",
       "Sosyal Bilimler                                                                                                         1\n",
       "Yat kaptanlığı                                                                                                          1\n",
       "Muhasebe Finansman                                                                                                      1\n",
       "Ulaştırma/Lojistik                                                                                                      1\n",
       "İlk 3 yıl sayısal son 1 yıl TM (okumak istediğim bölüme karar verdiğim için)                                            1\n",
       "Kolej                                                                                                                   1\n",
       "Bar                                                                                                                     1\n",
       "Makina Ressamlığı                                                                                                       1\n",
       "Teknik Lise Web Program Programcılığı                                                                                   1\n",
       "endüstriyel kontrol                                                                                                     1\n",
       "muhasebe finans bölümü                                                                                                  1\n",
       "grafik ve fotoğraf                                                                                                      1\n",
       "GAZETECİLİK BÖLÜMÜ                                                                                                      1\n",
       "Bilgisayarlı muhasebe                                                                                                   1\n",
       "Otomasyon                                                                                                               1\n",
       "Science                                                                                                                 1\n",
       "Anadolu Teknik                                                                                                          1\n",
       "Çocuk gelişimi                                                                                                          1\n",
       "elektrik elektronik haberlesme                                                                                          1\n",
       "grafik ve fotografçılık                                                                                                 1\n",
       "gıda teknolojisi                                                                                                        1\n",
       "Tarım teknolojileri                                                                                                     1\n",
       "Veritabanı Programcılığı                                                                                                1\n",
       "meslek sayısal                                                                                                          1\n",
       "Sayisal                                                                                                                 1\n",
       "Matemetil Sayısal                                                                                                       1\n",
       "yiyecek içecekmutfak                                                                                                    1\n",
       "Cocuk Gelisimi ve Egitimi                                                                                               1\n",
       "FİNANS BORSA                                                                                                            1\n",
       "MUHASEBE VE VERGİ UYGULAMALARI                                                                                          1\n",
       "RESİM                                                                                                                   1\n",
       "radyo-tvprogramcılığı                                                                                                   1\n",
       "WEB TASARIM                                                                                                             1\n",
       "İbrahim Çalık                                                                                                           1\n",
       "MAKİNE TEKNOLOJİLERİ/BİLGİSAYARLI MAKİNE İMALATI                                                                        1\n",
       "Elektrik                                                                                                                1\n",
       "Elektrik - Elektronik Teknolojisi                                                                                       1\n",
       "wep tasarım bölümü                                                                                                      1\n",
       "Sözel                                                                                                                   1\n",
       "BİLGİSAYAR PROGRAMCILIĞI                                                                                                1\n",
       "End Kalıp tasarım                                                                                                       1\n",
       "Teknik Alan                                                                                                             1\n",
       "acik ogretim lisesi                                                                                                     1\n",
       "Ayakkabı ve Saraciye Teknolojileri                                                                                      1\n",
       "saç bakımı ve güzellik hizmetleri programı                                                                              1\n",
       "makina CNC                                                                                                              1\n",
       "RADYO TELEVİZYON                                                                                                        1\n",
       "FİNANSMANMUHASEBE                                                                                                       1\n",
       "YİYECEK İÇECEK HİZMETLERİ                                                                                               1\n",
       "Makina                                                                                                                  1\n",
       "Makina-Sayısal                                                                                                          1\n",
       "resim bölümü                                                                                                            1\n",
       "Bilgisayar Programcılığı / Veri tabanı                                                                                  1\n",
       "Elektrik Elektronik Bölümü/ Esndüstriye Bakım Onarım                                                                    1\n",
       "acil tıp teknisyeni                                                                                                     1\n",
       "OTOMOTİV                                                                                                                1\n",
       "normal                                                                                                                  1\n",
       "Radyo ve Televizyon                                                                                                     1\n",
       "Grafik ve Fotoğraçılık                                                                                                  1\n",
       "El sanatları                                                                                                            1\n",
       "İnşaat Teknolojileri                                                                                                    1\n",
       "ENDÜSTRİYEL OTOMASYON                                                                                                   1\n",
       "Elektrik Elektronik .Teksnolojisi                                                                                       1\n",
       "tekstil                                                                                                                 1\n",
       "Otomasyon Sistemleri                                                                                                    1\n",
       "Yiyecek İçecek Hizmetleri                                                                                               1\n",
       "sağlık                                                                                                                  1\n",
       "alansız                                                                                                                 1\n",
       "teknoloji tasarım                                                                                                       1\n",
       "ELEKTRİK ELEKTRONİK                                                                                                     1\n",
       "UÇAK BAKIM - UÇAK ELEKTRİK-ELEKTRONİĞİ                                                                                  1\n",
       "Bilgiaayar Programcılığı                                                                                                1\n",
       "bölüm ayrımı olmayan                                                                                                    1\n",
       "buro yonetimi ve sekreterlik                                                                                            1\n",
       "İnşaat Teknolojileri/Yapı Ressamlığı                                                                                    1\n",
       "çocuk gelişimi ve eğitim alanı                                                                                          1\n",
       "Spor Branşı/Atletizm                                                                                                    1\n",
       "Çocuk Gelişimi bölümü                                                                                                   1\n",
       "sözel bölüm                                                                                                             1\n",
       "muhasebe bölümü                                                                                                         1\n",
       "Bilgisayarlı Muhasebe ve Finansman                                                                                      1\n",
       "Elektrik-Elektronik Teknolojileri                                                                                       1\n",
       "Aşşçılık                                                                                                                1\n",
       "Bilişim Teknolojileri/Web Programcılığı                                                                                 1\n",
       "ELEKTRİK-ELEKTRONİK                                                                                                     1\n",
       "bilgisayar web programcılığı                                                                                            1\n",
       "Grafik Tasarım                                                                                                          1\n",
       "ÇOCUK GELİŞİMİ EĞİTİMİ                                                                                                  1\n",
       "turizm otelcilik                                                                                                        1\n",
       "Name: count, dtype: int64"
      ]
     },
     "execution_count": 72,
     "metadata": {},
     "output_type": "execute_result"
    }
   ],
   "source": [
    "train[\"Lise Bolum Diger\"].loc[train[\"Lise Bolumu\"].isna()].value_counts()"
   ]
  },
  {
   "cell_type": "code",
   "execution_count": 73,
   "metadata": {},
   "outputs": [],
   "source": [
    "train[\"Lise Bolumu\"] = train[\"Lise Bolumu\"].fillna(\"diger\")"
   ]
  },
  {
   "cell_type": "code",
   "execution_count": 74,
   "metadata": {},
   "outputs": [
    {
     "data": {
      "text/html": [
       "<div>\n",
       "<style scoped>\n",
       "    .dataframe tbody tr th:only-of-type {\n",
       "        vertical-align: middle;\n",
       "    }\n",
       "\n",
       "    .dataframe tbody tr th {\n",
       "        vertical-align: top;\n",
       "    }\n",
       "\n",
       "    .dataframe thead tr th {\n",
       "        text-align: left;\n",
       "    }\n",
       "\n",
       "    .dataframe thead tr:last-of-type th {\n",
       "        text-align: right;\n",
       "    }\n",
       "</style>\n",
       "<table border=\"1\" class=\"dataframe\">\n",
       "  <thead>\n",
       "    <tr>\n",
       "      <th></th>\n",
       "      <th colspan=\"3\" halign=\"left\">Degerlendirme Puani</th>\n",
       "    </tr>\n",
       "    <tr>\n",
       "      <th></th>\n",
       "      <th>mean</th>\n",
       "      <th>std</th>\n",
       "      <th>count</th>\n",
       "    </tr>\n",
       "    <tr>\n",
       "      <th>Lise Bolumu</th>\n",
       "      <th></th>\n",
       "      <th></th>\n",
       "      <th></th>\n",
       "    </tr>\n",
       "  </thead>\n",
       "  <tbody>\n",
       "    <tr>\n",
       "      <th>diger</th>\n",
       "      <td>26.485936</td>\n",
       "      <td>16.933336</td>\n",
       "      <td>2702</td>\n",
       "    </tr>\n",
       "    <tr>\n",
       "      <th>dil</th>\n",
       "      <td>30.703042</td>\n",
       "      <td>16.702672</td>\n",
       "      <td>1512</td>\n",
       "    </tr>\n",
       "    <tr>\n",
       "      <th>esit agirlik</th>\n",
       "      <td>31.723239</td>\n",
       "      <td>17.902262</td>\n",
       "      <td>21636</td>\n",
       "    </tr>\n",
       "    <tr>\n",
       "      <th>sayisal</th>\n",
       "      <td>33.468914</td>\n",
       "      <td>18.466021</td>\n",
       "      <td>35064</td>\n",
       "    </tr>\n",
       "    <tr>\n",
       "      <th>sozel</th>\n",
       "      <td>26.530404</td>\n",
       "      <td>15.824280</td>\n",
       "      <td>4210</td>\n",
       "    </tr>\n",
       "  </tbody>\n",
       "</table>\n",
       "</div>"
      ],
      "text/plain": [
       "             Degerlendirme Puani                  \n",
       "                            mean        std  count\n",
       "Lise Bolumu                                       \n",
       "diger                  26.485936  16.933336   2702\n",
       "dil                    30.703042  16.702672   1512\n",
       "esit agirlik           31.723239  17.902262  21636\n",
       "sayisal                33.468914  18.466021  35064\n",
       "sozel                  26.530404  15.824280   4210"
      ]
     },
     "execution_count": 74,
     "metadata": {},
     "output_type": "execute_result"
    }
   ],
   "source": [
    "train.groupby(\"Lise Bolumu\").agg({\"Degerlendirme Puani\": [\"mean\", \"std\",\"count\"]})"
   ]
  },
  {
   "cell_type": "markdown",
   "metadata": {},
   "source": [
    "## 2.16 Lise Mezuniyet Notu"
   ]
  },
  {
   "cell_type": "code",
   "execution_count": 75,
   "metadata": {},
   "outputs": [
    {
     "name": "stdout",
     "output_type": "stream",
     "text": [
      "Lise Mezuniyet Notu none veri sayisi : 5917\n"
     ]
    },
    {
     "data": {
      "text/plain": [
       "Lise Mezuniyet Notu\n",
       "75 - 100              22433\n",
       "84-70                  9141\n",
       "100-85                 6967\n",
       "4.00-3.50              3689\n",
       "50 - 75                3115\n",
       "3.00 - 4.00            3101\n",
       "3.50-3.00              2759\n",
       "3.50-3                 2330\n",
       "69-55                  2162\n",
       "3.00-2.50              2153\n",
       "50 - 74                1007\n",
       "2.50 ve altı            226\n",
       "54-45                    88\n",
       "25 - 50                  14\n",
       "Not ortalaması yok       11\n",
       "44-0                      6\n",
       "0 - 25                    3\n",
       "25 - 49                   2\n",
       "0 - 24                    1\n",
       "Name: count, dtype: int64"
      ]
     },
     "execution_count": 75,
     "metadata": {},
     "output_type": "execute_result"
    }
   ],
   "source": [
    "print(f\"Lise Mezuniyet Notu none veri sayisi : {train[\"Lise Mezuniyet Notu\"].isna().sum()}\")\n",
    "train[\"Lise Mezuniyet Notu\"].value_counts()"
   ]
  },
  {
   "cell_type": "code",
   "execution_count": 76,
   "metadata": {},
   "outputs": [
    {
     "name": "stdout",
     "output_type": "stream",
     "text": [
      "Lise Mezuniyet Notu none veri sayisi : 5917\n"
     ]
    },
    {
     "data": {
      "text/plain": [
       "Lise Mezuniyet Notu\n",
       "75 - 100              22433\n",
       "84-70                  9141\n",
       "100-85                 6967\n",
       "4.00-3.50              3689\n",
       "50 - 75                3115\n",
       "3.00 - 4.00            3101\n",
       "3.50-3.00              2759\n",
       "3.50-3                 2330\n",
       "69-55                  2162\n",
       "3.00-2.50              2153\n",
       "50 - 74                1007\n",
       "2.50 ve altı            226\n",
       "54-45                    88\n",
       "25 - 50                  14\n",
       "Not ortalaması yok       11\n",
       "44-0                      6\n",
       "0 - 25                    3\n",
       "25 - 49                   2\n",
       "0 - 24                    1\n",
       "Name: count, dtype: int64"
      ]
     },
     "execution_count": 76,
     "metadata": {},
     "output_type": "execute_result"
    }
   ],
   "source": [
    "print(f\"Lise Mezuniyet Notu none veri sayisi : {train[\"Lise Mezuniyet Notu\"].isna().sum()}\")\n",
    "train[\"Lise Mezuniyet Notu\"].value_counts()"
   ]
  },
  {
   "cell_type": "code",
   "execution_count": 77,
   "metadata": {},
   "outputs": [
    {
     "name": "stdout",
     "output_type": "stream",
     "text": [
      "Lise Mezuniyet Notu none veri sayisi : 5954\n"
     ]
    },
    {
     "data": {
      "text/plain": [
       "Lise Mezuniyet Notu\n",
       "4.0    39764\n",
       "5.0    10656\n",
       "2.0     6510\n",
       "3.0     2153\n",
       "1.0       88\n",
       "Name: count, dtype: int64"
      ]
     },
     "execution_count": 77,
     "metadata": {},
     "output_type": "execute_result"
    }
   ],
   "source": [
    "lise_not_mapping = {\"Not ortalaması yok\": np.nan,\n",
    "                   '0 - 24': np.nan, '0 - 25': np.nan, '25 - 49': np.nan,'44-0': np.nan, \"25 - 50\":np.nan,\n",
    "                   \"54-45\":1,\"2.50 ve altı\":2,\n",
    "                   \"50 - 74\":2,\"69-55\":2,\"50 - 75\":2,\n",
    "                   \"3.00-2.50\":3,\n",
    "                   \"3.50-3\":4,\"75 - 100\":4,\"84-70\":4,\"3.00 - 4.00\":4,\"3.50-3.00\":4,\n",
    "                   \"4.00-3.50\":5,\"100-85\":5\n",
    "                   }\n",
    "\n",
    "train['Lise Mezuniyet Notu'] = train['Lise Mezuniyet Notu'].map(lise_not_mapping)\n",
    "print(f\"Lise Mezuniyet Notu none veri sayisi : {train[\"Lise Mezuniyet Notu\"].isna().sum()}\")\n",
    "train[\"Lise Mezuniyet Notu\"].value_counts()"
   ]
  },
  {
   "cell_type": "code",
   "execution_count": 78,
   "metadata": {},
   "outputs": [
    {
     "data": {
      "text/html": [
       "<div>\n",
       "<style scoped>\n",
       "    .dataframe tbody tr th:only-of-type {\n",
       "        vertical-align: middle;\n",
       "    }\n",
       "\n",
       "    .dataframe tbody tr th {\n",
       "        vertical-align: top;\n",
       "    }\n",
       "\n",
       "    .dataframe thead tr th {\n",
       "        text-align: left;\n",
       "    }\n",
       "\n",
       "    .dataframe thead tr:last-of-type th {\n",
       "        text-align: right;\n",
       "    }\n",
       "</style>\n",
       "<table border=\"1\" class=\"dataframe\">\n",
       "  <thead>\n",
       "    <tr>\n",
       "      <th></th>\n",
       "      <th colspan=\"3\" halign=\"left\">Degerlendirme Puani</th>\n",
       "    </tr>\n",
       "    <tr>\n",
       "      <th></th>\n",
       "      <th>mean</th>\n",
       "      <th>std</th>\n",
       "      <th>count</th>\n",
       "    </tr>\n",
       "    <tr>\n",
       "      <th>Lise Mezuniyet Notu</th>\n",
       "      <th></th>\n",
       "      <th></th>\n",
       "      <th></th>\n",
       "    </tr>\n",
       "  </thead>\n",
       "  <tbody>\n",
       "    <tr>\n",
       "      <th>1.0</th>\n",
       "      <td>18.193182</td>\n",
       "      <td>13.227330</td>\n",
       "      <td>88</td>\n",
       "    </tr>\n",
       "    <tr>\n",
       "      <th>2.0</th>\n",
       "      <td>23.035330</td>\n",
       "      <td>13.941783</td>\n",
       "      <td>6510</td>\n",
       "    </tr>\n",
       "    <tr>\n",
       "      <th>3.0</th>\n",
       "      <td>26.040409</td>\n",
       "      <td>12.193862</td>\n",
       "      <td>2153</td>\n",
       "    </tr>\n",
       "    <tr>\n",
       "      <th>4.0</th>\n",
       "      <td>29.820738</td>\n",
       "      <td>15.362413</td>\n",
       "      <td>39763</td>\n",
       "    </tr>\n",
       "    <tr>\n",
       "      <th>5.0</th>\n",
       "      <td>31.201952</td>\n",
       "      <td>15.268458</td>\n",
       "      <td>10656</td>\n",
       "    </tr>\n",
       "  </tbody>\n",
       "</table>\n",
       "</div>"
      ],
      "text/plain": [
       "                    Degerlendirme Puani                  \n",
       "                                   mean        std  count\n",
       "Lise Mezuniyet Notu                                      \n",
       "1.0                           18.193182  13.227330     88\n",
       "2.0                           23.035330  13.941783   6510\n",
       "3.0                           26.040409  12.193862   2153\n",
       "4.0                           29.820738  15.362413  39763\n",
       "5.0                           31.201952  15.268458  10656"
      ]
     },
     "execution_count": 78,
     "metadata": {},
     "output_type": "execute_result"
    }
   ],
   "source": [
    "train.groupby(\"Lise Mezuniyet Notu\").agg({\"Degerlendirme Puani\": [\"mean\", \"std\",\"count\"]})"
   ]
  },
  {
   "cell_type": "markdown",
   "metadata": {},
   "source": [
    "## 2.17 Anne Egitim Durumu"
   ]
  },
  {
   "cell_type": "code",
   "execution_count": 79,
   "metadata": {},
   "outputs": [
    {
     "name": "stdout",
     "output_type": "stream",
     "text": [
      "Anne Egitim Durumu none veri sayisi : 406\n"
     ]
    },
    {
     "data": {
      "text/plain": [
       "Anne Egitim Durumu\n",
       "ilkokul mezunu             15800\n",
       "lise                       12049\n",
       "ilkokul                    10351\n",
       "universite                  7937\n",
       "egitim yok                  4746\n",
       "ortaokul mezunu             3907\n",
       "egitimi yok                 3605\n",
       "ortaokul                    3126\n",
       "lise mezunu                 1346\n",
       "universite mezunu           1075\n",
       "yuksek lisans                427\n",
       "doktora                      142\n",
       "yuksek lisans / doktora      123\n",
       "yuksek lisans / doktara       85\n",
       "Name: count, dtype: int64"
      ]
     },
     "execution_count": 79,
     "metadata": {},
     "output_type": "execute_result"
    }
   ],
   "source": [
    "train[\"Anne Egitim Durumu\"] = train[\"Anne Egitim Durumu\"].astype(str).apply(normalize_turkish_with_unicode)\n",
    "print(f\"Anne Egitim Durumu none veri sayisi : {train[\"Anne Egitim Durumu\"].isna().sum()}\")\n",
    "train[\"Anne Egitim Durumu\"].value_counts()"
   ]
  },
  {
   "cell_type": "code",
   "execution_count": 80,
   "metadata": {},
   "outputs": [
    {
     "name": "stdout",
     "output_type": "stream",
     "text": [
      "Anne Egitim Durumu none veri sayisi : 0\n"
     ]
    },
    {
     "data": {
      "text/plain": [
       "Anne Egitim Durumu\n",
       "1    26151\n",
       "3    13395\n",
       "4     9012\n",
       "0     8757\n",
       "2     7033\n",
       "5      777\n",
       "Name: count, dtype: int64"
      ]
     },
     "execution_count": 80,
     "metadata": {},
     "output_type": "execute_result"
    }
   ],
   "source": [
    "anne_egitim_mapping = {np.nan: 0, 'egitim yok' : 0, \"egitimi yok\":0,\n",
    "                        'ilkokul ': 1, 'ilkokul': 1,\"ilkokul mezunu\":1,\n",
    "                        \"ortaokul mezunu\":2,\"ortaokul\":2,\n",
    "                        \"lise\":3,\"lise mezunu\":3,\n",
    "                        \"universite mezunu\":4,\"universite\":4,\n",
    "                        \"yuksek lisans\":5,\"yuksek lisans / doktora\":5,\"yuksek lisans / doktara\":5,\"doktora\":5\n",
    "                        }\n",
    "\n",
    "train['Anne Egitim Durumu'] = train['Anne Egitim Durumu'].map(anne_egitim_mapping)\n",
    "print(f\"Anne Egitim Durumu none veri sayisi : {train[\"Anne Egitim Durumu\"].isna().sum()}\")\n",
    "train[\"Anne Egitim Durumu\"].value_counts()"
   ]
  },
  {
   "cell_type": "code",
   "execution_count": 81,
   "metadata": {},
   "outputs": [
    {
     "name": "stdout",
     "output_type": "stream",
     "text": [
      "Anne Calisma Durumu none veri sayisi : 11896\n"
     ]
    },
    {
     "data": {
      "text/plain": [
       "Anne Calisma Durumu\n",
       "hayir     39371\n",
       "evet      10504\n",
       "emekli     3354\n",
       "Name: count, dtype: int64"
      ]
     },
     "execution_count": 81,
     "metadata": {},
     "output_type": "execute_result"
    }
   ],
   "source": [
    "train[\"Anne Calisma Durumu\"] = train[\"Anne Calisma Durumu\"].astype(str).apply(normalize_turkish_with_unicode)\n",
    "print(f\"Anne Calisma Durumu none veri sayisi : {train[\"Anne Calisma Durumu\"].isna().sum()}\")\n",
    "train[\"Anne Calisma Durumu\"].value_counts()"
   ]
  },
  {
   "cell_type": "code",
   "execution_count": 82,
   "metadata": {},
   "outputs": [
    {
     "data": {
      "text/plain": [
       "Anne Calisma Durumu\n",
       "0         51267\n",
       "evet      10504\n",
       "emekli     3354\n",
       "Name: count, dtype: int64"
      ]
     },
     "execution_count": 82,
     "metadata": {},
     "output_type": "execute_result"
    }
   ],
   "source": [
    "train[\"Anne Calisma Durumu\"] = train[\"Anne Calisma Durumu\"].fillna(\"0\").replace(\"-\", \"0\").replace(\"hayir\", \"0\")\n",
    "train[\"Anne Calisma Durumu\"].value_counts()"
   ]
  },
  {
   "cell_type": "code",
   "execution_count": 83,
   "metadata": {},
   "outputs": [
    {
     "name": "stdout",
     "output_type": "stream",
     "text": [
      "Anne Sektor none veri sayisi : 34537\n"
     ]
    },
    {
     "data": {
      "text/plain": [
       "Anne Sektor\n",
       "0              11780\n",
       "ozel sektor     6042\n",
       "-               5827\n",
       "kamu            5149\n",
       "diger           1790\n",
       "Name: count, dtype: int64"
      ]
     },
     "execution_count": 83,
     "metadata": {},
     "output_type": "execute_result"
    }
   ],
   "source": [
    "train[\"Anne Sektor\"] = train[\"Anne Sektor\"].astype(str).apply(normalize_turkish_with_unicode)\n",
    "print(f\"Anne Sektor none veri sayisi : {train[\"Anne Sektor\"].isna().sum()}\")\n",
    "train[\"Anne Sektor\"].value_counts()"
   ]
  },
  {
   "cell_type": "code",
   "execution_count": 84,
   "metadata": {},
   "outputs": [
    {
     "name": "stdout",
     "output_type": "stream",
     "text": [
      "Anne Sektor none veri sayisi : 0\n"
     ]
    },
    {
     "data": {
      "text/plain": [
       "Anne Sektor\n",
       "0              52144\n",
       "ozel sektor     6042\n",
       "kamu            5149\n",
       "diger           1790\n",
       "Name: count, dtype: int64"
      ]
     },
     "execution_count": 84,
     "metadata": {},
     "output_type": "execute_result"
    }
   ],
   "source": [
    "train[\"Anne Sektor\"] = train[\"Anne Sektor\"].fillna(\"0\").replace(\"-\", \"0\")\n",
    "print(f\"Anne Sektor none veri sayisi : {train[\"Anne Sektor\"].isna().sum()}\")\n",
    "train[\"Anne Sektor\"].value_counts()"
   ]
  },
  {
   "cell_type": "markdown",
   "metadata": {},
   "source": [
    "## 2.18 baba"
   ]
  },
  {
   "cell_type": "code",
   "execution_count": 85,
   "metadata": {},
   "outputs": [
    {
     "name": "stdout",
     "output_type": "stream",
     "text": [
      "Baba Egitim Durumu none veri sayisi : 1007\n"
     ]
    },
    {
     "data": {
      "text/plain": [
       "Baba Egitim Durumu\n",
       "lise                       14490\n",
       "universite                 13407\n",
       "ilkokul mezunu             11173\n",
       "ilkokul                     8257\n",
       "ortaokul mezunu             5071\n",
       "ortaokul                    4109\n",
       "universite mezunu           1731\n",
       "lise mezunu                 1405\n",
       "egitim yok                  1396\n",
       "egitimi yok                 1102\n",
       "yuksek lisans                963\n",
       "doktora                      399\n",
       "yuksek lisans / doktora      289\n",
       "yuksek lisans / doktara      215\n",
       "0                            111\n",
       "Name: count, dtype: int64"
      ]
     },
     "execution_count": 85,
     "metadata": {},
     "output_type": "execute_result"
    }
   ],
   "source": [
    "train[\"Baba Egitim Durumu\"] = train[\"Baba Egitim Durumu\"].astype(str).apply(normalize_turkish_with_unicode)\n",
    "print(f\"Baba Egitim Durumu none veri sayisi : {train[\"Baba Egitim Durumu\"].isna().sum()}\")\n",
    "train[\"Baba Egitim Durumu\"].value_counts()"
   ]
  },
  {
   "cell_type": "code",
   "execution_count": 86,
   "metadata": {},
   "outputs": [
    {
     "name": "stdout",
     "output_type": "stream",
     "text": [
      "Baba Egitim Durumu none veri sayisi : 0\n"
     ]
    },
    {
     "data": {
      "text/plain": [
       "Baba Egitim Durumu\n",
       "1    19430\n",
       "3    15895\n",
       "4    15138\n",
       "2     9180\n",
       "0     3616\n",
       "5     1866\n",
       "Name: count, dtype: int64"
      ]
     },
     "execution_count": 86,
     "metadata": {},
     "output_type": "execute_result"
    }
   ],
   "source": [
    "baba_egitim_mapping = {np.nan: 0, 'egitim yok' : 0, \"egitimi yok\":0,\"0\":0,\n",
    "                        'ilkokul ': 1, 'ilkokul': 1,\"ilkokul mezunu\":1,\n",
    "                        \"ortaokul mezunu\":2,\"ortaokul\":2,\n",
    "                        \"lise\":3,\"lise mezunu\":3,\n",
    "                        \"universite mezunu\":4,\"universite\":4,\n",
    "                        \"yuksek lisans\":5,\"yuksek lisans / doktora\":5,\"yuksek lisans / doktara\":5,\"doktora\":5\n",
    "                        }\n",
    "\n",
    "train['Baba Egitim Durumu'] = train['Baba Egitim Durumu'].map(baba_egitim_mapping)\n",
    "print(f\"Baba Egitim Durumu none veri sayisi : {train[\"Baba Egitim Durumu\"].isna().sum()}\")\n",
    "train[\"Baba Egitim Durumu\"].value_counts()"
   ]
  },
  {
   "cell_type": "code",
   "execution_count": 87,
   "metadata": {},
   "outputs": [
    {
     "name": "stdout",
     "output_type": "stream",
     "text": [
      "Baba Calisma Durumu none veri sayisi : 12618\n"
     ]
    },
    {
     "data": {
      "text/plain": [
       "Baba Calisma Durumu\n",
       "evet      28559\n",
       "hayir     12486\n",
       "emekli    11462\n",
       "Name: count, dtype: int64"
      ]
     },
     "execution_count": 87,
     "metadata": {},
     "output_type": "execute_result"
    }
   ],
   "source": [
    "train[\"Baba Calisma Durumu\"] = train[\"Baba Calisma Durumu\"].astype(str).apply(normalize_turkish_with_unicode)\n",
    "print(f\"Baba Calisma Durumu none veri sayisi : {train[\"Baba Calisma Durumu\"].isna().sum()}\")\n",
    "train[\"Baba Calisma Durumu\"].value_counts()"
   ]
  },
  {
   "cell_type": "code",
   "execution_count": 88,
   "metadata": {},
   "outputs": [
    {
     "data": {
      "text/plain": [
       "Baba Calisma Durumu\n",
       "evet      28559\n",
       "0         12486\n",
       "emekli    11462\n",
       "Name: count, dtype: int64"
      ]
     },
     "execution_count": 88,
     "metadata": {},
     "output_type": "execute_result"
    }
   ],
   "source": [
    "train[\"Baba Calisma Durumu\"] = train[\"Baba Calisma Durumu\"].replace(\"-\", \"0\").replace(\"hayir\", \"0\")\n",
    "train[\"Baba Calisma Durumu\"].value_counts()"
   ]
  },
  {
   "cell_type": "code",
   "execution_count": 89,
   "metadata": {},
   "outputs": [
    {
     "name": "stdout",
     "output_type": "stream",
     "text": [
      "Baba Sektor none veri sayisi : 20378\n"
     ]
    },
    {
     "data": {
      "text/plain": [
       "Baba Sektor\n",
       "ozel sektor    15613\n",
       "kamu           10319\n",
       "diger           9114\n",
       "0               6631\n",
       "-               3070\n",
       "Name: count, dtype: int64"
      ]
     },
     "execution_count": 89,
     "metadata": {},
     "output_type": "execute_result"
    }
   ],
   "source": [
    "train[\"Baba Sektor\"] = train[\"Baba Sektor\"].astype(str).apply(normalize_turkish_with_unicode)\n",
    "print(f\"Baba Sektor none veri sayisi : {train[\"Baba Sektor\"].isna().sum()}\")\n",
    "train[\"Baba Sektor\"].value_counts()"
   ]
  },
  {
   "cell_type": "code",
   "execution_count": 90,
   "metadata": {},
   "outputs": [
    {
     "name": "stdout",
     "output_type": "stream",
     "text": [
      "Baba Sektor none veri sayisi : 20378\n"
     ]
    },
    {
     "data": {
      "text/plain": [
       "Baba Sektor\n",
       "ozel sektor    15613\n",
       "kamu           10319\n",
       "0               9701\n",
       "diger           9114\n",
       "Name: count, dtype: int64"
      ]
     },
     "execution_count": 90,
     "metadata": {},
     "output_type": "execute_result"
    }
   ],
   "source": [
    "train[\"Baba Sektor\"] = train[\"Baba Sektor\"].replace(\"-\", \"0\")\n",
    "print(f\"Baba Sektor none veri sayisi : {train[\"Baba Sektor\"].isna().sum()}\")\n",
    "train[\"Baba Sektor\"].value_counts()"
   ]
  },
  {
   "cell_type": "markdown",
   "metadata": {},
   "source": [
    "## Kardes Sayisi"
   ]
  },
  {
   "cell_type": "code",
   "execution_count": 91,
   "metadata": {},
   "outputs": [
    {
     "name": "stdout",
     "output_type": "stream",
     "text": [
      "Kardes Sayisi none veri sayisi : 1132\n"
     ]
    },
    {
     "data": {
      "text/plain": [
       "Kardes Sayisi\n",
       "1.0                                             16186\n",
       "2.0                                             13062\n",
       "3.0                                              6734\n",
       "1                                                6054\n",
       "4.0                                              4611\n",
       "2                                                3938\n",
       "0.0                                              3701\n",
       "5.0                                              3421\n",
       "3                                                2087\n",
       "0                                                1381\n",
       "4                                                 998\n",
       "5                                                 715\n",
       "6.0                                               206\n",
       "7.0                                               159\n",
       "6                                                 135\n",
       "10.0                                              127\n",
       "7                                                 119\n",
       "8.0                                                98\n",
       "9.0                                                79\n",
       "8                                                  75\n",
       "9                                                  43\n",
       "10                                                 42\n",
       "11                                                 12\n",
       "12                                                  5\n",
       "13                                                  2\n",
       "14                                                  1\n",
       "18                                                  1\n",
       "Kardeş Sayısı 1 Ek Bilgi Aile Hk. Anne Vefat        1\n",
       "Name: count, dtype: int64"
      ]
     },
     "execution_count": 91,
     "metadata": {},
     "output_type": "execute_result"
    }
   ],
   "source": [
    "print(f\"Kardes Sayisi none veri sayisi : {train[\"Kardes Sayisi\"].isna().sum()}\")\n",
    "train[\"Kardes Sayisi\"].value_counts()"
   ]
  },
  {
   "cell_type": "code",
   "execution_count": 95,
   "metadata": {},
   "outputs": [
    {
     "name": "stdout",
     "output_type": "stream",
     "text": [
      "Kardes Sayisi none veri sayisi : 1133\n"
     ]
    },
    {
     "data": {
      "text/plain": [
       "Kardes Sayisi\n",
       "0.0     5082\n",
       "1.0    22240\n",
       "2.0    17000\n",
       "3.0     8821\n",
       "4.0     5609\n",
       "5.0     5240\n",
       "Name: count, dtype: int64"
      ]
     },
     "execution_count": 95,
     "metadata": {},
     "output_type": "execute_result"
    }
   ],
   "source": [
    "train[\"Kardes Sayisi\"] = pd.to_numeric(train[\"Kardes Sayisi\"], errors='coerce')\n",
    "train[\"Kardes Sayisi\"] = train[\"Kardes Sayisi\"].apply(lambda x: 5 if x > 5 else x)\n",
    "print(f\"Kardes Sayisi none veri sayisi : {train[\"Kardes Sayisi\"].isna().sum()}\")\n",
    "train[\"Kardes Sayisi\"].value_counts().sort_index()"
   ]
  },
  {
   "cell_type": "markdown",
   "metadata": {},
   "source": [
    "## Girisimcilik Kulupleri Tarzi bir Kulube Uye misiniz?"
   ]
  },
  {
   "cell_type": "code",
   "execution_count": 97,
   "metadata": {},
   "outputs": [
    {
     "name": "stdout",
     "output_type": "stream",
     "text": [
      "Girisimcilik Kulupleri Tarzi Bir Kulube Uye misiniz? : 1829\n"
     ]
    },
    {
     "data": {
      "text/plain": [
       "Girisimcilik Kulupleri Tarzi Bir Kulube Uye misiniz?\n",
       "Hayır    33710\n",
       "Evet     29586\n",
       "Name: count, dtype: int64"
      ]
     },
     "execution_count": 97,
     "metadata": {},
     "output_type": "execute_result"
    }
   ],
   "source": [
    "print(f\"Girisimcilik Kulupleri Tarzi Bir Kulube Uye misiniz? : {train[\"Girisimcilik Kulupleri Tarzi Bir Kulube Uye misiniz?\"].isna().sum()}\")\n",
    "train[\"Girisimcilik Kulupleri Tarzi Bir Kulube Uye misiniz?\"].value_counts()"
   ]
  },
  {
   "cell_type": "code",
   "execution_count": 98,
   "metadata": {},
   "outputs": [
    {
     "name": "stdout",
     "output_type": "stream",
     "text": [
      "Uye Oldugunuz Kulubun Ismi : 48691\n"
     ]
    },
    {
     "data": {
      "text/plain": [
       "Uye Oldugunuz Kulubun Ismi\n",
       "IEEE                                                                            203\n",
       "Girişimcilik Kulübü                                                              60\n",
       "Kalite ve Verimlilik Kulübü                                                      43\n",
       "AIESEC                                                                           40\n",
       "İşletme Kulübü                                                                   39\n",
       "                                                                               ... \n",
       "KARADENİZ TEKNİK ÜNİVERSİTESİ EDEBİYAT KLÜBÜ                                      1\n",
       "Koüsat                                                                            1\n",
       "İzmir gençleri dağcılık klübü                                                     1\n",
       "üniversite bünyesinde işletme kulübü ve kültür kulübünde aktif rol alıyorum.      1\n",
       "Genç Kızılay                                                                      1\n",
       "Name: count, Length: 13423, dtype: int64"
      ]
     },
     "execution_count": 98,
     "metadata": {},
     "output_type": "execute_result"
    }
   ],
   "source": [
    "print(f\"Uye Oldugunuz Kulubun Ismi : {train[\"Uye Oldugunuz Kulubun Ismi\"].isna().sum()}\")\n",
    "train[\"Uye Oldugunuz Kulubun Ismi\"].value_counts()"
   ]
  }
 ],
 "metadata": {
  "kernelspec": {
   "display_name": "Python 3",
   "language": "python",
   "name": "python3"
  },
  "language_info": {
   "codemirror_mode": {
    "name": "ipython",
    "version": 3
   },
   "file_extension": ".py",
   "mimetype": "text/x-python",
   "name": "python",
   "nbconvert_exporter": "python",
   "pygments_lexer": "ipython3",
   "version": "3.12.4"
  }
 },
 "nbformat": 4,
 "nbformat_minor": 2
}
