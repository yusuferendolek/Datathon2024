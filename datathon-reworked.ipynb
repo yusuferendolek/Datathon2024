{
 "cells": [
  {
   "cell_type": "code",
   "execution_count": 680,
   "metadata": {},
   "outputs": [
    {
     "name": "stdout",
     "output_type": "stream",
     "text": [
      "Python 3.12.4\n"
     ]
    }
   ],
   "source": [
    "!python --version"
   ]
  },
  {
   "cell_type": "code",
   "execution_count": 681,
   "metadata": {},
   "outputs": [],
   "source": [
    "import time\n",
    "import pandas as pd\n",
    "import numpy as np\n",
    "import matplotlib.pyplot as plt\n",
    "import seaborn as sns\n",
    "import re\n",
    "from dateutil import parser\n",
    "from datetime import datetime\n",
    "\n",
    "\n",
    "pd.set_option('display.max_columns', None)\n",
    "pd.set_option('display.max_rows', 500)\n",
    "\n",
    "import warnings\n",
    "warnings.filterwarnings(\"ignore\")\n",
    "\n",
    "from sklearn.cluster import Birch\n",
    "from sklearn.decomposition import PCA\n",
    "from sklearn.manifold import TSNE\n",
    "from sklearn.mixture import GaussianMixture\n",
    "from sklearn.cluster import SpectralClustering, AgglomerativeClustering, KMeans\n",
    "from kmodes.kprototypes import KPrototypes\n",
    "\n",
    "from sklearn.ensemble import RandomForestClassifier\n",
    "from lightgbm import LGBMClassifier\n",
    "from xgboost import XGBClassifier\n",
    "from catboost import CatBoostClassifier\n",
    "\n",
    "#from lazypredict.Supervised import LazyClassifier\n",
    "from sklearn.model_selection import cross_val_score ,StratifiedKFold, train_test_split\n",
    "from sklearn.metrics import accuracy_score\n",
    "from sklearn.preprocessing import LabelEncoder, RobustScaler, MinMaxScaler, StandardScaler\n",
    "\n",
    "le = LabelEncoder()\n",
    "skf10 = StratifiedKFold(n_splits=10, shuffle=True,random_state=24)\n",
    "skf5 = StratifiedKFold(n_splits=5, shuffle=True,random_state=24)\n",
    "\n",
    "from lofo import LOFOImportance, Dataset, plot_importance\n",
    "from sklearn.feature_selection import RFECV\n",
    "from mlxtend.feature_selection import SequentialFeatureSelector as SFS\n",
    "\n",
    "import optuna\n",
    "from scipy.stats import mode\n",
    "from itertools import combinations\n",
    "from tqdm.notebook import tqdm\n",
    "tqdm.pandas()\n",
    "\n",
    "import unicodedata\n"
   ]
  },
  {
   "cell_type": "markdown",
   "metadata": {},
   "source": [
    "# 1. Veriye İlk Bakış"
   ]
  },
  {
   "cell_type": "code",
   "execution_count": 682,
   "metadata": {},
   "outputs": [],
   "source": [
    "test       = pd.read_csv('data\\\\test_x.csv').drop(['id'],axis=1)\n",
    "train      = pd.read_csv('data\\\\train.csv').drop(['id'],axis=1)\n",
    "train_copy = pd.read_csv('data\\\\train.csv').drop(['id'],axis=1)\n",
    "\n",
    "target_col = 'Degerlendirme Puani'\n",
    "categoric_cols = [col for col in train.columns if train[col].dtype == 'O']\n",
    "numeric_cols = [col for col in train.columns if train[col].dtype != 'O']\n",
    "numeric_cols.remove(target_col)"
   ]
  },
  {
   "cell_type": "code",
   "execution_count": 683,
   "metadata": {},
   "outputs": [
    {
     "data": {
      "text/html": [
       "<div>\n",
       "<style scoped>\n",
       "    .dataframe tbody tr th:only-of-type {\n",
       "        vertical-align: middle;\n",
       "    }\n",
       "\n",
       "    .dataframe tbody tr th {\n",
       "        vertical-align: top;\n",
       "    }\n",
       "\n",
       "    .dataframe thead th {\n",
       "        text-align: right;\n",
       "    }\n",
       "</style>\n",
       "<table border=\"1\" class=\"dataframe\">\n",
       "  <thead>\n",
       "    <tr style=\"text-align: right;\">\n",
       "      <th></th>\n",
       "      <th>Basvuru Yili</th>\n",
       "      <th>Degerlendirme Puani</th>\n",
       "      <th>Cinsiyet</th>\n",
       "      <th>Dogum Tarihi</th>\n",
       "      <th>Dogum Yeri</th>\n",
       "      <th>Ikametgah Sehri</th>\n",
       "      <th>Universite Adi</th>\n",
       "      <th>Universite Turu</th>\n",
       "      <th>Burslu ise Burs Yuzdesi</th>\n",
       "      <th>Burs Aliyor mu?</th>\n",
       "      <th>Bölüm</th>\n",
       "      <th>Universite Kacinci Sinif</th>\n",
       "      <th>Universite Not Ortalamasi</th>\n",
       "      <th>Daha Once Baska Bir Universiteden Mezun Olmus</th>\n",
       "      <th>Lise Adi</th>\n",
       "      <th>Lise Adi Diger</th>\n",
       "      <th>Lise Sehir</th>\n",
       "      <th>Lise Turu</th>\n",
       "      <th>Lise Bolumu</th>\n",
       "      <th>Lise Bolum Diger</th>\n",
       "      <th>Lise Mezuniyet Notu</th>\n",
       "      <th>Baska Bir Kurumdan Burs Aliyor mu?</th>\n",
       "      <th>Burs Aldigi Baska Kurum</th>\n",
       "      <th>Baska Kurumdan Aldigi Burs Miktari</th>\n",
       "      <th>Anne Egitim Durumu</th>\n",
       "      <th>Anne Calisma Durumu</th>\n",
       "      <th>Anne Sektor</th>\n",
       "      <th>Baba Egitim Durumu</th>\n",
       "      <th>Baba Calisma Durumu</th>\n",
       "      <th>Baba Sektor</th>\n",
       "      <th>Kardes Sayisi</th>\n",
       "      <th>Girisimcilik Kulupleri Tarzi Bir Kulube Uye misiniz?</th>\n",
       "      <th>Uye Oldugunuz Kulubun Ismi</th>\n",
       "      <th>Profesyonel Bir Spor Daliyla Mesgul musunuz?</th>\n",
       "      <th>Spor Dalindaki Rolunuz Nedir?</th>\n",
       "      <th>Aktif olarak bir STK üyesi misiniz?</th>\n",
       "      <th>Hangi STK'nin Uyesisiniz?</th>\n",
       "      <th>Stk Projesine Katildiniz Mi?</th>\n",
       "      <th>Girisimcilikle Ilgili Deneyiminiz Var Mi?</th>\n",
       "      <th>Girisimcilikle Ilgili Deneyiminizi Aciklayabilir misiniz?</th>\n",
       "      <th>Ingilizce Biliyor musunuz?</th>\n",
       "      <th>Ingilizce Seviyeniz?</th>\n",
       "      <th>Daha Önceden Mezun Olunduysa, Mezun Olunan Üniversite</th>\n",
       "    </tr>\n",
       "  </thead>\n",
       "  <tbody>\n",
       "    <tr>\n",
       "      <th>0</th>\n",
       "      <td>2014</td>\n",
       "      <td>52.0</td>\n",
       "      <td>Erkek</td>\n",
       "      <td>4/6/1994</td>\n",
       "      <td>Altindag, Ankara</td>\n",
       "      <td>Ankara</td>\n",
       "      <td>İHSAN DOĞRAMACI BİLKENT</td>\n",
       "      <td>Özel</td>\n",
       "      <td>100.0</td>\n",
       "      <td>Evet</td>\n",
       "      <td>Bilgisayar Muhendisligi</td>\n",
       "      <td>3</td>\n",
       "      <td>3.50-3</td>\n",
       "      <td>Hayır</td>\n",
       "      <td>Ankara Ataturk Anadolu Lisesi</td>\n",
       "      <td>NaN</td>\n",
       "      <td>Ankara</td>\n",
       "      <td>Anadolu lisesi</td>\n",
       "      <td>MF</td>\n",
       "      <td>NaN</td>\n",
       "      <td>3.50-3</td>\n",
       "      <td>Hayır</td>\n",
       "      <td>NaN</td>\n",
       "      <td>NaN</td>\n",
       "      <td>Üniversite</td>\n",
       "      <td>Hayır</td>\n",
       "      <td>0</td>\n",
       "      <td>Üniversite</td>\n",
       "      <td>Emekli</td>\n",
       "      <td>0</td>\n",
       "      <td>1</td>\n",
       "      <td>Evet</td>\n",
       "      <td>Bilkent IEEE Bilgisayar Toplulugu 2013-2014 Ba...</td>\n",
       "      <td>Evet</td>\n",
       "      <td>Diğer</td>\n",
       "      <td>Hayır</td>\n",
       "      <td>NaN</td>\n",
       "      <td>Evet</td>\n",
       "      <td>Hayır</td>\n",
       "      <td>NaN</td>\n",
       "      <td>NaN</td>\n",
       "      <td>NaN</td>\n",
       "      <td>NaN</td>\n",
       "    </tr>\n",
       "    <tr>\n",
       "      <th>1</th>\n",
       "      <td>2014</td>\n",
       "      <td>30.0</td>\n",
       "      <td>Erkek</td>\n",
       "      <td>6/11/1993</td>\n",
       "      <td>Üsküdar</td>\n",
       "      <td>İstanbul</td>\n",
       "      <td>İHSAN DOĞRAMACI BİLKENT</td>\n",
       "      <td>Özel</td>\n",
       "      <td>100.0</td>\n",
       "      <td>Hayır</td>\n",
       "      <td>Elektrik Elektronik Mühendisliği</td>\n",
       "      <td>3</td>\n",
       "      <td>3.00-2.50</td>\n",
       "      <td>Hayır</td>\n",
       "      <td>Betül Can Anadolu Lisesi</td>\n",
       "      <td>NaN</td>\n",
       "      <td>Ankara</td>\n",
       "      <td>Anadolu lisesi</td>\n",
       "      <td>MF</td>\n",
       "      <td>NaN</td>\n",
       "      <td>3.00 - 4.00</td>\n",
       "      <td>Hayır</td>\n",
       "      <td>NaN</td>\n",
       "      <td>NaN</td>\n",
       "      <td>Üniversite</td>\n",
       "      <td>Evet</td>\n",
       "      <td>Kamu</td>\n",
       "      <td>Yüksek Lisans / Doktora</td>\n",
       "      <td>Emekli</td>\n",
       "      <td>0</td>\n",
       "      <td>1</td>\n",
       "      <td>Hayır</td>\n",
       "      <td>NaN</td>\n",
       "      <td>Hayır</td>\n",
       "      <td>0</td>\n",
       "      <td>Hayır</td>\n",
       "      <td>NaN</td>\n",
       "      <td>Evet</td>\n",
       "      <td>Evet</td>\n",
       "      <td>Bilkent Cyberparkta bir şirkette Türkiye nin i...</td>\n",
       "      <td>NaN</td>\n",
       "      <td>NaN</td>\n",
       "      <td>NaN</td>\n",
       "    </tr>\n",
       "    <tr>\n",
       "      <th>2</th>\n",
       "      <td>2014</td>\n",
       "      <td>18.0</td>\n",
       "      <td>Erkek</td>\n",
       "      <td>1/15/1986</td>\n",
       "      <td>Samsun</td>\n",
       "      <td>İstanbul</td>\n",
       "      <td>ULUSLARARASI KIBRIS ÜNİVERSİTESİ</td>\n",
       "      <td>Özel</td>\n",
       "      <td>100.0</td>\n",
       "      <td>Hayır</td>\n",
       "      <td>Finans Yönetimi ve Pazarlama</td>\n",
       "      <td>1</td>\n",
       "      <td>NaN</td>\n",
       "      <td>Hayır</td>\n",
       "      <td>Batem</td>\n",
       "      <td>NaN</td>\n",
       "      <td>Ankara</td>\n",
       "      <td>Meslek lisesi</td>\n",
       "      <td>Elektirk</td>\n",
       "      <td>NaN</td>\n",
       "      <td>3.50-3</td>\n",
       "      <td>Hayır</td>\n",
       "      <td>NaN</td>\n",
       "      <td>NaN</td>\n",
       "      <td>İlkokul Mezunu</td>\n",
       "      <td>Hayır</td>\n",
       "      <td>0</td>\n",
       "      <td>İlkokul Mezunu</td>\n",
       "      <td>Evet</td>\n",
       "      <td>Özel Sektör</td>\n",
       "      <td>6</td>\n",
       "      <td>Evet</td>\n",
       "      <td>Tema</td>\n",
       "      <td>Hayır</td>\n",
       "      <td>0</td>\n",
       "      <td>Hayır</td>\n",
       "      <td>NaN</td>\n",
       "      <td>Hayır</td>\n",
       "      <td>Hayır</td>\n",
       "      <td>NaN</td>\n",
       "      <td>NaN</td>\n",
       "      <td>NaN</td>\n",
       "      <td>NaN</td>\n",
       "    </tr>\n",
       "    <tr>\n",
       "      <th>3</th>\n",
       "      <td>2014</td>\n",
       "      <td>40.0</td>\n",
       "      <td>Erkek</td>\n",
       "      <td>6/4/1991</td>\n",
       "      <td>Diyarbakır</td>\n",
       "      <td>İstanbul</td>\n",
       "      <td>İSTANBUL ŞEHİR ÜNİVERSİTESİ</td>\n",
       "      <td>Özel</td>\n",
       "      <td>100.0</td>\n",
       "      <td>Evet</td>\n",
       "      <td>Bilgisayar Mühendisliği</td>\n",
       "      <td>3</td>\n",
       "      <td>3.00-2.50</td>\n",
       "      <td>Hayır</td>\n",
       "      <td>Cumhuriyet Fen Lisesi</td>\n",
       "      <td>NaN</td>\n",
       "      <td>Diyarbakır</td>\n",
       "      <td>Fen lisesi</td>\n",
       "      <td>Sayısal</td>\n",
       "      <td>NaN</td>\n",
       "      <td>3.50-3</td>\n",
       "      <td>Hayır</td>\n",
       "      <td>NaN</td>\n",
       "      <td>NaN</td>\n",
       "      <td>İlkokul Mezunu</td>\n",
       "      <td>Hayır</td>\n",
       "      <td>0</td>\n",
       "      <td>Üniversite</td>\n",
       "      <td>Emekli</td>\n",
       "      <td>0</td>\n",
       "      <td>10</td>\n",
       "      <td>Evet</td>\n",
       "      <td>Güzel Konuşma ve yazma kulübü</td>\n",
       "      <td>Hayır</td>\n",
       "      <td>0</td>\n",
       "      <td>Hayır</td>\n",
       "      <td>NaN</td>\n",
       "      <td>Evet</td>\n",
       "      <td>Hayır</td>\n",
       "      <td>NaN</td>\n",
       "      <td>NaN</td>\n",
       "      <td>NaN</td>\n",
       "      <td>NaN</td>\n",
       "    </tr>\n",
       "    <tr>\n",
       "      <th>4</th>\n",
       "      <td>2014</td>\n",
       "      <td>24.0</td>\n",
       "      <td>Erkek</td>\n",
       "      <td>2 Kasim 1992</td>\n",
       "      <td>Ankara/Altındağ</td>\n",
       "      <td>Ankara</td>\n",
       "      <td>TURGUT ÖZAL ÜNİVERSİTESİ</td>\n",
       "      <td>Özel</td>\n",
       "      <td>100.0</td>\n",
       "      <td>Evet</td>\n",
       "      <td>Siyaset Bilimi ve Uluslararası ilişkiler</td>\n",
       "      <td>NaN</td>\n",
       "      <td>3.00-2.50</td>\n",
       "      <td>Hayır</td>\n",
       "      <td>Samanyolu Lisesi</td>\n",
       "      <td>NaN</td>\n",
       "      <td>Ankara</td>\n",
       "      <td>Özel lisesi</td>\n",
       "      <td>TM</td>\n",
       "      <td>NaN</td>\n",
       "      <td>3.00 - 4.00</td>\n",
       "      <td>Hayır</td>\n",
       "      <td>NaN</td>\n",
       "      <td>NaN</td>\n",
       "      <td>İlkokul Mezunu</td>\n",
       "      <td>Hayır</td>\n",
       "      <td>0</td>\n",
       "      <td>Üniversite</td>\n",
       "      <td>Emekli</td>\n",
       "      <td>0</td>\n",
       "      <td>1</td>\n",
       "      <td>Hayır</td>\n",
       "      <td>NaN</td>\n",
       "      <td>Hayır</td>\n",
       "      <td>0</td>\n",
       "      <td>Hayır</td>\n",
       "      <td>NaN</td>\n",
       "      <td>Hayır</td>\n",
       "      <td>Hayır</td>\n",
       "      <td>NaN</td>\n",
       "      <td>NaN</td>\n",
       "      <td>NaN</td>\n",
       "      <td>NaN</td>\n",
       "    </tr>\n",
       "    <tr>\n",
       "      <th>...</th>\n",
       "      <td>...</td>\n",
       "      <td>...</td>\n",
       "      <td>...</td>\n",
       "      <td>...</td>\n",
       "      <td>...</td>\n",
       "      <td>...</td>\n",
       "      <td>...</td>\n",
       "      <td>...</td>\n",
       "      <td>...</td>\n",
       "      <td>...</td>\n",
       "      <td>...</td>\n",
       "      <td>...</td>\n",
       "      <td>...</td>\n",
       "      <td>...</td>\n",
       "      <td>...</td>\n",
       "      <td>...</td>\n",
       "      <td>...</td>\n",
       "      <td>...</td>\n",
       "      <td>...</td>\n",
       "      <td>...</td>\n",
       "      <td>...</td>\n",
       "      <td>...</td>\n",
       "      <td>...</td>\n",
       "      <td>...</td>\n",
       "      <td>...</td>\n",
       "      <td>...</td>\n",
       "      <td>...</td>\n",
       "      <td>...</td>\n",
       "      <td>...</td>\n",
       "      <td>...</td>\n",
       "      <td>...</td>\n",
       "      <td>...</td>\n",
       "      <td>...</td>\n",
       "      <td>...</td>\n",
       "      <td>...</td>\n",
       "      <td>...</td>\n",
       "      <td>...</td>\n",
       "      <td>...</td>\n",
       "      <td>...</td>\n",
       "      <td>...</td>\n",
       "      <td>...</td>\n",
       "      <td>...</td>\n",
       "      <td>...</td>\n",
       "    </tr>\n",
       "    <tr>\n",
       "      <th>65120</th>\n",
       "      <td>2022</td>\n",
       "      <td>0.0</td>\n",
       "      <td>Erkek</td>\n",
       "      <td>18.06.2003 00:00</td>\n",
       "      <td>İstanbul</td>\n",
       "      <td>İstanbul</td>\n",
       "      <td>İstanbul Aydın Üniversitesi</td>\n",
       "      <td>Özel</td>\n",
       "      <td>NaN</td>\n",
       "      <td>Evet</td>\n",
       "      <td>Muhasebe</td>\n",
       "      <td>2</td>\n",
       "      <td>0 - 1.79</td>\n",
       "      <td>NaN</td>\n",
       "      <td>BAĞCILAR EDİP İPLİK MESLEKİ VE TEKNİK ANADOLU ...</td>\n",
       "      <td>NaN</td>\n",
       "      <td>İstanbul</td>\n",
       "      <td>Devlet</td>\n",
       "      <td>Eşit Ağırlık</td>\n",
       "      <td>NaN</td>\n",
       "      <td>50 - 74</td>\n",
       "      <td>Hayır</td>\n",
       "      <td>-</td>\n",
       "      <td>-</td>\n",
       "      <td>İlkokul</td>\n",
       "      <td>Hayır</td>\n",
       "      <td>-</td>\n",
       "      <td>Ortaokul</td>\n",
       "      <td>Evet</td>\n",
       "      <td>Özel Sektör</td>\n",
       "      <td>4.0</td>\n",
       "      <td>Hayır</td>\n",
       "      <td>NaN</td>\n",
       "      <td>Hayır</td>\n",
       "      <td>-</td>\n",
       "      <td>Hayır</td>\n",
       "      <td>-</td>\n",
       "      <td>NaN</td>\n",
       "      <td>Hayır</td>\n",
       "      <td>-</td>\n",
       "      <td>Hayır</td>\n",
       "      <td>NaN</td>\n",
       "      <td>NaN</td>\n",
       "    </tr>\n",
       "    <tr>\n",
       "      <th>65121</th>\n",
       "      <td>2022</td>\n",
       "      <td>0.0</td>\n",
       "      <td>Erkek</td>\n",
       "      <td>18.04.2002 00:00</td>\n",
       "      <td>Hatay</td>\n",
       "      <td>Muğla</td>\n",
       "      <td>Muğla Sıtkı Koçman Üniversitesi</td>\n",
       "      <td>Devlet</td>\n",
       "      <td>NaN</td>\n",
       "      <td>Hayır</td>\n",
       "      <td>Turizm İşletmeciliği</td>\n",
       "      <td>1</td>\n",
       "      <td>Hazırlığım</td>\n",
       "      <td>NaN</td>\n",
       "      <td>Ahmet Vefik paşa Anadolu lisesi</td>\n",
       "      <td>NaN</td>\n",
       "      <td>Bursa</td>\n",
       "      <td>Devlet</td>\n",
       "      <td>Eşit Ağırlık</td>\n",
       "      <td>NaN</td>\n",
       "      <td>75 - 100</td>\n",
       "      <td>Hayır</td>\n",
       "      <td>-</td>\n",
       "      <td>-</td>\n",
       "      <td>Lise</td>\n",
       "      <td>Hayır</td>\n",
       "      <td>-</td>\n",
       "      <td>Lise</td>\n",
       "      <td>Evet</td>\n",
       "      <td>Özel Sektör</td>\n",
       "      <td>4.0</td>\n",
       "      <td>Hayır</td>\n",
       "      <td>NaN</td>\n",
       "      <td>Hayır</td>\n",
       "      <td>-</td>\n",
       "      <td>Hayır</td>\n",
       "      <td>-</td>\n",
       "      <td>NaN</td>\n",
       "      <td>Hayır</td>\n",
       "      <td>-</td>\n",
       "      <td>Hayır</td>\n",
       "      <td>NaN</td>\n",
       "      <td>NaN</td>\n",
       "    </tr>\n",
       "    <tr>\n",
       "      <th>65122</th>\n",
       "      <td>2022</td>\n",
       "      <td>0.0</td>\n",
       "      <td>Erkek</td>\n",
       "      <td>23.10.1999 00:00</td>\n",
       "      <td>Mersin</td>\n",
       "      <td>Mersin</td>\n",
       "      <td>Süleyman Demirel Üniversitesi</td>\n",
       "      <td>Devlet</td>\n",
       "      <td>NaN</td>\n",
       "      <td>Hayır</td>\n",
       "      <td>Otomotiv Mühendisliği</td>\n",
       "      <td>4</td>\n",
       "      <td>0 - 1.79</td>\n",
       "      <td>NaN</td>\n",
       "      <td>Açık lise</td>\n",
       "      <td>NaN</td>\n",
       "      <td>Mersin</td>\n",
       "      <td>Devlet</td>\n",
       "      <td>Sayısal</td>\n",
       "      <td>NaN</td>\n",
       "      <td>75 - 100</td>\n",
       "      <td>Evet</td>\n",
       "      <td>Kyk</td>\n",
       "      <td>500₺ - 999₺</td>\n",
       "      <td>Lise</td>\n",
       "      <td>Hayır</td>\n",
       "      <td>-</td>\n",
       "      <td>Lise</td>\n",
       "      <td>Hayır</td>\n",
       "      <td>-</td>\n",
       "      <td>3.0</td>\n",
       "      <td>Hayır</td>\n",
       "      <td>NaN</td>\n",
       "      <td>Hayır</td>\n",
       "      <td>-</td>\n",
       "      <td>Hayır</td>\n",
       "      <td>-</td>\n",
       "      <td>NaN</td>\n",
       "      <td>Hayır</td>\n",
       "      <td>-</td>\n",
       "      <td>Hayır</td>\n",
       "      <td>NaN</td>\n",
       "      <td>NaN</td>\n",
       "    </tr>\n",
       "    <tr>\n",
       "      <th>65123</th>\n",
       "      <td>2022</td>\n",
       "      <td>0.0</td>\n",
       "      <td>Erkek</td>\n",
       "      <td>17.11.2000 00:00</td>\n",
       "      <td>Samsun</td>\n",
       "      <td>Samsun</td>\n",
       "      <td>Karabük Üniversitesi</td>\n",
       "      <td>Devlet</td>\n",
       "      <td>NaN</td>\n",
       "      <td>Hayır</td>\n",
       "      <td>Sanat Tarihi</td>\n",
       "      <td>3</td>\n",
       "      <td>0 - 1.79</td>\n",
       "      <td>NaN</td>\n",
       "      <td>Samsun Terme Karadeniz mesleki teknik Anadolu ...</td>\n",
       "      <td>NaN</td>\n",
       "      <td>Samsun</td>\n",
       "      <td>Devlet</td>\n",
       "      <td>Sözel</td>\n",
       "      <td>NaN</td>\n",
       "      <td>50 - 74</td>\n",
       "      <td>Hayır</td>\n",
       "      <td>-</td>\n",
       "      <td>-</td>\n",
       "      <td>İlkokul</td>\n",
       "      <td>Evet</td>\n",
       "      <td>Özel Sektör</td>\n",
       "      <td>Lise</td>\n",
       "      <td>Evet</td>\n",
       "      <td>Kamu</td>\n",
       "      <td>2.0</td>\n",
       "      <td>Hayır</td>\n",
       "      <td>NaN</td>\n",
       "      <td>Hayır</td>\n",
       "      <td>-</td>\n",
       "      <td>Hayır</td>\n",
       "      <td>-</td>\n",
       "      <td>NaN</td>\n",
       "      <td>Hayır</td>\n",
       "      <td>-</td>\n",
       "      <td>Hayır</td>\n",
       "      <td>NaN</td>\n",
       "      <td>NaN</td>\n",
       "    </tr>\n",
       "    <tr>\n",
       "      <th>65124</th>\n",
       "      <td>2022</td>\n",
       "      <td>NaN</td>\n",
       "      <td>Kadın</td>\n",
       "      <td>27.04.2000 00:00</td>\n",
       "      <td>Hatay</td>\n",
       "      <td>Hatay</td>\n",
       "      <td>Gaziantep Üniversitesi</td>\n",
       "      <td>Devlet</td>\n",
       "      <td>NaN</td>\n",
       "      <td>Hayır</td>\n",
       "      <td>İngiliz Dili ve Edebiyatı</td>\n",
       "      <td>4</td>\n",
       "      <td>2.50 - 2.99</td>\n",
       "      <td>NaN</td>\n",
       "      <td>Antakya Anadolu Lisesi</td>\n",
       "      <td>NaN</td>\n",
       "      <td>Hatay</td>\n",
       "      <td>Devlet</td>\n",
       "      <td>Dil</td>\n",
       "      <td>NaN</td>\n",
       "      <td>75 - 100</td>\n",
       "      <td>Evet</td>\n",
       "      <td>Kredi Yurtlar Kurumu</td>\n",
       "      <td>500₺ - 999₺</td>\n",
       "      <td>İlkokul</td>\n",
       "      <td>Hayır</td>\n",
       "      <td>-</td>\n",
       "      <td>İlkokul</td>\n",
       "      <td>Evet</td>\n",
       "      <td>Diğer</td>\n",
       "      <td>2.0</td>\n",
       "      <td>Hayır</td>\n",
       "      <td>NaN</td>\n",
       "      <td>Evet</td>\n",
       "      <td>Takım Oyuncusu</td>\n",
       "      <td>Evet</td>\n",
       "      <td>Genç Kızılay Topluluğu'nda 3 yıldır gönüllüyüm...</td>\n",
       "      <td>NaN</td>\n",
       "      <td>Evet</td>\n",
       "      <td>Aile desteğiyle yemek sektöründe küçük bir işl...</td>\n",
       "      <td>Evet</td>\n",
       "      <td>NaN</td>\n",
       "      <td>NaN</td>\n",
       "    </tr>\n",
       "  </tbody>\n",
       "</table>\n",
       "<p>65125 rows × 43 columns</p>\n",
       "</div>"
      ],
      "text/plain": [
       "       Basvuru Yili  Degerlendirme Puani Cinsiyet      Dogum Tarihi  \\\n",
       "0              2014                 52.0    Erkek          4/6/1994   \n",
       "1              2014                 30.0    Erkek         6/11/1993   \n",
       "2              2014                 18.0    Erkek         1/15/1986   \n",
       "3              2014                 40.0    Erkek          6/4/1991   \n",
       "4              2014                 24.0    Erkek      2 Kasim 1992   \n",
       "...             ...                  ...      ...               ...   \n",
       "65120          2022                  0.0    Erkek  18.06.2003 00:00   \n",
       "65121          2022                  0.0    Erkek  18.04.2002 00:00   \n",
       "65122          2022                  0.0    Erkek  23.10.1999 00:00   \n",
       "65123          2022                  0.0    Erkek  17.11.2000 00:00   \n",
       "65124          2022                  NaN    Kadın  27.04.2000 00:00   \n",
       "\n",
       "             Dogum Yeri Ikametgah Sehri                    Universite Adi  \\\n",
       "0      Altindag, Ankara          Ankara           İHSAN DOĞRAMACI BİLKENT   \n",
       "1               Üsküdar        İstanbul           İHSAN DOĞRAMACI BİLKENT   \n",
       "2                Samsun        İstanbul  ULUSLARARASI KIBRIS ÜNİVERSİTESİ   \n",
       "3            Diyarbakır        İstanbul       İSTANBUL ŞEHİR ÜNİVERSİTESİ   \n",
       "4       Ankara/Altındağ          Ankara          TURGUT ÖZAL ÜNİVERSİTESİ   \n",
       "...                 ...             ...                               ...   \n",
       "65120          İstanbul        İstanbul       İstanbul Aydın Üniversitesi   \n",
       "65121             Hatay           Muğla   Muğla Sıtkı Koçman Üniversitesi   \n",
       "65122            Mersin          Mersin     Süleyman Demirel Üniversitesi   \n",
       "65123            Samsun          Samsun              Karabük Üniversitesi   \n",
       "65124             Hatay           Hatay            Gaziantep Üniversitesi   \n",
       "\n",
       "      Universite Turu  Burslu ise Burs Yuzdesi Burs Aliyor mu?  \\\n",
       "0                Özel                    100.0            Evet   \n",
       "1                Özel                    100.0           Hayır   \n",
       "2                Özel                    100.0           Hayır   \n",
       "3                Özel                    100.0            Evet   \n",
       "4                Özel                    100.0            Evet   \n",
       "...               ...                      ...             ...   \n",
       "65120            Özel                      NaN            Evet   \n",
       "65121          Devlet                      NaN           Hayır   \n",
       "65122          Devlet                      NaN           Hayır   \n",
       "65123          Devlet                      NaN           Hayır   \n",
       "65124          Devlet                      NaN           Hayır   \n",
       "\n",
       "                                          Bölüm Universite Kacinci Sinif  \\\n",
       "0                       Bilgisayar Muhendisligi                        3   \n",
       "1              Elektrik Elektronik Mühendisliği                        3   \n",
       "2                  Finans Yönetimi ve Pazarlama                        1   \n",
       "3                       Bilgisayar Mühendisliği                        3   \n",
       "4      Siyaset Bilimi ve Uluslararası ilişkiler                      NaN   \n",
       "...                                         ...                      ...   \n",
       "65120                                  Muhasebe                        2   \n",
       "65121                      Turizm İşletmeciliği                        1   \n",
       "65122                     Otomotiv Mühendisliği                        4   \n",
       "65123                              Sanat Tarihi                        3   \n",
       "65124                 İngiliz Dili ve Edebiyatı                        4   \n",
       "\n",
       "      Universite Not Ortalamasi Daha Once Baska Bir Universiteden Mezun Olmus  \\\n",
       "0                        3.50-3                                         Hayır   \n",
       "1                     3.00-2.50                                         Hayır   \n",
       "2                           NaN                                         Hayır   \n",
       "3                     3.00-2.50                                         Hayır   \n",
       "4                     3.00-2.50                                         Hayır   \n",
       "...                         ...                                           ...   \n",
       "65120                  0 - 1.79                                           NaN   \n",
       "65121                Hazırlığım                                           NaN   \n",
       "65122                  0 - 1.79                                           NaN   \n",
       "65123                  0 - 1.79                                           NaN   \n",
       "65124               2.50 - 2.99                                           NaN   \n",
       "\n",
       "                                                Lise Adi Lise Adi Diger  \\\n",
       "0                          Ankara Ataturk Anadolu Lisesi            NaN   \n",
       "1                               Betül Can Anadolu Lisesi            NaN   \n",
       "2                                                  Batem            NaN   \n",
       "3                                  Cumhuriyet Fen Lisesi            NaN   \n",
       "4                                       Samanyolu Lisesi            NaN   \n",
       "...                                                  ...            ...   \n",
       "65120  BAĞCILAR EDİP İPLİK MESLEKİ VE TEKNİK ANADOLU ...            NaN   \n",
       "65121                    Ahmet Vefik paşa Anadolu lisesi            NaN   \n",
       "65122                                          Açık lise            NaN   \n",
       "65123  Samsun Terme Karadeniz mesleki teknik Anadolu ...            NaN   \n",
       "65124                             Antakya Anadolu Lisesi            NaN   \n",
       "\n",
       "       Lise Sehir       Lise Turu   Lise Bolumu Lise Bolum Diger  \\\n",
       "0          Ankara  Anadolu lisesi            MF              NaN   \n",
       "1          Ankara  Anadolu lisesi            MF              NaN   \n",
       "2          Ankara   Meslek lisesi      Elektirk              NaN   \n",
       "3      Diyarbakır      Fen lisesi       Sayısal              NaN   \n",
       "4          Ankara     Özel lisesi            TM              NaN   \n",
       "...           ...             ...           ...              ...   \n",
       "65120    İstanbul          Devlet  Eşit Ağırlık              NaN   \n",
       "65121       Bursa          Devlet  Eşit Ağırlık              NaN   \n",
       "65122      Mersin          Devlet       Sayısal              NaN   \n",
       "65123      Samsun          Devlet         Sözel              NaN   \n",
       "65124       Hatay          Devlet           Dil              NaN   \n",
       "\n",
       "      Lise Mezuniyet Notu Baska Bir Kurumdan Burs Aliyor mu?  \\\n",
       "0                  3.50-3                              Hayır   \n",
       "1             3.00 - 4.00                              Hayır   \n",
       "2                  3.50-3                              Hayır   \n",
       "3                  3.50-3                              Hayır   \n",
       "4             3.00 - 4.00                              Hayır   \n",
       "...                   ...                                ...   \n",
       "65120             50 - 74                              Hayır   \n",
       "65121            75 - 100                              Hayır   \n",
       "65122            75 - 100                               Evet   \n",
       "65123             50 - 74                              Hayır   \n",
       "65124            75 - 100                               Evet   \n",
       "\n",
       "      Burs Aldigi Baska Kurum Baska Kurumdan Aldigi Burs Miktari  \\\n",
       "0                         NaN                                NaN   \n",
       "1                         NaN                                NaN   \n",
       "2                         NaN                                NaN   \n",
       "3                         NaN                                NaN   \n",
       "4                         NaN                                NaN   \n",
       "...                       ...                                ...   \n",
       "65120                       -                                  -   \n",
       "65121                       -                                  -   \n",
       "65122                     Kyk                        500₺ - 999₺   \n",
       "65123                       -                                  -   \n",
       "65124    Kredi Yurtlar Kurumu                        500₺ - 999₺   \n",
       "\n",
       "      Anne Egitim Durumu Anne Calisma Durumu  Anne Sektor  \\\n",
       "0             Üniversite               Hayır            0   \n",
       "1             Üniversite                Evet         Kamu   \n",
       "2         İlkokul Mezunu               Hayır            0   \n",
       "3         İlkokul Mezunu               Hayır            0   \n",
       "4         İlkokul Mezunu               Hayır            0   \n",
       "...                  ...                 ...          ...   \n",
       "65120            İlkokul               Hayır            -   \n",
       "65121               Lise               Hayır            -   \n",
       "65122               Lise               Hayır            -   \n",
       "65123            İlkokul                Evet  Özel Sektör   \n",
       "65124            İlkokul               Hayır            -   \n",
       "\n",
       "            Baba Egitim Durumu Baba Calisma Durumu  Baba Sektor Kardes Sayisi  \\\n",
       "0                   Üniversite              Emekli            0             1   \n",
       "1      Yüksek Lisans / Doktora              Emekli            0             1   \n",
       "2               İlkokul Mezunu                Evet  Özel Sektör             6   \n",
       "3                   Üniversite              Emekli            0            10   \n",
       "4                   Üniversite              Emekli            0             1   \n",
       "...                        ...                 ...          ...           ...   \n",
       "65120                 Ortaokul                Evet  Özel Sektör           4.0   \n",
       "65121                     Lise                Evet  Özel Sektör           4.0   \n",
       "65122                     Lise               Hayır            -           3.0   \n",
       "65123                     Lise                Evet         Kamu           2.0   \n",
       "65124                  İlkokul                Evet        Diğer           2.0   \n",
       "\n",
       "      Girisimcilik Kulupleri Tarzi Bir Kulube Uye misiniz?  \\\n",
       "0                                                   Evet     \n",
       "1                                                  Hayır     \n",
       "2                                                   Evet     \n",
       "3                                                   Evet     \n",
       "4                                                  Hayır     \n",
       "...                                                  ...     \n",
       "65120                                              Hayır     \n",
       "65121                                              Hayır     \n",
       "65122                                              Hayır     \n",
       "65123                                              Hayır     \n",
       "65124                                              Hayır     \n",
       "\n",
       "                              Uye Oldugunuz Kulubun Ismi  \\\n",
       "0      Bilkent IEEE Bilgisayar Toplulugu 2013-2014 Ba...   \n",
       "1                                                    NaN   \n",
       "2                                                   Tema   \n",
       "3                          Güzel Konuşma ve yazma kulübü   \n",
       "4                                                    NaN   \n",
       "...                                                  ...   \n",
       "65120                                                NaN   \n",
       "65121                                                NaN   \n",
       "65122                                                NaN   \n",
       "65123                                                NaN   \n",
       "65124                                                NaN   \n",
       "\n",
       "      Profesyonel Bir Spor Daliyla Mesgul musunuz?  \\\n",
       "0                                             Evet   \n",
       "1                                            Hayır   \n",
       "2                                            Hayır   \n",
       "3                                            Hayır   \n",
       "4                                            Hayır   \n",
       "...                                            ...   \n",
       "65120                                        Hayır   \n",
       "65121                                        Hayır   \n",
       "65122                                        Hayır   \n",
       "65123                                        Hayır   \n",
       "65124                                         Evet   \n",
       "\n",
       "      Spor Dalindaki Rolunuz Nedir? Aktif olarak bir STK üyesi misiniz?  \\\n",
       "0                             Diğer                               Hayır   \n",
       "1                                 0                               Hayır   \n",
       "2                                 0                               Hayır   \n",
       "3                                 0                               Hayır   \n",
       "4                                 0                               Hayır   \n",
       "...                             ...                                 ...   \n",
       "65120                             -                               Hayır   \n",
       "65121                             -                               Hayır   \n",
       "65122                             -                               Hayır   \n",
       "65123                             -                               Hayır   \n",
       "65124                Takım Oyuncusu                                Evet   \n",
       "\n",
       "                               Hangi STK'nin Uyesisiniz?  \\\n",
       "0                                                    NaN   \n",
       "1                                                    NaN   \n",
       "2                                                    NaN   \n",
       "3                                                    NaN   \n",
       "4                                                    NaN   \n",
       "...                                                  ...   \n",
       "65120                                                  -   \n",
       "65121                                                  -   \n",
       "65122                                                  -   \n",
       "65123                                                  -   \n",
       "65124  Genç Kızılay Topluluğu'nda 3 yıldır gönüllüyüm...   \n",
       "\n",
       "      Stk Projesine Katildiniz Mi? Girisimcilikle Ilgili Deneyiminiz Var Mi?  \\\n",
       "0                             Evet                                     Hayır   \n",
       "1                             Evet                                      Evet   \n",
       "2                            Hayır                                     Hayır   \n",
       "3                             Evet                                     Hayır   \n",
       "4                            Hayır                                     Hayır   \n",
       "...                            ...                                       ...   \n",
       "65120                          NaN                                     Hayır   \n",
       "65121                          NaN                                     Hayır   \n",
       "65122                          NaN                                     Hayır   \n",
       "65123                          NaN                                     Hayır   \n",
       "65124                          NaN                                      Evet   \n",
       "\n",
       "      Girisimcilikle Ilgili Deneyiminizi Aciklayabilir misiniz?  \\\n",
       "0                                                    NaN          \n",
       "1      Bilkent Cyberparkta bir şirkette Türkiye nin i...          \n",
       "2                                                    NaN          \n",
       "3                                                    NaN          \n",
       "4                                                    NaN          \n",
       "...                                                  ...          \n",
       "65120                                                  -          \n",
       "65121                                                  -          \n",
       "65122                                                  -          \n",
       "65123                                                  -          \n",
       "65124  Aile desteğiyle yemek sektöründe küçük bir işl...          \n",
       "\n",
       "      Ingilizce Biliyor musunuz? Ingilizce Seviyeniz?  \\\n",
       "0                            NaN                  NaN   \n",
       "1                            NaN                  NaN   \n",
       "2                            NaN                  NaN   \n",
       "3                            NaN                  NaN   \n",
       "4                            NaN                  NaN   \n",
       "...                          ...                  ...   \n",
       "65120                      Hayır                  NaN   \n",
       "65121                      Hayır                  NaN   \n",
       "65122                      Hayır                  NaN   \n",
       "65123                      Hayır                  NaN   \n",
       "65124                       Evet                  NaN   \n",
       "\n",
       "      Daha Önceden Mezun Olunduysa, Mezun Olunan Üniversite  \n",
       "0                                                    NaN     \n",
       "1                                                    NaN     \n",
       "2                                                    NaN     \n",
       "3                                                    NaN     \n",
       "4                                                    NaN     \n",
       "...                                                  ...     \n",
       "65120                                                NaN     \n",
       "65121                                                NaN     \n",
       "65122                                                NaN     \n",
       "65123                                                NaN     \n",
       "65124                                                NaN     \n",
       "\n",
       "[65125 rows x 43 columns]"
      ]
     },
     "execution_count": 683,
     "metadata": {},
     "output_type": "execute_result"
    }
   ],
   "source": [
    "train"
   ]
  },
  {
   "cell_type": "code",
   "execution_count": 684,
   "metadata": {},
   "outputs": [
    {
     "name": "stdout",
     "output_type": "stream",
     "text": [
      "<class 'pandas.core.frame.DataFrame'>\n",
      "RangeIndex: 65125 entries, 0 to 65124\n",
      "Data columns (total 43 columns):\n",
      " #   Column                                                     Non-Null Count  Dtype  \n",
      "---  ------                                                     --------------  -----  \n",
      " 0   Basvuru Yili                                               65125 non-null  int64  \n",
      " 1   Degerlendirme Puani                                        65124 non-null  float64\n",
      " 2   Cinsiyet                                                   64956 non-null  object \n",
      " 3   Dogum Tarihi                                               64948 non-null  object \n",
      " 4   Dogum Yeri                                                 64334 non-null  object \n",
      " 5   Ikametgah Sehri                                            63088 non-null  object \n",
      " 6   Universite Adi                                             64993 non-null  object \n",
      " 7   Universite Turu                                            64870 non-null  object \n",
      " 8   Burslu ise Burs Yuzdesi                                    22440 non-null  float64\n",
      " 9   Burs Aliyor mu?                                            65125 non-null  object \n",
      " 10  Bölüm                                                      64894 non-null  object \n",
      " 11  Universite Kacinci Sinif                                   64751 non-null  object \n",
      " 12  Universite Not Ortalamasi                                  62372 non-null  object \n",
      " 13  Daha Once Baska Bir Universiteden Mezun Olmus              27780 non-null  object \n",
      " 14  Lise Adi                                                   64741 non-null  object \n",
      " 15  Lise Adi Diger                                             4733 non-null   object \n",
      " 16  Lise Sehir                                                 64071 non-null  object \n",
      " 17  Lise Turu                                                  64278 non-null  object \n",
      " 18  Lise Bolumu                                                64116 non-null  object \n",
      " 19  Lise Bolum Diger                                           1526 non-null   object \n",
      " 20  Lise Mezuniyet Notu                                        59208 non-null  object \n",
      " 21  Baska Bir Kurumdan Burs Aliyor mu?                         64894 non-null  object \n",
      " 22  Burs Aldigi Baska Kurum                                    21148 non-null  object \n",
      " 23  Baska Kurumdan Aldigi Burs Miktari                         20963 non-null  object \n",
      " 24  Anne Egitim Durumu                                         64719 non-null  object \n",
      " 25  Anne Calisma Durumu                                        53229 non-null  object \n",
      " 26  Anne Sektor                                                30588 non-null  object \n",
      " 27  Baba Egitim Durumu                                         64118 non-null  object \n",
      " 28  Baba Calisma Durumu                                        52507 non-null  object \n",
      " 29  Baba Sektor                                                44747 non-null  object \n",
      " 30  Kardes Sayisi                                              63993 non-null  object \n",
      " 31  Girisimcilik Kulupleri Tarzi Bir Kulube Uye misiniz?       63296 non-null  object \n",
      " 32  Uye Oldugunuz Kulubun Ismi                                 16434 non-null  object \n",
      " 33  Profesyonel Bir Spor Daliyla Mesgul musunuz?               64010 non-null  object \n",
      " 34  Spor Dalindaki Rolunuz Nedir?                              32850 non-null  object \n",
      " 35  Aktif olarak bir STK üyesi misiniz?                        52283 non-null  object \n",
      " 36  Hangi STK'nin Uyesisiniz?                                  15607 non-null  object \n",
      " 37  Stk Projesine Katildiniz Mi?                               36817 non-null  object \n",
      " 38  Girisimcilikle Ilgili Deneyiminiz Var Mi?                  52285 non-null  object \n",
      " 39  Girisimcilikle Ilgili Deneyiminizi Aciklayabilir misiniz?  14599 non-null  object \n",
      " 40  Ingilizce Biliyor musunuz?                                 58671 non-null  object \n",
      " 41  Ingilizce Seviyeniz?                                       28592 non-null  object \n",
      " 42  Daha Önceden Mezun Olunduysa, Mezun Olunan Üniversite      419 non-null    object \n",
      "dtypes: float64(2), int64(1), object(40)\n",
      "memory usage: 21.4+ MB\n"
     ]
    }
   ],
   "source": [
    "train.info()"
   ]
  },
  {
   "cell_type": "code",
   "execution_count": 685,
   "metadata": {},
   "outputs": [
    {
     "data": {
      "text/plain": [
       "Daha Önceden Mezun Olunduysa, Mezun Olunan Üniversite        99.356622\n",
       "Lise Bolum Diger                                             97.656814\n",
       "Lise Adi Diger                                               92.732438\n",
       "Girisimcilikle Ilgili Deneyiminizi Aciklayabilir misiniz?    77.583109\n",
       "Hangi STK'nin Uyesisiniz?                                    76.035317\n",
       "Uye Oldugunuz Kulubun Ismi                                   74.765451\n",
       "Baska Kurumdan Aldigi Burs Miktari                           67.811132\n",
       "Burs Aldigi Baska Kurum                                      67.527063\n",
       "Burslu ise Burs Yuzdesi                                      65.543186\n",
       "Daha Once Baska Bir Universiteden Mezun Olmus                57.343570\n",
       "Ingilizce Seviyeniz?                                         56.096737\n",
       "Anne Sektor                                                  53.031862\n",
       "Spor Dalindaki Rolunuz Nedir?                                49.558541\n",
       "Stk Projesine Katildiniz Mi?                                 43.467179\n",
       "Baba Sektor                                                  31.290595\n",
       "Aktif olarak bir STK üyesi misiniz?                          19.719002\n",
       "Girisimcilikle Ilgili Deneyiminiz Var Mi?                    19.715931\n",
       "Baba Calisma Durumu                                          19.375048\n",
       "Anne Calisma Durumu                                          18.266411\n",
       "Ingilizce Biliyor musunuz?                                    9.910173\n",
       "Lise Mezuniyet Notu                                           9.085605\n",
       "Universite Not Ortalamasi                                     4.227255\n",
       "Ikametgah Sehri                                               3.127831\n",
       "Girisimcilik Kulupleri Tarzi Bir Kulube Uye misiniz?          2.808445\n",
       "Kardes Sayisi                                                 1.738196\n",
       "Profesyonel Bir Spor Daliyla Mesgul musunuz?                  1.712092\n",
       "Lise Sehir                                                    1.618426\n",
       "Lise Bolumu                                                   1.549328\n",
       "Baba Egitim Durumu                                            1.546257\n",
       "Lise Turu                                                     1.300576\n",
       "Dogum Yeri                                                    1.214587\n",
       "Anne Egitim Durumu                                            0.623417\n",
       "Lise Adi                                                      0.589635\n",
       "Universite Kacinci Sinif                                      0.574280\n",
       "Universite Turu                                               0.391555\n",
       "Baska Bir Kurumdan Burs Aliyor mu?                            0.354702\n",
       "Bölüm                                                         0.354702\n",
       "Dogum Tarihi                                                  0.271785\n",
       "Cinsiyet                                                      0.259501\n",
       "Universite Adi                                                0.202687\n",
       "Degerlendirme Puani                                           0.001536\n",
       "Burs Aliyor mu?                                               0.000000\n",
       "Basvuru Yili                                                  0.000000\n",
       "dtype: float64"
      ]
     },
     "execution_count": 685,
     "metadata": {},
     "output_type": "execute_result"
    }
   ],
   "source": [
    "train.isnull().sum().sort_values(ascending=False)/65125*100"
   ]
  },
  {
   "cell_type": "code",
   "execution_count": 686,
   "metadata": {},
   "outputs": [
    {
     "data": {
      "text/html": [
       "<div>\n",
       "<style scoped>\n",
       "    .dataframe tbody tr th:only-of-type {\n",
       "        vertical-align: middle;\n",
       "    }\n",
       "\n",
       "    .dataframe tbody tr th {\n",
       "        vertical-align: top;\n",
       "    }\n",
       "\n",
       "    .dataframe thead th {\n",
       "        text-align: right;\n",
       "    }\n",
       "</style>\n",
       "<table border=\"1\" class=\"dataframe\">\n",
       "  <thead>\n",
       "    <tr style=\"text-align: right;\">\n",
       "      <th></th>\n",
       "      <th>count</th>\n",
       "      <th>unique</th>\n",
       "      <th>top</th>\n",
       "      <th>freq</th>\n",
       "    </tr>\n",
       "  </thead>\n",
       "  <tbody>\n",
       "    <tr>\n",
       "      <th>Cinsiyet</th>\n",
       "      <td>64956</td>\n",
       "      <td>4</td>\n",
       "      <td>Kadın</td>\n",
       "      <td>32077</td>\n",
       "    </tr>\n",
       "    <tr>\n",
       "      <th>Dogum Tarihi</th>\n",
       "      <td>64948</td>\n",
       "      <td>13498</td>\n",
       "      <td>1/1/70 2:00</td>\n",
       "      <td>1655</td>\n",
       "    </tr>\n",
       "    <tr>\n",
       "      <th>Dogum Yeri</th>\n",
       "      <td>64334</td>\n",
       "      <td>2230</td>\n",
       "      <td>İstanbul</td>\n",
       "      <td>8682</td>\n",
       "    </tr>\n",
       "    <tr>\n",
       "      <th>Ikametgah Sehri</th>\n",
       "      <td>63088</td>\n",
       "      <td>319</td>\n",
       "      <td>İstanbul</td>\n",
       "      <td>16625</td>\n",
       "    </tr>\n",
       "    <tr>\n",
       "      <th>Universite Adi</th>\n",
       "      <td>64993</td>\n",
       "      <td>527</td>\n",
       "      <td>İSTANBUL ÜNİVERSİTESİ</td>\n",
       "      <td>2083</td>\n",
       "    </tr>\n",
       "    <tr>\n",
       "      <th>Universite Turu</th>\n",
       "      <td>64870</td>\n",
       "      <td>4</td>\n",
       "      <td>Devlet</td>\n",
       "      <td>37885</td>\n",
       "    </tr>\n",
       "    <tr>\n",
       "      <th>Burs Aliyor mu?</th>\n",
       "      <td>65125</td>\n",
       "      <td>5</td>\n",
       "      <td>Hayır</td>\n",
       "      <td>51978</td>\n",
       "    </tr>\n",
       "    <tr>\n",
       "      <th>Bölüm</th>\n",
       "      <td>64894</td>\n",
       "      <td>7748</td>\n",
       "      <td>Endüstri Mühendisliği</td>\n",
       "      <td>2434</td>\n",
       "    </tr>\n",
       "    <tr>\n",
       "      <th>Universite Kacinci Sinif</th>\n",
       "      <td>64751</td>\n",
       "      <td>12</td>\n",
       "      <td>2</td>\n",
       "      <td>21773</td>\n",
       "    </tr>\n",
       "    <tr>\n",
       "      <th>Universite Not Ortalamasi</th>\n",
       "      <td>62372</td>\n",
       "      <td>20</td>\n",
       "      <td>3.00-2.50</td>\n",
       "      <td>10758</td>\n",
       "    </tr>\n",
       "    <tr>\n",
       "      <th>Daha Once Baska Bir Universiteden Mezun Olmus</th>\n",
       "      <td>27780</td>\n",
       "      <td>2</td>\n",
       "      <td>Hayır</td>\n",
       "      <td>26624</td>\n",
       "    </tr>\n",
       "    <tr>\n",
       "      <th>Lise Adi</th>\n",
       "      <td>64741</td>\n",
       "      <td>31950</td>\n",
       "      <td>------</td>\n",
       "      <td>4251</td>\n",
       "    </tr>\n",
       "    <tr>\n",
       "      <th>Lise Adi Diger</th>\n",
       "      <td>4733</td>\n",
       "      <td>4010</td>\n",
       "      <td>Atatürk Anadolu Lisesi</td>\n",
       "      <td>8</td>\n",
       "    </tr>\n",
       "    <tr>\n",
       "      <th>Lise Sehir</th>\n",
       "      <td>64071</td>\n",
       "      <td>888</td>\n",
       "      <td>İstanbul</td>\n",
       "      <td>8868</td>\n",
       "    </tr>\n",
       "    <tr>\n",
       "      <th>Lise Turu</th>\n",
       "      <td>64278</td>\n",
       "      <td>16</td>\n",
       "      <td>Anadolu Lisesi</td>\n",
       "      <td>13367</td>\n",
       "    </tr>\n",
       "    <tr>\n",
       "      <th>Lise Bolumu</th>\n",
       "      <td>64116</td>\n",
       "      <td>887</td>\n",
       "      <td>Sayısal</td>\n",
       "      <td>28980</td>\n",
       "    </tr>\n",
       "    <tr>\n",
       "      <th>Lise Bolum Diger</th>\n",
       "      <td>1526</td>\n",
       "      <td>862</td>\n",
       "      <td>Bilişim Teknolojileri</td>\n",
       "      <td>84</td>\n",
       "    </tr>\n",
       "    <tr>\n",
       "      <th>Lise Mezuniyet Notu</th>\n",
       "      <td>59208</td>\n",
       "      <td>19</td>\n",
       "      <td>75 - 100</td>\n",
       "      <td>22433</td>\n",
       "    </tr>\n",
       "    <tr>\n",
       "      <th>Baska Bir Kurumdan Burs Aliyor mu?</th>\n",
       "      <td>64894</td>\n",
       "      <td>2</td>\n",
       "      <td>Hayır</td>\n",
       "      <td>48513</td>\n",
       "    </tr>\n",
       "    <tr>\n",
       "      <th>Burs Aldigi Baska Kurum</th>\n",
       "      <td>21148</td>\n",
       "      <td>3959</td>\n",
       "      <td>-</td>\n",
       "      <td>4711</td>\n",
       "    </tr>\n",
       "    <tr>\n",
       "      <th>Baska Kurumdan Aldigi Burs Miktari</th>\n",
       "      <td>20963</td>\n",
       "      <td>587</td>\n",
       "      <td>-</td>\n",
       "      <td>4724</td>\n",
       "    </tr>\n",
       "    <tr>\n",
       "      <th>Anne Egitim Durumu</th>\n",
       "      <td>64719</td>\n",
       "      <td>21</td>\n",
       "      <td>İlkokul</td>\n",
       "      <td>10351</td>\n",
       "    </tr>\n",
       "    <tr>\n",
       "      <th>Anne Calisma Durumu</th>\n",
       "      <td>53229</td>\n",
       "      <td>3</td>\n",
       "      <td>Hayır</td>\n",
       "      <td>39371</td>\n",
       "    </tr>\n",
       "    <tr>\n",
       "      <th>Anne Sektor</th>\n",
       "      <td>30588</td>\n",
       "      <td>8</td>\n",
       "      <td>0</td>\n",
       "      <td>11780</td>\n",
       "    </tr>\n",
       "    <tr>\n",
       "      <th>Baba Egitim Durumu</th>\n",
       "      <td>64118</td>\n",
       "      <td>22</td>\n",
       "      <td>Lise</td>\n",
       "      <td>10008</td>\n",
       "    </tr>\n",
       "    <tr>\n",
       "      <th>Baba Calisma Durumu</th>\n",
       "      <td>52507</td>\n",
       "      <td>3</td>\n",
       "      <td>Evet</td>\n",
       "      <td>28559</td>\n",
       "    </tr>\n",
       "    <tr>\n",
       "      <th>Baba Sektor</th>\n",
       "      <td>44747</td>\n",
       "      <td>8</td>\n",
       "      <td>Özel Sektör</td>\n",
       "      <td>11293</td>\n",
       "    </tr>\n",
       "    <tr>\n",
       "      <th>Kardes Sayisi</th>\n",
       "      <td>63993.0</td>\n",
       "      <td>28.0</td>\n",
       "      <td>1.0</td>\n",
       "      <td>16186.0</td>\n",
       "    </tr>\n",
       "    <tr>\n",
       "      <th>Girisimcilik Kulupleri Tarzi Bir Kulube Uye misiniz?</th>\n",
       "      <td>63296</td>\n",
       "      <td>2</td>\n",
       "      <td>Hayır</td>\n",
       "      <td>33710</td>\n",
       "    </tr>\n",
       "    <tr>\n",
       "      <th>Uye Oldugunuz Kulubun Ismi</th>\n",
       "      <td>16434</td>\n",
       "      <td>13423</td>\n",
       "      <td>IEEE</td>\n",
       "      <td>203</td>\n",
       "    </tr>\n",
       "    <tr>\n",
       "      <th>Profesyonel Bir Spor Daliyla Mesgul musunuz?</th>\n",
       "      <td>64010</td>\n",
       "      <td>2</td>\n",
       "      <td>Hayır</td>\n",
       "      <td>42243</td>\n",
       "    </tr>\n",
       "    <tr>\n",
       "      <th>Spor Dalindaki Rolunuz Nedir?</th>\n",
       "      <td>32850</td>\n",
       "      <td>9</td>\n",
       "      <td>0</td>\n",
       "      <td>11315</td>\n",
       "    </tr>\n",
       "    <tr>\n",
       "      <th>Aktif olarak bir STK üyesi misiniz?</th>\n",
       "      <td>52283</td>\n",
       "      <td>2</td>\n",
       "      <td>Hayır</td>\n",
       "      <td>37716</td>\n",
       "    </tr>\n",
       "    <tr>\n",
       "      <th>Hangi STK'nin Uyesisiniz?</th>\n",
       "      <td>15607</td>\n",
       "      <td>9490</td>\n",
       "      <td>-</td>\n",
       "      <td>2956</td>\n",
       "    </tr>\n",
       "    <tr>\n",
       "      <th>Stk Projesine Katildiniz Mi?</th>\n",
       "      <td>36817</td>\n",
       "      <td>2</td>\n",
       "      <td>Hayır</td>\n",
       "      <td>19661</td>\n",
       "    </tr>\n",
       "    <tr>\n",
       "      <th>Girisimcilikle Ilgili Deneyiminiz Var Mi?</th>\n",
       "      <td>52285</td>\n",
       "      <td>2</td>\n",
       "      <td>Hayır</td>\n",
       "      <td>33919</td>\n",
       "    </tr>\n",
       "    <tr>\n",
       "      <th>Girisimcilikle Ilgili Deneyiminizi Aciklayabilir misiniz?</th>\n",
       "      <td>14599</td>\n",
       "      <td>9286</td>\n",
       "      <td>-</td>\n",
       "      <td>5196</td>\n",
       "    </tr>\n",
       "    <tr>\n",
       "      <th>Ingilizce Biliyor musunuz?</th>\n",
       "      <td>58671</td>\n",
       "      <td>2</td>\n",
       "      <td>Evet</td>\n",
       "      <td>48872</td>\n",
       "    </tr>\n",
       "    <tr>\n",
       "      <th>Ingilizce Seviyeniz?</th>\n",
       "      <td>28592</td>\n",
       "      <td>4</td>\n",
       "      <td>Orta</td>\n",
       "      <td>13057</td>\n",
       "    </tr>\n",
       "    <tr>\n",
       "      <th>Daha Önceden Mezun Olunduysa, Mezun Olunan Üniversite</th>\n",
       "      <td>419</td>\n",
       "      <td>168</td>\n",
       "      <td>Anadolu Üniversitesi</td>\n",
       "      <td>26</td>\n",
       "    </tr>\n",
       "  </tbody>\n",
       "</table>\n",
       "</div>"
      ],
      "text/plain": [
       "                                                      count unique  \\\n",
       "Cinsiyet                                              64956      4   \n",
       "Dogum Tarihi                                          64948  13498   \n",
       "Dogum Yeri                                            64334   2230   \n",
       "Ikametgah Sehri                                       63088    319   \n",
       "Universite Adi                                        64993    527   \n",
       "Universite Turu                                       64870      4   \n",
       "Burs Aliyor mu?                                       65125      5   \n",
       "Bölüm                                                 64894   7748   \n",
       "Universite Kacinci Sinif                              64751     12   \n",
       "Universite Not Ortalamasi                             62372     20   \n",
       "Daha Once Baska Bir Universiteden Mezun Olmus         27780      2   \n",
       "Lise Adi                                              64741  31950   \n",
       "Lise Adi Diger                                         4733   4010   \n",
       "Lise Sehir                                            64071    888   \n",
       "Lise Turu                                             64278     16   \n",
       "Lise Bolumu                                           64116    887   \n",
       "Lise Bolum Diger                                       1526    862   \n",
       "Lise Mezuniyet Notu                                   59208     19   \n",
       "Baska Bir Kurumdan Burs Aliyor mu?                    64894      2   \n",
       "Burs Aldigi Baska Kurum                               21148   3959   \n",
       "Baska Kurumdan Aldigi Burs Miktari                    20963    587   \n",
       "Anne Egitim Durumu                                    64719     21   \n",
       "Anne Calisma Durumu                                   53229      3   \n",
       "Anne Sektor                                           30588      8   \n",
       "Baba Egitim Durumu                                    64118     22   \n",
       "Baba Calisma Durumu                                   52507      3   \n",
       "Baba Sektor                                           44747      8   \n",
       "Kardes Sayisi                                       63993.0   28.0   \n",
       "Girisimcilik Kulupleri Tarzi Bir Kulube Uye mis...    63296      2   \n",
       "Uye Oldugunuz Kulubun Ismi                            16434  13423   \n",
       "Profesyonel Bir Spor Daliyla Mesgul musunuz?          64010      2   \n",
       "Spor Dalindaki Rolunuz Nedir?                         32850      9   \n",
       "Aktif olarak bir STK üyesi misiniz?                   52283      2   \n",
       "Hangi STK'nin Uyesisiniz?                             15607   9490   \n",
       "Stk Projesine Katildiniz Mi?                          36817      2   \n",
       "Girisimcilikle Ilgili Deneyiminiz Var Mi?             52285      2   \n",
       "Girisimcilikle Ilgili Deneyiminizi Aciklayabili...    14599   9286   \n",
       "Ingilizce Biliyor musunuz?                            58671      2   \n",
       "Ingilizce Seviyeniz?                                  28592      4   \n",
       "Daha Önceden Mezun Olunduysa, Mezun Olunan Üniv...      419    168   \n",
       "\n",
       "                                                                       top  \\\n",
       "Cinsiyet                                                             Kadın   \n",
       "Dogum Tarihi                                                   1/1/70 2:00   \n",
       "Dogum Yeri                                                        İstanbul   \n",
       "Ikametgah Sehri                                                   İstanbul   \n",
       "Universite Adi                                       İSTANBUL ÜNİVERSİTESİ   \n",
       "Universite Turu                                                     Devlet   \n",
       "Burs Aliyor mu?                                                      Hayır   \n",
       "Bölüm                                                Endüstri Mühendisliği   \n",
       "Universite Kacinci Sinif                                                 2   \n",
       "Universite Not Ortalamasi                                        3.00-2.50   \n",
       "Daha Once Baska Bir Universiteden Mezun Olmus                        Hayır   \n",
       "Lise Adi                                                            ------   \n",
       "Lise Adi Diger                                      Atatürk Anadolu Lisesi   \n",
       "Lise Sehir                                                        İstanbul   \n",
       "Lise Turu                                                   Anadolu Lisesi   \n",
       "Lise Bolumu                                                        Sayısal   \n",
       "Lise Bolum Diger                                     Bilişim Teknolojileri   \n",
       "Lise Mezuniyet Notu                                               75 - 100   \n",
       "Baska Bir Kurumdan Burs Aliyor mu?                                   Hayır   \n",
       "Burs Aldigi Baska Kurum                                                  -   \n",
       "Baska Kurumdan Aldigi Burs Miktari                                       -   \n",
       "Anne Egitim Durumu                                                 İlkokul   \n",
       "Anne Calisma Durumu                                                  Hayır   \n",
       "Anne Sektor                                                              0   \n",
       "Baba Egitim Durumu                                                    Lise   \n",
       "Baba Calisma Durumu                                                   Evet   \n",
       "Baba Sektor                                                    Özel Sektör   \n",
       "Kardes Sayisi                                                          1.0   \n",
       "Girisimcilik Kulupleri Tarzi Bir Kulube Uye mis...                   Hayır   \n",
       "Uye Oldugunuz Kulubun Ismi                                            IEEE   \n",
       "Profesyonel Bir Spor Daliyla Mesgul musunuz?                         Hayır   \n",
       "Spor Dalindaki Rolunuz Nedir?                                            0   \n",
       "Aktif olarak bir STK üyesi misiniz?                                  Hayır   \n",
       "Hangi STK'nin Uyesisiniz?                                                -   \n",
       "Stk Projesine Katildiniz Mi?                                         Hayır   \n",
       "Girisimcilikle Ilgili Deneyiminiz Var Mi?                            Hayır   \n",
       "Girisimcilikle Ilgili Deneyiminizi Aciklayabili...                       -   \n",
       "Ingilizce Biliyor musunuz?                                            Evet   \n",
       "Ingilizce Seviyeniz?                                                  Orta   \n",
       "Daha Önceden Mezun Olunduysa, Mezun Olunan Üniv...    Anadolu Üniversitesi   \n",
       "\n",
       "                                                       freq  \n",
       "Cinsiyet                                              32077  \n",
       "Dogum Tarihi                                           1655  \n",
       "Dogum Yeri                                             8682  \n",
       "Ikametgah Sehri                                       16625  \n",
       "Universite Adi                                         2083  \n",
       "Universite Turu                                       37885  \n",
       "Burs Aliyor mu?                                       51978  \n",
       "Bölüm                                                  2434  \n",
       "Universite Kacinci Sinif                              21773  \n",
       "Universite Not Ortalamasi                             10758  \n",
       "Daha Once Baska Bir Universiteden Mezun Olmus         26624  \n",
       "Lise Adi                                               4251  \n",
       "Lise Adi Diger                                            8  \n",
       "Lise Sehir                                             8868  \n",
       "Lise Turu                                             13367  \n",
       "Lise Bolumu                                           28980  \n",
       "Lise Bolum Diger                                         84  \n",
       "Lise Mezuniyet Notu                                   22433  \n",
       "Baska Bir Kurumdan Burs Aliyor mu?                    48513  \n",
       "Burs Aldigi Baska Kurum                                4711  \n",
       "Baska Kurumdan Aldigi Burs Miktari                     4724  \n",
       "Anne Egitim Durumu                                    10351  \n",
       "Anne Calisma Durumu                                   39371  \n",
       "Anne Sektor                                           11780  \n",
       "Baba Egitim Durumu                                    10008  \n",
       "Baba Calisma Durumu                                   28559  \n",
       "Baba Sektor                                           11293  \n",
       "Kardes Sayisi                                       16186.0  \n",
       "Girisimcilik Kulupleri Tarzi Bir Kulube Uye mis...    33710  \n",
       "Uye Oldugunuz Kulubun Ismi                              203  \n",
       "Profesyonel Bir Spor Daliyla Mesgul musunuz?          42243  \n",
       "Spor Dalindaki Rolunuz Nedir?                         11315  \n",
       "Aktif olarak bir STK üyesi misiniz?                   37716  \n",
       "Hangi STK'nin Uyesisiniz?                              2956  \n",
       "Stk Projesine Katildiniz Mi?                          19661  \n",
       "Girisimcilikle Ilgili Deneyiminiz Var Mi?             33919  \n",
       "Girisimcilikle Ilgili Deneyiminizi Aciklayabili...     5196  \n",
       "Ingilizce Biliyor musunuz?                            48872  \n",
       "Ingilizce Seviyeniz?                                  13057  \n",
       "Daha Önceden Mezun Olunduysa, Mezun Olunan Üniv...       26  "
      ]
     },
     "execution_count": 686,
     "metadata": {},
     "output_type": "execute_result"
    }
   ],
   "source": [
    "train[categoric_cols].describe().T"
   ]
  },
  {
   "cell_type": "code",
   "execution_count": 687,
   "metadata": {},
   "outputs": [
    {
     "data": {
      "text/html": [
       "<div>\n",
       "<style scoped>\n",
       "    .dataframe tbody tr th:only-of-type {\n",
       "        vertical-align: middle;\n",
       "    }\n",
       "\n",
       "    .dataframe tbody tr th {\n",
       "        vertical-align: top;\n",
       "    }\n",
       "\n",
       "    .dataframe thead th {\n",
       "        text-align: right;\n",
       "    }\n",
       "</style>\n",
       "<table border=\"1\" class=\"dataframe\">\n",
       "  <thead>\n",
       "    <tr style=\"text-align: right;\">\n",
       "      <th></th>\n",
       "      <th>count</th>\n",
       "      <th>mean</th>\n",
       "      <th>std</th>\n",
       "      <th>min</th>\n",
       "      <th>25%</th>\n",
       "      <th>50%</th>\n",
       "      <th>75%</th>\n",
       "      <th>max</th>\n",
       "    </tr>\n",
       "  </thead>\n",
       "  <tbody>\n",
       "    <tr>\n",
       "      <th>Basvuru Yili</th>\n",
       "      <td>65125.0</td>\n",
       "      <td>2018.277298</td>\n",
       "      <td>2.669979</td>\n",
       "      <td>2014.0</td>\n",
       "      <td>2016.0</td>\n",
       "      <td>2019.0</td>\n",
       "      <td>2021.0</td>\n",
       "      <td>2022.0</td>\n",
       "    </tr>\n",
       "    <tr>\n",
       "      <th>Burslu ise Burs Yuzdesi</th>\n",
       "      <td>22440.0</td>\n",
       "      <td>34.226181</td>\n",
       "      <td>41.632412</td>\n",
       "      <td>0.0</td>\n",
       "      <td>0.0</td>\n",
       "      <td>0.0</td>\n",
       "      <td>75.0</td>\n",
       "      <td>100.0</td>\n",
       "    </tr>\n",
       "    <tr>\n",
       "      <th>Degerlendirme Puani</th>\n",
       "      <td>65124.0</td>\n",
       "      <td>32.086466</td>\n",
       "      <td>18.139239</td>\n",
       "      <td>0.0</td>\n",
       "      <td>18.0</td>\n",
       "      <td>29.0</td>\n",
       "      <td>44.0</td>\n",
       "      <td>102.0</td>\n",
       "    </tr>\n",
       "  </tbody>\n",
       "</table>\n",
       "</div>"
      ],
      "text/plain": [
       "                           count         mean        std     min     25%  \\\n",
       "Basvuru Yili             65125.0  2018.277298   2.669979  2014.0  2016.0   \n",
       "Burslu ise Burs Yuzdesi  22440.0    34.226181  41.632412     0.0     0.0   \n",
       "Degerlendirme Puani      65124.0    32.086466  18.139239     0.0    18.0   \n",
       "\n",
       "                            50%     75%     max  \n",
       "Basvuru Yili             2019.0  2021.0  2022.0  \n",
       "Burslu ise Burs Yuzdesi     0.0    75.0   100.0  \n",
       "Degerlendirme Puani        29.0    44.0   102.0  "
      ]
     },
     "execution_count": 687,
     "metadata": {},
     "output_type": "execute_result"
    }
   ],
   "source": [
    "train[numeric_cols+[target_col]].describe().T"
   ]
  },
  {
   "cell_type": "markdown",
   "metadata": {},
   "source": [
    "# 2. Veriyi Temizleme"
   ]
  },
  {
   "cell_type": "markdown",
   "metadata": {},
   "source": [
    "## 2.1 Basvuru Yili"
   ]
  },
  {
   "cell_type": "code",
   "execution_count": 688,
   "metadata": {},
   "outputs": [
    {
     "data": {
      "text/plain": [
       "Basvuru Yili    0\n",
       "dtype: int64"
      ]
     },
     "execution_count": 688,
     "metadata": {},
     "output_type": "execute_result"
    }
   ],
   "source": [
    "train[[\"Basvuru Yili\"]].isna().sum()"
   ]
  },
  {
   "cell_type": "code",
   "execution_count": 689,
   "metadata": {},
   "outputs": [
    {
     "data": {
      "text/plain": [
       "dtype('O')"
      ]
     },
     "execution_count": 689,
     "metadata": {},
     "output_type": "execute_result"
    }
   ],
   "source": [
    "train[[\"Basvuru Yili\"]] = train[[\"Basvuru Yili\"]].astype(str)\n",
    "\n",
    "train[\"Basvuru Yili\"].dtype\n",
    "\n",
    "#Label Encoder kullanırız sonra belki bence dataya girmemesi gerekiyor"
   ]
  },
  {
   "cell_type": "markdown",
   "metadata": {},
   "source": [
    "## 2.2 Cinsiyet"
   ]
  },
  {
   "cell_type": "code",
   "execution_count": 690,
   "metadata": {},
   "outputs": [
    {
     "data": {
      "text/plain": [
       "Cinsiyet    169\n",
       "dtype: int64"
      ]
     },
     "execution_count": 690,
     "metadata": {},
     "output_type": "execute_result"
    }
   ],
   "source": [
    "train[[\"Cinsiyet\"]].isna().sum()"
   ]
  },
  {
   "cell_type": "code",
   "execution_count": 691,
   "metadata": {},
   "outputs": [
    {
     "data": {
      "text/plain": [
       "Cinsiyet\n",
       "Kadın                    32077\n",
       "Erkek                    22752\n",
       "ERKEK                    10012\n",
       "Belirtmek istemiyorum      115\n",
       "Name: count, dtype: int64"
      ]
     },
     "execution_count": 691,
     "metadata": {},
     "output_type": "execute_result"
    }
   ],
   "source": [
    "train['Cinsiyet'].value_counts()"
   ]
  },
  {
   "cell_type": "code",
   "execution_count": 692,
   "metadata": {},
   "outputs": [
    {
     "data": {
      "text/plain": [
       "Cinsiyet\n",
       "Erkek                    32764\n",
       "Kadın                    32077\n",
       "Belirtmek istemiyorum      284\n",
       "Name: count, dtype: int64"
      ]
     },
     "execution_count": 692,
     "metadata": {},
     "output_type": "execute_result"
    }
   ],
   "source": [
    "train['Cinsiyet'] = train['Cinsiyet'].str.capitalize()\n",
    "train['Cinsiyet'].fillna('Belirtmek istemiyorum', inplace=True)\n",
    "train['Cinsiyet'].value_counts()\n"
   ]
  },
  {
   "cell_type": "code",
   "execution_count": 693,
   "metadata": {},
   "outputs": [],
   "source": [
    "# One-hot encoding\n",
    "#train = pd.get_dummies(train, columns=['Cinsiyet'], drop_first=True)\n",
    "#train\n",
    "\n",
    "#label encodin"
   ]
  },
  {
   "cell_type": "markdown",
   "metadata": {},
   "source": [
    "## 2.3 Dogum Tarihi - Dogum Yili "
   ]
  },
  {
   "cell_type": "code",
   "execution_count": 694,
   "metadata": {},
   "outputs": [
    {
     "data": {
      "text/plain": [
       "192"
      ]
     },
     "execution_count": 694,
     "metadata": {},
     "output_type": "execute_result"
    }
   ],
   "source": [
    "# Mapping of Turkish month names to English\n",
    "turkish_to_english_months = {\n",
    "    \"Ocak\": \"January\",\n",
    "    \"Şubat\": \"February\",\n",
    "    \"Subat\": \"February\",\n",
    "    \"Mart\": \"March\",\n",
    "    \"Nisan\": \"April\",\n",
    "    \"Mayıs\": \"May\",\n",
    "    \"Mayis\": \"May\",\n",
    "    \"Haziran\": \"June\",\n",
    "    \"Temmuz\": \"July\",\n",
    "    \"Ağustos\": \"August\",\n",
    "    \"Agustos\": \"August\",\n",
    "    \"Eylül\": \"September\",\n",
    "    \"Eylul\": \"September\",\n",
    "    \"Ekim\": \"October\",\n",
    "    \"Kasım\": \"November\",\n",
    "    \"Kasim\": \"November\",\n",
    "    \"Aralık\": \"December\",\n",
    "    \"Aralik\": \"December\"\n",
    "}\n",
    "\n",
    "def normalize_turkish_months(date_str):\n",
    "    for turkish_month, english_month in turkish_to_english_months.items():\n",
    "        date_str = re.sub(r'\\b' + turkish_month + r'\\b', english_month, date_str)\n",
    "    return date_str\n",
    "\n",
    "def extract_year(date_str):\n",
    "    if not isinstance(date_str, str):\n",
    "        return None  # Return None if the input is not a string\n",
    "    try:\n",
    "        # Normalize the date string for Turkish month names\n",
    "        date_str = normalize_turkish_months(date_str)\n",
    "        \n",
    "        # Parse the date string using dateutil.parser\n",
    "        parsed_date = parser.parse(date_str, fuzzy=True, dayfirst=False)\n",
    "        \n",
    "        # Extract the year from the parsed date\n",
    "        return parsed_date.year\n",
    "    except (ValueError, TypeError):\n",
    "        # If parsing fails, try extracting the year directly from the string\n",
    "        year_match = re.search(r'(\\d{4})$', date_str)\n",
    "        if year_match:\n",
    "            return int(year_match.group(1))\n",
    "        return None\n",
    "    \n",
    "\n",
    "\n",
    "train['Dogum Yili'] = train['Dogum Tarihi'].apply(extract_year)\n",
    "train['Dogum Yili'].isnull().sum()\n"
   ]
  },
  {
   "cell_type": "code",
   "execution_count": 695,
   "metadata": {},
   "outputs": [
    {
     "data": {
      "text/plain": [
       "Dogum Yili\n",
       "2000.0    7189\n",
       "1999.0    6690\n",
       "1998.0    6623\n",
       "1995.0    6301\n",
       "1996.0    6158\n",
       "1997.0    6122\n",
       "2001.0    5675\n",
       "1994.0    5398\n",
       "1993.0    4165\n",
       "2002.0    3212\n",
       "1992.0    2585\n",
       "2070.0    1661\n",
       "1991.0    1397\n",
       "2003.0     737\n",
       "1990.0     601\n",
       "1989.0      81\n",
       "1970.0      55\n",
       "1988.0      49\n",
       "1987.0      32\n",
       "2016.0      24\n",
       "2004.0      23\n",
       "1986.0      21\n",
       "2017.0      11\n",
       "2005.0       9\n",
       "2020.0       9\n",
       "199.0        8\n",
       "1984.0       7\n",
       "1985.0       6\n",
       "1197.0       6\n",
       "200.0        5\n",
       "1976.0       5\n",
       "1983.0       5\n",
       "1980.0       4\n",
       "1196.0       4\n",
       "1977.0       3\n",
       "197.0        3\n",
       "1979.0       2\n",
       "996.0        2\n",
       "9691.0       2\n",
       "9951.0       2\n",
       "998.0        2\n",
       "1199.0       2\n",
       "2011.0       2\n",
       "993.0        2\n",
       "1195.0       2\n",
       "2015.0       1\n",
       "7199.0       1\n",
       "328.0        1\n",
       "2006.0       1\n",
       "1204.0       1\n",
       "808.0        1\n",
       "2009.0       1\n",
       "198.0        1\n",
       "989.0        1\n",
       "9941.0       1\n",
       "6123.0       1\n",
       "1929.0       1\n",
       "1198.0       1\n",
       "9590.0       1\n",
       "1155.0       1\n",
       "5778.0       1\n",
       "1194.0       1\n",
       "2996.0       1\n",
       "1896.0       1\n",
       "9916.0       1\n",
       "1888.0       1\n",
       "1982.0       1\n",
       "2021.0       1\n",
       "196.0        1\n",
       "1944.0       1\n",
       "1895.0       1\n",
       "1972.0       1\n",
       "194.0        1\n",
       "1262.0       1\n",
       "1933.0       1\n",
       "1981.0       1\n",
       "Name: count, dtype: int64"
      ]
     },
     "execution_count": 695,
     "metadata": {},
     "output_type": "execute_result"
    }
   ],
   "source": [
    "train['Dogum Yili'].value_counts()"
   ]
  },
  {
   "cell_type": "code",
   "execution_count": 696,
   "metadata": {},
   "outputs": [
    {
     "data": {
      "text/plain": [
       "2033"
      ]
     },
     "execution_count": 696,
     "metadata": {},
     "output_type": "execute_result"
    }
   ],
   "source": [
    "train['Dogum Yili'] = train['Dogum Yili'].apply(lambda x: np.nan if (x > 2005) | (x < 1980) else x)\n",
    "train['Dogum Yili'].isnull().sum()"
   ]
  },
  {
   "cell_type": "code",
   "execution_count": 697,
   "metadata": {},
   "outputs": [
    {
     "data": {
      "text/plain": [
       "Dogum Yili\n",
       "2000.0    7189\n",
       "1999.0    6690\n",
       "1998.0    6623\n",
       "1995.0    6301\n",
       "1996.0    6158\n",
       "1997.0    6122\n",
       "2001.0    5675\n",
       "1994.0    5398\n",
       "1993.0    4165\n",
       "2002.0    3212\n",
       "1992.0    2585\n",
       "1991.0    1397\n",
       "2003.0     737\n",
       "1990.0     601\n",
       "1989.0      81\n",
       "1988.0      49\n",
       "1987.0      32\n",
       "2004.0      23\n",
       "1986.0      21\n",
       "2005.0       9\n",
       "1984.0       7\n",
       "1985.0       6\n",
       "1983.0       5\n",
       "1980.0       4\n",
       "1982.0       1\n",
       "1981.0       1\n",
       "Name: count, dtype: int64"
      ]
     },
     "execution_count": 697,
     "metadata": {},
     "output_type": "execute_result"
    }
   ],
   "source": [
    "train['Dogum Yili'].value_counts()"
   ]
  },
  {
   "cell_type": "markdown",
   "metadata": {},
   "source": [
    "## 2.4 Basvuru Yasi"
   ]
  },
  {
   "cell_type": "code",
   "execution_count": 698,
   "metadata": {},
   "outputs": [
    {
     "data": {
      "text/plain": [
       "Basvuru Yasi\n",
       "21.0    15764\n",
       "20.0    15046\n",
       "22.0    12487\n",
       "19.0     8085\n",
       "23.0     7134\n",
       "24.0     3073\n",
       "25.0      781\n",
       "18.0      394\n",
       "26.0      117\n",
       "17.0       58\n",
       "27.0       56\n",
       "28.0       35\n",
       "30.0       20\n",
       "29.0       13\n",
       "31.0        8\n",
       "34.0        7\n",
       "32.0        3\n",
       "33.0        3\n",
       "16.0        2\n",
       "35.0        2\n",
       "14.0        1\n",
       "11.0        1\n",
       "36.0        1\n",
       "40.0        1\n",
       "Name: count, dtype: int64"
      ]
     },
     "execution_count": 698,
     "metadata": {},
     "output_type": "execute_result"
    }
   ],
   "source": [
    "train['Basvuru Yasi'] = train['Basvuru Yili'].astype(float) - train['Dogum Yili']\n",
    "train['Basvuru Yasi'].value_counts()"
   ]
  },
  {
   "cell_type": "code",
   "execution_count": 699,
   "metadata": {},
   "outputs": [
    {
     "data": {
      "text/plain": [
       "2033"
      ]
     },
     "execution_count": 699,
     "metadata": {},
     "output_type": "execute_result"
    }
   ],
   "source": [
    "train['Basvuru Yasi'].isnull().sum()"
   ]
  },
  {
   "cell_type": "markdown",
   "metadata": {},
   "source": [
    "## 2.5 Dogum Yeri, Ikametgah Sehri, Lise Sehir"
   ]
  },
  {
   "cell_type": "code",
   "execution_count": 700,
   "metadata": {},
   "outputs": [
    {
     "name": "stdout",
     "output_type": "stream",
     "text": [
      "Dogum Yeri none veri sayisi : 791\n"
     ]
    }
   ],
   "source": [
    "print(f\"Dogum Yeri none veri sayisi : {train[\"Dogum Yeri\"].isna().sum()}\")"
   ]
  },
  {
   "cell_type": "code",
   "execution_count": 701,
   "metadata": {},
   "outputs": [
    {
     "data": {
      "text/plain": [
       "Dogum Yeri\n",
       "İstanbul             8682\n",
       "Ankara               4045\n",
       "İzmir                2170\n",
       "Istanbul             1894\n",
       "Adana                1810\n",
       "                     ... \n",
       "körfez/kocaeli          1\n",
       "GEDIZ                   1\n",
       "İstanbul Bakırköy       1\n",
       "İstanbul-Şişli          1\n",
       "Ankara keçiören         1\n",
       "Name: count, Length: 2230, dtype: int64"
      ]
     },
     "execution_count": 701,
     "metadata": {},
     "output_type": "execute_result"
    }
   ],
   "source": [
    "train[\"Dogum Yeri\"].value_counts()"
   ]
  },
  {
   "cell_type": "code",
   "execution_count": 702,
   "metadata": {},
   "outputs": [
    {
     "name": "stdout",
     "output_type": "stream",
     "text": [
      "Dogum Yeri none veri sayisi önceki : 791\n",
      "Dogum Yeri none veri sayisi : 3267\n",
      "Dogum Yeri\n",
      "Istanbul    11072\n",
      "Ankara       4275\n",
      "Izmir        2894\n",
      "Bursa        1931\n",
      "Adana        1914\n",
      "Name: count, dtype: int64\n",
      "Ikametgah Sehri none veri sayisi önceki : 2037\n",
      "Ikametgah Sehri none veri sayisi : 2423\n",
      "Ikametgah Sehri\n",
      "Istanbul    20228\n",
      "Ankara       6602\n",
      "Izmir        3893\n",
      "Bursa        1794\n",
      "Kocaeli      1472\n",
      "Name: count, dtype: int64\n",
      "Lise Sehir none veri sayisi önceki : 1054\n",
      "Lise Sehir none veri sayisi : 1845\n",
      "Lise Sehir\n",
      "Istanbul    13342\n",
      "Ankara       5165\n",
      "Izmir        3470\n",
      "Bursa        2360\n",
      "Adana        1917\n",
      "Name: count, dtype: int64\n"
     ]
    }
   ],
   "source": [
    "def normalize_turkish_with_unicode(text):\n",
    "\n",
    "    if text ==\"nan\" or text=='np.nan' or text == 'none':\n",
    "        return np.nan  # Keep np.nan as it is\n",
    "    # Normalize the text to decompose combined characters (NFKD form)\n",
    "    normalized_text = unicodedata.normalize('NFKD', text)\n",
    "    \n",
    "    # Remove diacritical marks (characters with combining marks)\n",
    "    ascii_text = ''.join(c for c in normalized_text if not unicodedata.combining(c))\n",
    "    \n",
    "    # Additional replacements for Turkish-specific characters\n",
    "    turkish_to_ascii = {\n",
    "        'ç': 'c', 'Ç': 'C',\n",
    "        'ğ': 'g', 'Ğ': 'G',\n",
    "        'ı': 'i', 'İ': 'i',\n",
    "        'ö': 'o', 'Ö': 'O',\n",
    "        'ş': 's', 'Ş': 'S',\n",
    "        'ü': 'u', 'Ü': 'U'\n",
    "    }\n",
    "    \n",
    "    # Replace Turkish characters with ASCII equivalents\n",
    "    ascii_text = ''.join(turkish_to_ascii.get(c, c) for c in ascii_text)\n",
    "    \n",
    "    return ascii_text.lower()\n",
    "\n",
    "def temizle_sehir(sehir):\n",
    "    if pd.isna(sehir):\n",
    "        return None\n",
    "    if isinstance(sehir, str):\n",
    "        sehir = sehir.lower()\n",
    "        sehir = sehir.strip()\n",
    "\n",
    "        for il in sehirler:\n",
    "            if il.lower() in sehir:\n",
    "                return il.capitalize()\n",
    "    return None\n",
    "\n",
    "sehirler = [\n",
    "    \"Adana\", \"Adıyaman\", \"Afyonkarahisar\", \"Ağrı\", \"Aksaray\", \"Amasya\", \"Ankara\", \"Antalya\",\n",
    "    \"Ardahan\", \"Artvin\", \"Aydın\", \"Balıkesir\", \"Bartın\", \"Batman\", \"Bayburt\", \"Bilecik\", \"Bingöl\",\n",
    "    \"Bitlis\", \"Bolu\", \"Burdur\", \"Bursa\", \"Çanakkale\", \"Çankırı\", \"Çorum\", \"Denizli\", \"Diyarbakır\",\n",
    "    \"Düzce\", \"Edirne\", \"Elazığ\", \"Erzincan\", \"Erzurum\", \"Eskişehir\", \"Gaziantep\", \"Giresun\", \"Gümüşhane\",\n",
    "    \"Hakkari\", \"Hatay\", \"Iğdır\", \"Isparta\", \"İstanbul\", \"İzmir\", \"Kahramanmaraş\", \"Karabük\", \"Karaman\",\n",
    "    \"Kars\", \"Kastamonu\", \"Kayseri\", \"Kilis\", \"Kırıkkale\", \"Kırklareli\", \"Kırşehir\", \"Kocaeli\", \"Konya\",\n",
    "    \"Kütahya\", \"Malatya\", \"Manisa\", \"Mardin\", \"Mersin\", \"Muğla\", \"Muş\", \"Nevşehir\", \"Niğde\", \"Ordu\",\n",
    "    \"Osmaniye\", \"Rize\", \"Sakarya\", \"Samsun\", \"Siirt\", \"Sinop\", \"Sivas\", \"Şanlıurfa\", \"Şırnak\", \"Tekirdağ\",\n",
    "    \"Tokat\", \"Trabzon\", \"Tunceli\", \"Uşak\", \"Van\", \"Yalova\", \"Yozgat\", \"Zonguldak\"\n",
    "]\n",
    "\n",
    "sehirler = list(map(normalize_turkish_with_unicode,sehirler))\n",
    "\n",
    "sehir_col_list = [\"Dogum Yeri\", \"Ikametgah Sehri\", \"Lise Sehir\"]\n",
    "\n",
    "for col in sehir_col_list:\n",
    "\n",
    "    print(f\"{col} none veri sayisi önceki : {train[col].isna().sum()}\")\n",
    "    train[col] = train[col].astype(str).apply(normalize_turkish_with_unicode)\n",
    "\n",
    "    train[col] = train[col].apply(temizle_sehir)\n",
    "\n",
    "    print(f\"{col} none veri sayisi : {train[col].isna().sum()}\")\n",
    "\n",
    "    print(train[col].value_counts().head())"
   ]
  },
  {
   "cell_type": "markdown",
   "metadata": {},
   "source": [
    "## 2.7 Universite Adi"
   ]
  },
  {
   "cell_type": "code",
   "execution_count": 703,
   "metadata": {},
   "outputs": [
    {
     "name": "stdout",
     "output_type": "stream",
     "text": [
      "Universite Adi none veri sayisi : 132\n"
     ]
    }
   ],
   "source": [
    "print(f\"Universite Adi none veri sayisi : {train[\"Universite Adi\"].isna().sum()}\")"
   ]
  },
  {
   "cell_type": "code",
   "execution_count": 704,
   "metadata": {},
   "outputs": [
    {
     "name": "stdout",
     "output_type": "stream",
     "text": [
      "Universite Adi none veri sayisi : 132\n",
      "Universite Adi nunique veri sayisi : 291\n",
      "Universite Adi\n",
      "istanbul universitesi            2572\n",
      "marmara universitesi             2084\n",
      "istanbul teknik universitesi     1954\n",
      "yildiz teknik universitesi       1916\n",
      "orta dogu teknik universitesi    1658\n",
      "Name: count, dtype: int64\n"
     ]
    }
   ],
   "source": [
    "train['Universite Adi'] = train['Universite Adi'].astype(str).apply(normalize_turkish_with_unicode)\n",
    "\n",
    "\n",
    "print(f\"Universite Adi none veri sayisi : {train[\"Universite Adi\"].isna().sum()}\")\n",
    "\n",
    "print(f\"Universite Adi nunique veri sayisi : {train['Universite Adi'].value_counts().shape[0]}\")\n",
    "\n",
    "print(train[\"Universite Adi\"].value_counts().head())"
   ]
  },
  {
   "cell_type": "markdown",
   "metadata": {},
   "source": [
    "## 2.8 Universite Turu\n",
    "\n",
    "Baktım uni türü nan olanların cogunun unisinin adı var ama data az çok önemli değil"
   ]
  },
  {
   "cell_type": "code",
   "execution_count": 705,
   "metadata": {},
   "outputs": [
    {
     "name": "stdout",
     "output_type": "stream",
     "text": [
      "Universite Turu none veri sayisi : 255\n"
     ]
    },
    {
     "data": {
      "text/plain": [
       "Universite Turu\n",
       "Devlet    37885\n",
       "DEVLET    15377\n",
       "Özel       8336\n",
       "ÖZEL       3272\n",
       "Name: count, dtype: int64"
      ]
     },
     "execution_count": 705,
     "metadata": {},
     "output_type": "execute_result"
    }
   ],
   "source": [
    "print(f\"Universite Turu none veri sayisi : {train[\"Universite Turu\"].isna().sum()}\")\n",
    "train['Universite Turu'].value_counts()"
   ]
  },
  {
   "cell_type": "code",
   "execution_count": 706,
   "metadata": {},
   "outputs": [
    {
     "name": "stdout",
     "output_type": "stream",
     "text": [
      "Universite Turu none veri sayisi : 0\n"
     ]
    },
    {
     "data": {
      "text/plain": [
       "Universite Turu\n",
       "Devlet    53517\n",
       "Özel      11608\n",
       "Name: count, dtype: int64"
      ]
     },
     "execution_count": 706,
     "metadata": {},
     "output_type": "execute_result"
    }
   ],
   "source": [
    "train['Universite Turu'].fillna(\"Devlet\", inplace=True)\n",
    "\n",
    "train['Universite Turu'] = train['Universite Turu'].str.capitalize()\n",
    "\n",
    "print(f\"Universite Turu none veri sayisi : {train[\"Universite Turu\"].isna().sum()}\")\n",
    "train['Universite Turu'].value_counts() "
   ]
  },
  {
   "cell_type": "markdown",
   "metadata": {},
   "source": [
    "## 2.9 Baska Bir Kurumdan Burs Aliyor mu? , Burslu ise Burs Yuzdesi\n",
    "\n",
    "Burs yüzdesini çok random çok nan var bu direk drop."
   ]
  },
  {
   "cell_type": "code",
   "execution_count": 707,
   "metadata": {},
   "outputs": [
    {
     "name": "stdout",
     "output_type": "stream",
     "text": [
      "Baska Bir Kurumdan Burs Aliyor mu? none veri sayisi : 231\n"
     ]
    },
    {
     "data": {
      "text/plain": [
       "Baska Bir Kurumdan Burs Aliyor mu?\n",
       "Hayır    48513\n",
       "Evet     16381\n",
       "Name: count, dtype: int64"
      ]
     },
     "execution_count": 707,
     "metadata": {},
     "output_type": "execute_result"
    }
   ],
   "source": [
    "print(f\"Baska Bir Kurumdan Burs Aliyor mu? none veri sayisi : {train['Baska Bir Kurumdan Burs Aliyor mu?'].isna().sum()}\")\n",
    "train['Baska Bir Kurumdan Burs Aliyor mu?'].value_counts().head(10)"
   ]
  },
  {
   "cell_type": "code",
   "execution_count": 708,
   "metadata": {},
   "outputs": [
    {
     "name": "stdout",
     "output_type": "stream",
     "text": [
      "urslu ise Burs Yuzdesi none veri sayisi : 42685\n"
     ]
    },
    {
     "data": {
      "text/plain": [
       "Burslu ise Burs Yuzdesi\n",
       "0.0      12172\n",
       "100.0     5049\n",
       "50.0      3149\n",
       "75.0      1002\n",
       "25.0       785\n",
       "10.0        50\n",
       "60.0        27\n",
       "1.0         26\n",
       "65.0        17\n",
       "80.0        15\n",
       "Name: count, dtype: int64"
      ]
     },
     "execution_count": 708,
     "metadata": {},
     "output_type": "execute_result"
    }
   ],
   "source": [
    "print(f\"urslu ise Burs Yuzdesi none veri sayisi : {train[\"Burslu ise Burs Yuzdesi\"].isna().sum()}\")\n",
    "train['Burslu ise Burs Yuzdesi'].value_counts().head(10)"
   ]
  },
  {
   "cell_type": "code",
   "execution_count": 709,
   "metadata": {},
   "outputs": [
    {
     "data": {
      "text/html": [
       "<div>\n",
       "<style scoped>\n",
       "    .dataframe tbody tr th:only-of-type {\n",
       "        vertical-align: middle;\n",
       "    }\n",
       "\n",
       "    .dataframe tbody tr th {\n",
       "        vertical-align: top;\n",
       "    }\n",
       "\n",
       "    .dataframe thead th {\n",
       "        text-align: right;\n",
       "    }\n",
       "</style>\n",
       "<table border=\"1\" class=\"dataframe\">\n",
       "  <thead>\n",
       "    <tr style=\"text-align: right;\">\n",
       "      <th></th>\n",
       "      <th>Baska Bir Kurumdan Burs Aliyor mu?</th>\n",
       "      <th>ortalama_burs</th>\n",
       "    </tr>\n",
       "  </thead>\n",
       "  <tbody>\n",
       "    <tr>\n",
       "      <th>0</th>\n",
       "      <td>Evet</td>\n",
       "      <td>60.538128</td>\n",
       "    </tr>\n",
       "    <tr>\n",
       "      <th>1</th>\n",
       "      <td>Hayır</td>\n",
       "      <td>28.563572</td>\n",
       "    </tr>\n",
       "  </tbody>\n",
       "</table>\n",
       "</div>"
      ],
      "text/plain": [
       "  Baska Bir Kurumdan Burs Aliyor mu?  ortalama_burs\n",
       "0                               Evet      60.538128\n",
       "1                              Hayır      28.563572"
      ]
     },
     "execution_count": 709,
     "metadata": {},
     "output_type": "execute_result"
    }
   ],
   "source": [
    "train.groupby(['Baska Bir Kurumdan Burs Aliyor mu?']).agg(ortalama_burs=('Burslu ise Burs Yuzdesi', 'mean')).reset_index()"
   ]
  },
  {
   "cell_type": "code",
   "execution_count": 710,
   "metadata": {},
   "outputs": [
    {
     "data": {
      "text/plain": [
       "Burslu ise Burs Yuzdesi\n",
       "0.0      11074\n",
       "100.0     3125\n",
       "50.0      2615\n",
       "75.0       792\n",
       "25.0       675\n",
       "60.0        26\n",
       "10.0        25\n",
       "1.0         15\n",
       "80.0        13\n",
       "5.0         13\n",
       "Name: count, dtype: int64"
      ]
     },
     "execution_count": 710,
     "metadata": {},
     "output_type": "execute_result"
    }
   ],
   "source": [
    "train.loc[train['Baska Bir Kurumdan Burs Aliyor mu?']==\"Hayır\"]['Burslu ise Burs Yuzdesi'].value_counts().head(10)\n",
    "\n"
   ]
  },
  {
   "cell_type": "code",
   "execution_count": 711,
   "metadata": {},
   "outputs": [
    {
     "data": {
      "text/plain": [
       "30030"
      ]
     },
     "execution_count": 711,
     "metadata": {},
     "output_type": "execute_result"
    }
   ],
   "source": [
    "train.loc[train['Baska Bir Kurumdan Burs Aliyor mu?']==\"Hayır\"]['Burslu ise Burs Yuzdesi'].isna().sum()"
   ]
  },
  {
   "cell_type": "code",
   "execution_count": 712,
   "metadata": {},
   "outputs": [
    {
     "data": {
      "text/plain": [
       "Burslu ise Burs Yuzdesi\n",
       "100.0    1906\n",
       "0.0      1098\n",
       "50.0      519\n",
       "75.0      208\n",
       "25.0      109\n",
       "10.0       25\n",
       "1.0        11\n",
       "65.0        5\n",
       "45.0        4\n",
       "55.0        3\n",
       "Name: count, dtype: int64"
      ]
     },
     "execution_count": 712,
     "metadata": {},
     "output_type": "execute_result"
    }
   ],
   "source": [
    "train.loc[train['Baska Bir Kurumdan Burs Aliyor mu?']==\"Evet\"]['Burslu ise Burs Yuzdesi'].value_counts().head(10)"
   ]
  },
  {
   "cell_type": "code",
   "execution_count": 713,
   "metadata": {},
   "outputs": [
    {
     "data": {
      "text/plain": [
       "12460"
      ]
     },
     "execution_count": 713,
     "metadata": {},
     "output_type": "execute_result"
    }
   ],
   "source": [
    "train.loc[train['Baska Bir Kurumdan Burs Aliyor mu?']==\"Evet\"]['Burslu ise Burs Yuzdesi'].isna().sum()"
   ]
  },
  {
   "cell_type": "code",
   "execution_count": 714,
   "metadata": {},
   "outputs": [
    {
     "data": {
      "text/plain": [
       "Baska Bir Kurumdan Burs Aliyor mu?\n",
       "Hayır    48744\n",
       "Evet     16381\n",
       "Name: count, dtype: int64"
      ]
     },
     "execution_count": 714,
     "metadata": {},
     "output_type": "execute_result"
    }
   ],
   "source": [
    "train['Baska Bir Kurumdan Burs Aliyor mu?'].fillna(\"Hayır\", inplace=True)\n",
    "train['Baska Bir Kurumdan Burs Aliyor mu?'].value_counts().head(10)"
   ]
  },
  {
   "cell_type": "markdown",
   "metadata": {},
   "source": [
    "## 2.10 Bölüm"
   ]
  },
  {
   "cell_type": "code",
   "execution_count": 715,
   "metadata": {},
   "outputs": [
    {
     "name": "stdout",
     "output_type": "stream",
     "text": [
      "Bölüm none veri sayisi : 231\n"
     ]
    }
   ],
   "source": [
    "print(f\"Bölüm none veri sayisi : {train[\"Bölüm\"].isna().sum()}\")"
   ]
  },
  {
   "cell_type": "code",
   "execution_count": 716,
   "metadata": {},
   "outputs": [
    {
     "name": "stdout",
     "output_type": "stream",
     "text": [
      "Bölüm none veri sayisi : 231\n",
      "Bölüm nunique veri sayisi : 5244\n",
      "Bölüm\n",
      "isletme                                     2913\n",
      "endustri muhendisligi                       2835\n",
      "bilgisayar muhendisligi                     2245\n",
      "hukuk                                       2007\n",
      "makine muhendisligi                         1552\n",
      "iktisat                                     1529\n",
      "tip                                         1334\n",
      "insaat muhendisligi                         1206\n",
      "uluslararasi iliskiler                       974\n",
      "elektrik-elektronik muhendisligi             957\n",
      "diger                                        957\n",
      "elektrik elektronik muhendisligi             830\n",
      "mimarlik                                     826\n",
      "hemsirelik                                   804\n",
      "psikoloji                                    758\n",
      "siyaset bilimi ve kamu yonetimi              715\n",
      "ilahiyat                                     601\n",
      "maliye                                       596\n",
      "sosyoloji                                    586\n",
      "eczacilik                                    567\n",
      "dis hekimligi                                561\n",
      "yonetim bilisim sistemleri                   471\n",
      "rehberlik ve psikolojik danismanlik          469\n",
      "matematik                                    460\n",
      "siyaset bilimi ve uluslararasi iliskiler     458\n",
      "Name: count, dtype: int64\n"
     ]
    }
   ],
   "source": [
    "train['Bölüm'] = train['Bölüm'].astype(str).apply(normalize_turkish_with_unicode)\n",
    "\n",
    "\n",
    "print(f\"Bölüm none veri sayisi : {train[\"Bölüm\"].isna().sum()}\")\n",
    "\n",
    "print(f\"Bölüm nunique veri sayisi : {train['Bölüm'].value_counts().shape[0]}\")\n",
    "\n",
    "print(train[\"Bölüm\"].value_counts().head(25))"
   ]
  },
  {
   "cell_type": "code",
   "execution_count": 717,
   "metadata": {},
   "outputs": [
    {
     "name": "stdout",
     "output_type": "stream",
     "text": [
      "Bölüm\n",
      "endustri                           4368\n",
      "elektronik                         3164\n",
      "isletme                            2913\n",
      "bilgisayar muhendisligi            2773\n",
      "makine                             2165\n",
      "hukuk                              2007\n",
      "insaat                             1605\n",
      "iktisat                            1529\n",
      "tip                                1334\n",
      "uluslararasi iliskiler              974\n",
      "diger                               957\n",
      "mimarlik                            826\n",
      "hemsirelik                          804\n",
      "psikoloji                           758\n",
      "siyaset bilimi ve kamu yonetimi     715\n",
      "ilahiyat                            601\n",
      "maliye                              596\n",
      "sosyoloji                           586\n",
      "mekatronik                          578\n",
      "eczacilik                           567\n",
      "dis hekimligi                       561\n",
      "gida                                503\n",
      "cevre                               490\n",
      "metalurji                           472\n",
      "yonetim bilisim sistemleri          471\n",
      "Name: count, dtype: int64\n"
     ]
    }
   ],
   "source": [
    "def temizle_bolum(bolum):\n",
    "    if pd.isna(bolum):\n",
    "        return None\n",
    "    if isinstance(bolum, str):\n",
    "        bolum = bolum.lower()\n",
    "        bolum = bolum.strip()\n",
    "\n",
    "        for bolum_i in bolumler:\n",
    "            if bolum_i.lower() in bolum:\n",
    "                return bolum_i.lower()\n",
    "    return bolum\n",
    "\n",
    "bolumler = [\n",
    "    \"makine\", \"endustri\", \"elektronik\",\"insaat\",\"mekatronik\",\"metalurji\",\"cevre\",\"petrol\",\"maden\",\"gida\",\"ucak\",\n",
    "    \"Uzay\",\"robotik\",\"otomotiv\",\"tekstil\",\"bilgisayar muhendisligi\",\"yazilim\"\n",
    "    ]\n",
    "\n",
    "train['Bölüm'] = train['Bölüm'].str.replace('-', '').str.strip()\n",
    "train[\"Bölüm\"] = train[\"Bölüm\"].apply(temizle_bolum)\n",
    "print(train[\"Bölüm\"].value_counts().head(25).tail(25))"
   ]
  },
  {
   "cell_type": "markdown",
   "metadata": {},
   "source": [
    "## 2.11 Universite Kacinci Sinif"
   ]
  },
  {
   "cell_type": "code",
   "execution_count": 718,
   "metadata": {},
   "outputs": [
    {
     "name": "stdout",
     "output_type": "stream",
     "text": [
      "Universite Kacinci Sinif none veri sayisi : 374\n"
     ]
    }
   ],
   "source": [
    "print(f\"Universite Kacinci Sinif none veri sayisi : {train[\"Universite Kacinci Sinif\"].isna().sum()}\")"
   ]
  },
  {
   "cell_type": "code",
   "execution_count": 719,
   "metadata": {},
   "outputs": [
    {
     "data": {
      "text/plain": [
       "Universite Kacinci Sinif\n",
       "2                21773\n",
       "3                16956\n",
       "4                13113\n",
       "1                10260\n",
       "hazirlik          1308\n",
       "5                  961\n",
       "mezun              178\n",
       "6                  177\n",
       "yuksek lisans       15\n",
       "tez                  7\n",
       "0                    3\n",
       "Name: count, dtype: int64"
      ]
     },
     "execution_count": 719,
     "metadata": {},
     "output_type": "execute_result"
    }
   ],
   "source": [
    "train[\"Universite Kacinci Sinif\"] = train[\"Universite Kacinci Sinif\"].astype(str).apply(normalize_turkish_with_unicode)\n",
    "\n",
    "train[\"Universite Kacinci Sinif\"].value_counts()"
   ]
  },
  {
   "cell_type": "code",
   "execution_count": 720,
   "metadata": {},
   "outputs": [],
   "source": [
    "uni_sinif_mapping = {'1': 1, '2': 2, '3': 3,'4': 4, '5': 5,'6':5,'yuksek lisans':7,'tez':7,'mezun':6,\"hazirlik\":0, \"0\":0}"
   ]
  },
  {
   "cell_type": "code",
   "execution_count": 721,
   "metadata": {},
   "outputs": [],
   "source": [
    "train['Universite Kacinci Sinif'] = train['Universite Kacinci Sinif'].map(uni_sinif_mapping)"
   ]
  },
  {
   "cell_type": "code",
   "execution_count": 722,
   "metadata": {},
   "outputs": [
    {
     "data": {
      "text/plain": [
       "Universite Kacinci Sinif\n",
       "2.0    21773\n",
       "3.0    16956\n",
       "4.0    13113\n",
       "1.0    10260\n",
       "0.0     1311\n",
       "5.0     1138\n",
       "6.0      178\n",
       "7.0       22\n",
       "Name: count, dtype: int64"
      ]
     },
     "execution_count": 722,
     "metadata": {},
     "output_type": "execute_result"
    }
   ],
   "source": [
    "train['Universite Kacinci Sinif'].value_counts()"
   ]
  },
  {
   "cell_type": "markdown",
   "metadata": {},
   "source": [
    "## 2.12 Universite Not Ortalamasi"
   ]
  },
  {
   "cell_type": "code",
   "execution_count": 723,
   "metadata": {},
   "outputs": [
    {
     "name": "stdout",
     "output_type": "stream",
     "text": [
      "Universite Not Ortalamasi none veri sayisi : 2753\n"
     ]
    },
    {
     "data": {
      "text/plain": [
       "Universite Not Ortalamasi\n",
       "3.00-2.50              10758\n",
       "2.50 ve altı           10554\n",
       "3.00 - 3.50             7913\n",
       "3.50-3                  6179\n",
       "2.50 - 3.00             5782\n",
       "3.50 - 4.00             4462\n",
       "2.00 - 2.50             2519\n",
       "2.50 - 2.99             2452\n",
       "ORTALAMA BULUNMUYOR     2399\n",
       "3.00 - 3.49             2382\n",
       "2.50 -3.00              1734\n",
       "3.00 - 4.00             1411\n",
       "1.80 - 2.49             1166\n",
       "Hazırlığım               668\n",
       "Not ortalaması yok       586\n",
       "4-3.5                    481\n",
       "Ortalama bulunmuyor      413\n",
       "1.00 - 2.50              327\n",
       "0 - 1.79                 185\n",
       "4.0-3.5                    1\n",
       "Name: count, dtype: int64"
      ]
     },
     "execution_count": 723,
     "metadata": {},
     "output_type": "execute_result"
    }
   ],
   "source": [
    "print(f\"Universite Not Ortalamasi none veri sayisi : {train[\"Universite Not Ortalamasi\"].isna().sum()}\")\n",
    "\n",
    "train[\"Universite Not Ortalamasi\"].value_counts()"
   ]
  },
  {
   "cell_type": "code",
   "execution_count": 724,
   "metadata": {},
   "outputs": [],
   "source": [
    "uni_not_mapping = {'ORTALAMA BULUNMUYOR': 0, 'Not ortalaması yok': 0, 'Hazırlığım': 0,'Ortalama bulunmuyor': 0,\n",
    "                      \"0 - 1.79\": 1,\n",
    "                      \"1.00 - 2.50\":2,\"1.80 - 2.49\":2,\"2.50 ve altı\":2,\"2.00 - 2.50\":2,\n",
    "                      \"3.00-2.50\":3,\"2.50 -3.00\":3,\"2.50 - 2.99\":3,\"2.50 - 3.00\":3,\n",
    "                      \"3.00 - 3.50\":4,\"3.00 - 4.00\":4,\"3.00 - 3.49\":4,\"3.50-3\":4,\n",
    "                      \"4-3.5\":5,\"4-3.5\":5,\"3.50 - 4.00\":5,\"4.0-3.5\":5}\n",
    "\n",
    "train['Universite Not Ortalamasi'] = train['Universite Not Ortalamasi'].map(uni_not_mapping)"
   ]
  },
  {
   "cell_type": "code",
   "execution_count": 725,
   "metadata": {},
   "outputs": [
    {
     "name": "stdout",
     "output_type": "stream",
     "text": [
      "Universite Not Ortalamasi none veri sayisi : 2753\n"
     ]
    },
    {
     "data": {
      "text/plain": [
       "Universite Not Ortalamasi\n",
       "3.0    20726\n",
       "4.0    17885\n",
       "2.0    14566\n",
       "5.0     4944\n",
       "0.0     4066\n",
       "1.0      185\n",
       "Name: count, dtype: int64"
      ]
     },
     "execution_count": 725,
     "metadata": {},
     "output_type": "execute_result"
    }
   ],
   "source": [
    "print(f\"Universite Not Ortalamasi none veri sayisi : {train[\"Universite Not Ortalamasi\"].isna().sum()}\")\n",
    "train[\"Universite Not Ortalamasi\"].value_counts()"
   ]
  },
  {
   "cell_type": "markdown",
   "metadata": {},
   "source": [
    "## 2.13 Daha Once Baska Bir Universiteden Mezun Olmus"
   ]
  },
  {
   "cell_type": "code",
   "execution_count": 726,
   "metadata": {},
   "outputs": [
    {
     "name": "stdout",
     "output_type": "stream",
     "text": [
      "Daha Once Baska Bir Universiteden Mezun Olmus none veri sayisi : 37345\n"
     ]
    },
    {
     "data": {
      "text/plain": [
       "Daha Once Baska Bir Universiteden Mezun Olmus\n",
       "Hayır    26624\n",
       "Evet      1156\n",
       "Name: count, dtype: int64"
      ]
     },
     "execution_count": 726,
     "metadata": {},
     "output_type": "execute_result"
    }
   ],
   "source": [
    "print(f\"Daha Once Baska Bir Universiteden Mezun Olmus none veri sayisi : {train[\"Daha Once Baska Bir Universiteden Mezun Olmus\"].isna().sum()}\")\n",
    "train[\"Daha Once Baska Bir Universiteden Mezun Olmus\"].value_counts()"
   ]
  },
  {
   "cell_type": "code",
   "execution_count": 727,
   "metadata": {},
   "outputs": [
    {
     "data": {
      "text/plain": [
       "Daha Once Baska Bir Universiteden Mezun Olmus\n",
       "Hayır    63969\n",
       "Evet      1156\n",
       "Name: count, dtype: int64"
      ]
     },
     "execution_count": 727,
     "metadata": {},
     "output_type": "execute_result"
    }
   ],
   "source": [
    "train[\"Daha Once Baska Bir Universiteden Mezun Olmus\"].fillna('Hayır', inplace=True)\n",
    "train[\"Daha Once Baska Bir Universiteden Mezun Olmus\"].value_counts()"
   ]
  },
  {
   "cell_type": "markdown",
   "metadata": {},
   "source": [
    "## 2.14 Lise Adi Diger, Lise Turu"
   ]
  },
  {
   "cell_type": "code",
   "execution_count": 728,
   "metadata": {},
   "outputs": [
    {
     "name": "stdout",
     "output_type": "stream",
     "text": [
      "Lise Adi none veri sayisi : 384\n"
     ]
    },
    {
     "data": {
      "text/plain": [
       "Lise Adi\n",
       "------                                                                             4251\n",
       "Atatürk Lisesi                                                                      199\n",
       "Açık öğretim lisesi                                                                 161\n",
       "Açık Öğretim Lisesi                                                                 151\n",
       "Cumhuriyet Anadolu Lisesi                                                           146\n",
       "                                                                                   ... \n",
       "Nişantaşı Işık Lisesi                                                                 1\n",
       "Tarsus atatürk lisesi                                                                 1\n",
       "Hüsniye Özdilek Ticaret ve İletişim Anadolu Lisesi (Radyo ve Televizyon Bölümü)       1\n",
       "Ses okulları                                                                          1\n",
       "Samsun Terme Karadeniz mesleki teknik Anadolu lisesi                                  1\n",
       "Name: count, Length: 31950, dtype: int64"
      ]
     },
     "execution_count": 728,
     "metadata": {},
     "output_type": "execute_result"
    }
   ],
   "source": [
    "print(f\"Lise Adi none veri sayisi : {train[\"Lise Adi\"].isna().sum()}\")\n",
    "train[\"Lise Adi\"].value_counts()"
   ]
  },
  {
   "cell_type": "code",
   "execution_count": 729,
   "metadata": {},
   "outputs": [
    {
     "name": "stdout",
     "output_type": "stream",
     "text": [
      "Lise Adi Diger none veri sayisi : 60392\n"
     ]
    },
    {
     "data": {
      "text/plain": [
       "Lise Adi Diger\n",
       "Atatürk Anadolu Lisesi         8\n",
       "Beşiktaş Anadolu Lisesi        7\n",
       "Açıköğretim lisesi             6\n",
       "Uşak Fen Lisesi                6\n",
       "Kocaeli Anadolu Lisesi         6\n",
       "                              ..\n",
       "Seyyid Burhaneddin ATL         1\n",
       "Süleyman Çelebi                1\n",
       "Bitls Ticaret meslek lisesi    1\n",
       "Van Fen Lisesi                 1\n",
       "büyük çiğli anadolu lisesi     1\n",
       "Name: count, Length: 4010, dtype: int64"
      ]
     },
     "execution_count": 729,
     "metadata": {},
     "output_type": "execute_result"
    }
   ],
   "source": [
    "print(f\"Lise Adi Diger none veri sayisi : {train[\"Lise Adi Diger\"].isna().sum()}\")\n",
    "train[\"Lise Adi Diger\"].value_counts()"
   ]
  },
  {
   "cell_type": "code",
   "execution_count": 730,
   "metadata": {},
   "outputs": [
    {
     "name": "stdout",
     "output_type": "stream",
     "text": [
      "603                   İstanbul Alman Lisesi\n",
      "605           Mugla Anadolu öğretmen Lisesi\n",
      "607                     imkb anadalo lisesi\n",
      "609    Orta Doğu Teknik Üniversitesi Koleji\n",
      "616                   Diltaş Anadolu Lisesi\n",
      "Name: Lise Adi Diger, dtype: object\n",
      "Lise Adi Diger none veri sayisi : 275\n"
     ]
    }
   ],
   "source": [
    "print(train[train[\"Lise Adi\"] == \"------\"][\"Lise Adi Diger\"].head())\n",
    "print(f\"Lise Adi Diger none veri sayisi : {train[train[\"Lise Adi\"] == \"------\"][\"Lise Adi Diger\"].isna().sum()}\")"
   ]
  },
  {
   "cell_type": "code",
   "execution_count": 731,
   "metadata": {},
   "outputs": [
    {
     "name": "stdout",
     "output_type": "stream",
     "text": [
      "Lise Adi none veri sayisi : 659\n"
     ]
    },
    {
     "data": {
      "text/plain": [
       "Lise Adi\n",
       "Atatürk Lisesi                                               199\n",
       "Açık öğretim lisesi                                          163\n",
       "Açık Öğretim Lisesi                                          157\n",
       "Cumhuriyet Anadolu Lisesi                                    147\n",
       "Atatürk Anadolu Lisesi                                       143\n",
       "                                                            ... \n",
       "özel İstanbul Beylikdüzü temel lisesi                          1\n",
       "GemlikTİcaret Meslek Lisesi                                    1\n",
       "Beşir Balcıoğlu Anadolu Lisesi-KRK Szilady Aron Gimnazium      1\n",
       "Istanbulluoğlu Anadolu Öğretmen lisesi                         1\n",
       "Samsun Terme Karadeniz mesleki teknik Anadolu lisesi           1\n",
       "Name: count, Length: 33881, dtype: int64"
      ]
     },
     "execution_count": 731,
     "metadata": {},
     "output_type": "execute_result"
    }
   ],
   "source": [
    "train.loc[train[\"Lise Adi\"] == '------',\"Lise Adi\"] = train[\"Lise Adi Diger\"]\n",
    "print(f\"Lise Adi none veri sayisi : {train[\"Lise Adi\"].isna().sum()}\")\n",
    "train[\"Lise Adi\"].value_counts()"
   ]
  },
  {
   "cell_type": "code",
   "execution_count": 732,
   "metadata": {},
   "outputs": [],
   "source": [
    "train.loc[(train[\"Lise Adi\"] == '------') | (train[\"Lise Adi\"].isna()), \"Lise Adi\"] = train[\"Lise Adi Diger\"]"
   ]
  },
  {
   "cell_type": "code",
   "execution_count": 733,
   "metadata": {},
   "outputs": [
    {
     "name": "stdout",
     "output_type": "stream",
     "text": [
      "Lise Adi none veri sayisi : 659\n"
     ]
    },
    {
     "data": {
      "text/plain": [
       "Lise Adi\n",
       "Atatürk Lisesi                                               199\n",
       "Açık öğretim lisesi                                          163\n",
       "Açık Öğretim Lisesi                                          157\n",
       "Cumhuriyet Anadolu Lisesi                                    147\n",
       "Atatürk Anadolu Lisesi                                       143\n",
       "                                                            ... \n",
       "özel İstanbul Beylikdüzü temel lisesi                          1\n",
       "GemlikTİcaret Meslek Lisesi                                    1\n",
       "Beşir Balcıoğlu Anadolu Lisesi-KRK Szilady Aron Gimnazium      1\n",
       "Istanbulluoğlu Anadolu Öğretmen lisesi                         1\n",
       "Samsun Terme Karadeniz mesleki teknik Anadolu lisesi           1\n",
       "Name: count, Length: 33881, dtype: int64"
      ]
     },
     "execution_count": 733,
     "metadata": {},
     "output_type": "execute_result"
    }
   ],
   "source": [
    "print(f\"Lise Adi none veri sayisi : {train[\"Lise Adi\"].isna().sum()}\")\n",
    "train[\"Lise Adi\"].value_counts()"
   ]
  }
 ],
 "metadata": {
  "kernelspec": {
   "display_name": "Python 3",
   "language": "python",
   "name": "python3"
  },
  "language_info": {
   "codemirror_mode": {
    "name": "ipython",
    "version": 3
   },
   "file_extension": ".py",
   "mimetype": "text/x-python",
   "name": "python",
   "nbconvert_exporter": "python",
   "pygments_lexer": "ipython3",
   "version": "3.12.4"
  }
 },
 "nbformat": 4,
 "nbformat_minor": 2
}
